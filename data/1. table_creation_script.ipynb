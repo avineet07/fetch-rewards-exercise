{
 "cells": [
  {
   "cell_type": "code",
   "execution_count": 1,
   "metadata": {},
   "outputs": [],
   "source": [
    "import numpy as np, pandas as pd, os, sqlite3, json"
   ]
  },
  {
   "cell_type": "code",
   "execution_count": 2,
   "metadata": {},
   "outputs": [],
   "source": [
    "# Function to create SQLite database and tables\n",
    "def create_database_and_tables():\n",
    "    # Connect to SQLite database (or create if it doesn't exist)\n",
    "    conn = sqlite3.connect('datalake.db')\n",
    "    cursor = conn.cursor()\n",
    "\n",
    "    # Create tables\n",
    "    # Create users table\n",
    "    cursor.execute('''CREATE TABLE IF NOT EXISTS users (\n",
    "                    id TEXT,\n",
    "                    active INTEGER,\n",
    "                    createdDate INTEGER,\n",
    "                    lastLogin INTEGER,\n",
    "                    role TEXT,\n",
    "                    signUpSource TEXT,\n",
    "                    state TEXT\n",
    "                )''')\n",
    "\n",
    "    # Create receipts table\n",
    "    cursor.execute('''CREATE TABLE IF NOT EXISTS receipts (\n",
    "                    id TEXT PRIMARY KEY,\n",
    "                    bonusPointsEarned INTEGER,\n",
    "                    bonusPointsEarnedReason TEXT,\n",
    "                    createDate INTEGER,\n",
    "                    dateScanned INTEGER,\n",
    "                    finishedDate INTEGER,\n",
    "                    modifyDate INTEGER,\n",
    "                    pointsAwardedDate INTEGER,\n",
    "                    pointsEarned REAL,\n",
    "                    purchaseDate INTEGER,\n",
    "                    purchasedItemCount INTEGER,\n",
    "                    rewardsReceiptStatus TEXT,\n",
    "                    totalSpent REAL,\n",
    "                    userId TEXT\n",
    "                )''')\n",
    "\n",
    "# Create brands table\n",
    "    cursor.execute('''CREATE TABLE IF NOT EXISTS brands (\n",
    "                    id TEXT PRIMARY KEY,\n",
    "                    name TEXT,\n",
    "                    cpg_ref TEXT,\n",
    "                    cpg_id TEXT,\n",
    "                    category TEXT,\n",
    "                    categoryCode TEXT,\n",
    "                    barcode TEXT,\n",
    "                    brandCode TEXT,\n",
    "                    topBrand INTEGER\n",
    "                )''')\n",
    "\n",
    "    conn.commit()\n",
    "    conn.close()\n",
    "\n"
   ]
  },
  {
   "cell_type": "code",
   "execution_count": 3,
   "metadata": {},
   "outputs": [],
   "source": [
    "create_database_and_tables()"
   ]
  },
  {
   "cell_type": "code",
   "execution_count": 4,
   "metadata": {},
   "outputs": [],
   "source": []
  },
  {
   "cell_type": "code",
   "execution_count": 5,
   "metadata": {},
   "outputs": [
    {
     "data": {
      "text/plain": [
       "[('users',),\n",
       " ('receipts',),\n",
       " ('sqlite_autoindex_receipts_1',),\n",
       " ('brands',),\n",
       " ('sqlite_autoindex_brands_1',)]"
      ]
     },
     "execution_count": 5,
     "metadata": {},
     "output_type": "execute_result"
    }
   ],
   "source": [
    "# Fetching the table \n",
    "res = cursor.execute(\"select name from sqlite_master\")\n",
    "res.fetchall()"
   ]
  },
  {
   "cell_type": "code",
   "execution_count": 6,
   "metadata": {},
   "outputs": [],
   "source": [
    "# Read and insert data from file 1 (users)\n",
    "with open('users.json') as f:\n",
    "    for line in f:\n",
    "        user_data = json.loads(line)\n",
    "        user_id = user_data.get('_id', {}).get('$oid', None)\n",
    "        active = user_data.get('active', None)\n",
    "        created_date = user_data.get('createdDate', {}).get('$date', None)\n",
    "        last_login = user_data.get('lastLogin', {}).get('$date', None)\n",
    "        role = user_data.get('role', None)\n",
    "        signUpSource = user_data.get('signUpSource', None)\n",
    "        state = user_data.get('state', None)\n",
    "\n",
    "        cursor.execute('''INSERT INTO users VALUES (?, ?, ?, ?, ?, ?, ?)''',\n",
    "                       (user_id, active, created_date, last_login, role, signUpSource, state))\n",
    "\n",
    "# Read and insert data from file 2 (receipts)\n",
    "with open('receipts.json') as f:\n",
    "    for line in f:\n",
    "        receipt_data = json.loads(line)\n",
    "        receipt_id = receipt_data.get('_id', {}).get('$oid', None)\n",
    "        bonus_points_earned = receipt_data.get('bonusPointsEarned', None)\n",
    "        bonus_points_earned_reason = receipt_data.get('bonusPointsEarnedReason', None)\n",
    "        create_date = receipt_data.get('createDate', {}).get('$date', None)\n",
    "        date_scanned = receipt_data.get('dateScanned', {}).get('$date', None)\n",
    "        finished_date = receipt_data.get('finishedDate', {}).get('$date', None)\n",
    "        modify_date = receipt_data.get('modifyDate', {}).get('$date', None)\n",
    "        points_awarded_date = receipt_data.get('pointsAwardedDate', {}).get('$date', None)\n",
    "        points_earned = receipt_data.get('pointsEarned', None)\n",
    "        purchase_date = receipt_data.get('purchaseDate', {}).get('$date', None)\n",
    "        purchased_item_count = receipt_data.get('purchasedItemCount', None)\n",
    "        rewards_receipt_status = receipt_data.get('rewardsReceiptStatus', None)\n",
    "        total_spent = receipt_data.get('totalSpent', None)\n",
    "        user_id = receipt_data.get('userId', None)\n",
    "\n",
    "        cursor.execute('''INSERT INTO receipts VALUES (?, ?, ?, ?, ?, ?, ?, ?, ?, ?, ?, ?, ?, ?)''',\n",
    "                       (receipt_id, bonus_points_earned, bonus_points_earned_reason, create_date, date_scanned,\n",
    "                        finished_date, modify_date, points_awarded_date, points_earned, purchase_date,\n",
    "                        purchased_item_count, rewards_receipt_status, total_spent, user_id))\n",
    "\n",
    "# Read and insert data from file 3 (brands)\n",
    "with open('brands.json') as f:\n",
    "    for line in f:\n",
    "        brand_data = json.loads(line)\n",
    "        brand_id = brand_data.get('_id', {}).get('$oid', None)\n",
    "        name = brand_data.get('name', None)\n",
    "        cpg_ref = brand_data.get('cpg', {}).get('$ref', None)\n",
    "        cpg_id = brand_data.get('cpg', {}).get('$id', {}).get('$oid', None)\n",
    "        category = brand_data.get('category', None)\n",
    "        category_code = brand_data.get('categoryCode', None)\n",
    "        barcode = brand_data.get('barcode', None)\n",
    "        brand_code = brand_data.get('brandCode', None)\n",
    "        top_brand = int(brand_data.get('topBrand', False))\n",
    "\n",
    "        cursor.execute('''INSERT INTO brands VALUES (?, ?, ?, ?, ?, ?, ?, ?, ?)''',\n",
    "                       (brand_id, name, cpg_ref, cpg_id, category, category_code, barcode, brand_code, top_brand))\n",
    "\n",
    "# Commit changes and close connection\n",
    "conn.commit()\n",
    "conn.close()"
   ]
  },
  {
   "cell_type": "code",
   "execution_count": 15,
   "metadata": {},
   "outputs": [
    {
     "data": {
      "text/plain": [
       "[(495, 212)]"
      ]
     },
     "execution_count": 15,
     "metadata": {},
     "output_type": "execute_result"
    }
   ],
   "source": [
    "conn = sqlite3.connect('datalake.db')\n",
    "cursor = conn.cursor()\n",
    "res = cursor.execute(\"select count(id), count(distinct id) from users limit 10\")\n",
    "res.fetchall()"
   ]
  },
  {
   "cell_type": "code",
   "execution_count": 20,
   "metadata": {},
   "outputs": [
    {
     "data": {
      "text/plain": [
       "[(1119, 1119)]"
      ]
     },
     "execution_count": 20,
     "metadata": {},
     "output_type": "execute_result"
    }
   ],
   "source": [
    "res = cursor.execute(\"select count(id), count(distinct id) from receipts\")\n",
    "res.fetchall()"
   ]
  },
  {
   "cell_type": "code",
   "execution_count": 17,
   "metadata": {},
   "outputs": [
    {
     "data": {
      "text/plain": [
       "[(1167,)]"
      ]
     },
     "execution_count": 17,
     "metadata": {},
     "output_type": "execute_result"
    }
   ],
   "source": [
    "res = cursor.execute(\"select count(*) from brands\")\n",
    "res.fetchall()"
   ]
  },
  {
   "cell_type": "code",
   "execution_count": null,
   "metadata": {},
   "outputs": [],
   "source": []
  }
 ],
 "metadata": {
  "kernelspec": {
   "display_name": "base",
   "language": "python",
   "name": "python3"
  },
  "language_info": {
   "codemirror_mode": {
    "name": "ipython",
    "version": 3
   },
   "file_extension": ".py",
   "mimetype": "text/x-python",
   "name": "python",
   "nbconvert_exporter": "python",
   "pygments_lexer": "ipython3",
   "version": "3.9.7"
  }
 },
 "nbformat": 4,
 "nbformat_minor": 2
}
