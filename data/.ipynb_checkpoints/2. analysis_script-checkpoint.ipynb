{
 "cells": [
  {
   "cell_type": "code",
   "execution_count": 1,
   "id": "1f7de13f",
   "metadata": {},
   "outputs": [],
   "source": [
    "import numpy as np, pandas as pd, os, sqlite3\n",
    "from datetime import datetime as dt"
   ]
  },
  {
   "cell_type": "code",
   "execution_count": 2,
   "id": "6a6416b6",
   "metadata": {},
   "outputs": [],
   "source": [
    "conn = sqlite3.connect('datalake.db')\n",
    "cursor = conn.cursor()"
   ]
  },
  {
   "cell_type": "code",
   "execution_count": 3,
   "id": "acf558ca",
   "metadata": {},
   "outputs": [
    {
     "data": {
      "text/plain": [
       "[('users',),\n",
       " ('receipts',),\n",
       " ('sqlite_autoindex_receipts_1',),\n",
       " ('brands',),\n",
       " ('sqlite_autoindex_brands_1',)]"
      ]
     },
     "execution_count": 3,
     "metadata": {},
     "output_type": "execute_result"
    }
   ],
   "source": [
    "# Ensuring tables are present \n",
    "res = cursor.execute('''select name from sqlite_master''')\n",
    "res.fetchall()"
   ]
  },
  {
   "cell_type": "markdown",
   "id": "08d5c956",
   "metadata": {},
   "source": [
    "## Data Quality Checks"
   ]
  },
  {
   "cell_type": "markdown",
   "id": "c4f2d4da",
   "metadata": {},
   "source": [
    "### 1. Users table"
   ]
  },
  {
   "cell_type": "code",
   "execution_count": 4,
   "id": "5ff47834",
   "metadata": {},
   "outputs": [],
   "source": [
    "users = pd.read_sql('''\n",
    "select id as user_id\n",
    ", active\n",
    ", date(DATETIME(ROUND(createdDate / 1000), 'unixepoch')) as reg_date\n",
    ", date(DATETIME(ROUND(lastLogin / 1000), 'unixepoch')) as last_login_date\n",
    ", signUpSource\n",
    ", state\n",
    "from users''', conn, parse_dates=['reg_date', 'last_login_date'])"
   ]
  },
  {
   "cell_type": "code",
   "execution_count": 5,
   "id": "3fd5a837",
   "metadata": {},
   "outputs": [
    {
     "data": {
      "text/html": [
       "<div>\n",
       "<style scoped>\n",
       "    .dataframe tbody tr th:only-of-type {\n",
       "        vertical-align: middle;\n",
       "    }\n",
       "\n",
       "    .dataframe tbody tr th {\n",
       "        vertical-align: top;\n",
       "    }\n",
       "\n",
       "    .dataframe thead th {\n",
       "        text-align: right;\n",
       "    }\n",
       "</style>\n",
       "<table border=\"1\" class=\"dataframe\">\n",
       "  <thead>\n",
       "    <tr style=\"text-align: right;\">\n",
       "      <th></th>\n",
       "      <th>user_id</th>\n",
       "      <th>active</th>\n",
       "      <th>reg_date</th>\n",
       "      <th>last_login_date</th>\n",
       "      <th>signUpSource</th>\n",
       "      <th>state</th>\n",
       "    </tr>\n",
       "  </thead>\n",
       "  <tbody>\n",
       "    <tr>\n",
       "      <th>268</th>\n",
       "      <td>600ed4815edb7811cde6b50b</td>\n",
       "      <td>1</td>\n",
       "      <td>2021-01-25</td>\n",
       "      <td>2021-01-25</td>\n",
       "      <td>Email</td>\n",
       "      <td>WI</td>\n",
       "    </tr>\n",
       "    <tr>\n",
       "      <th>172</th>\n",
       "      <td>6000d46cfb296c121a81b20c</td>\n",
       "      <td>1</td>\n",
       "      <td>2021-01-14</td>\n",
       "      <td>2021-01-14</td>\n",
       "      <td>Email</td>\n",
       "      <td>WI</td>\n",
       "    </tr>\n",
       "    <tr>\n",
       "      <th>478</th>\n",
       "      <td>54943462e4b07e684157a532</td>\n",
       "      <td>1</td>\n",
       "      <td>2014-12-19</td>\n",
       "      <td>2021-03-05</td>\n",
       "      <td>None</td>\n",
       "      <td>None</td>\n",
       "    </tr>\n",
       "    <tr>\n",
       "      <th>318</th>\n",
       "      <td>60118bcfa4b74c18d3a8c0d7</td>\n",
       "      <td>1</td>\n",
       "      <td>2021-01-27</td>\n",
       "      <td>2021-01-27</td>\n",
       "      <td>Email</td>\n",
       "      <td>WI</td>\n",
       "    </tr>\n",
       "    <tr>\n",
       "      <th>397</th>\n",
       "      <td>59c124bae4b0299e55b0f330</td>\n",
       "      <td>1</td>\n",
       "      <td>2017-09-19</td>\n",
       "      <td>2021-02-08</td>\n",
       "      <td>None</td>\n",
       "      <td>WI</td>\n",
       "    </tr>\n",
       "    <tr>\n",
       "      <th>280</th>\n",
       "      <td>600f008f4329897eac237bd8</td>\n",
       "      <td>1</td>\n",
       "      <td>2021-01-25</td>\n",
       "      <td>2021-01-25</td>\n",
       "      <td>Email</td>\n",
       "      <td>WI</td>\n",
       "    </tr>\n",
       "    <tr>\n",
       "      <th>54</th>\n",
       "      <td>5ff4ce33c3d63511e2a484b6</td>\n",
       "      <td>1</td>\n",
       "      <td>2021-01-05</td>\n",
       "      <td>2021-01-05</td>\n",
       "      <td>Email</td>\n",
       "      <td>WI</td>\n",
       "    </tr>\n",
       "    <tr>\n",
       "      <th>406</th>\n",
       "      <td>59c124bae4b0299e55b0f330</td>\n",
       "      <td>1</td>\n",
       "      <td>2017-09-19</td>\n",
       "      <td>2021-02-08</td>\n",
       "      <td>None</td>\n",
       "      <td>WI</td>\n",
       "    </tr>\n",
       "    <tr>\n",
       "      <th>53</th>\n",
       "      <td>5ff4ce3dc3d63511e2a484dc</td>\n",
       "      <td>1</td>\n",
       "      <td>2021-01-05</td>\n",
       "      <td>2021-01-05</td>\n",
       "      <td>Email</td>\n",
       "      <td>WI</td>\n",
       "    </tr>\n",
       "    <tr>\n",
       "      <th>235</th>\n",
       "      <td>6008893b633aab121bb8e0a9</td>\n",
       "      <td>1</td>\n",
       "      <td>2021-01-20</td>\n",
       "      <td>2021-01-20</td>\n",
       "      <td>Email</td>\n",
       "      <td>WI</td>\n",
       "    </tr>\n",
       "  </tbody>\n",
       "</table>\n",
       "</div>"
      ],
      "text/plain": [
       "                      user_id  active   reg_date last_login_date signUpSource  \\\n",
       "268  600ed4815edb7811cde6b50b       1 2021-01-25      2021-01-25        Email   \n",
       "172  6000d46cfb296c121a81b20c       1 2021-01-14      2021-01-14        Email   \n",
       "478  54943462e4b07e684157a532       1 2014-12-19      2021-03-05         None   \n",
       "318  60118bcfa4b74c18d3a8c0d7       1 2021-01-27      2021-01-27        Email   \n",
       "397  59c124bae4b0299e55b0f330       1 2017-09-19      2021-02-08         None   \n",
       "280  600f008f4329897eac237bd8       1 2021-01-25      2021-01-25        Email   \n",
       "54   5ff4ce33c3d63511e2a484b6       1 2021-01-05      2021-01-05        Email   \n",
       "406  59c124bae4b0299e55b0f330       1 2017-09-19      2021-02-08         None   \n",
       "53   5ff4ce3dc3d63511e2a484dc       1 2021-01-05      2021-01-05        Email   \n",
       "235  6008893b633aab121bb8e0a9       1 2021-01-20      2021-01-20        Email   \n",
       "\n",
       "    state  \n",
       "268    WI  \n",
       "172    WI  \n",
       "478  None  \n",
       "318    WI  \n",
       "397    WI  \n",
       "280    WI  \n",
       "54     WI  \n",
       "406    WI  \n",
       "53     WI  \n",
       "235    WI  "
      ]
     },
     "execution_count": 5,
     "metadata": {},
     "output_type": "execute_result"
    }
   ],
   "source": [
    "users.sample(10)"
   ]
  },
  {
   "cell_type": "code",
   "execution_count": 6,
   "id": "d706806a",
   "metadata": {},
   "outputs": [
    {
     "data": {
      "text/plain": [
       "user_id                    object\n",
       "active                      int64\n",
       "reg_date           datetime64[ns]\n",
       "last_login_date    datetime64[ns]\n",
       "signUpSource               object\n",
       "state                      object\n",
       "dtype: object"
      ]
     },
     "execution_count": 6,
     "metadata": {},
     "output_type": "execute_result"
    }
   ],
   "source": [
    "users.dtypes"
   ]
  },
  {
   "cell_type": "code",
   "execution_count": 7,
   "id": "a2bdaea8",
   "metadata": {},
   "outputs": [
    {
     "data": {
      "text/plain": [
       "user_id             0\n",
       "active              0\n",
       "reg_date            0\n",
       "last_login_date    62\n",
       "signUpSource       48\n",
       "state              56\n",
       "dtype: int64"
      ]
     },
     "execution_count": 7,
     "metadata": {},
     "output_type": "execute_result"
    }
   ],
   "source": [
    "users.isnull().sum()"
   ]
  },
  {
   "cell_type": "code",
   "execution_count": 8,
   "id": "a7f0916f",
   "metadata": {},
   "outputs": [
    {
     "data": {
      "text/plain": [
       "user_id            0.000000\n",
       "active             0.000000\n",
       "reg_date           0.000000\n",
       "last_login_date    0.125253\n",
       "signUpSource       0.096970\n",
       "state              0.113131\n",
       "dtype: float64"
      ]
     },
     "execution_count": 8,
     "metadata": {},
     "output_type": "execute_result"
    }
   ],
   "source": [
    "users.isnull().sum()/len(users)"
   ]
  },
  {
   "cell_type": "code",
   "execution_count": 9,
   "id": "6c8dba46",
   "metadata": {},
   "outputs": [
    {
     "data": {
      "text/plain": [
       "1    494\n",
       "0      1\n",
       "Name: active, dtype: int64"
      ]
     },
     "execution_count": 9,
     "metadata": {},
     "output_type": "execute_result"
    }
   ],
   "source": [
    "#Values of Active Flag\n",
    "users['active'].value_counts()"
   ]
  },
  {
   "cell_type": "code",
   "execution_count": 10,
   "id": "b6a69ac8",
   "metadata": {},
   "outputs": [
    {
     "data": {
      "text/plain": [
       "WI    396\n",
       "NH     20\n",
       "AL     12\n",
       "OH      5\n",
       "IL      3\n",
       "KY      1\n",
       "CO      1\n",
       "SC      1\n",
       "Name: state, dtype: int64"
      ]
     },
     "execution_count": 10,
     "metadata": {},
     "output_type": "execute_result"
    }
   ],
   "source": [
    "#Values of State\n",
    "users['state'].value_counts()"
   ]
  },
  {
   "cell_type": "code",
   "execution_count": 11,
   "id": "e725cb27",
   "metadata": {},
   "outputs": [
    {
     "data": {
      "text/plain": [
       "Email     443\n",
       "Google      4\n",
       "Name: signUpSource, dtype: int64"
      ]
     },
     "execution_count": 11,
     "metadata": {},
     "output_type": "execute_result"
    }
   ],
   "source": [
    "#values of Signupsource\n",
    "users['signUpSource'].value_counts()"
   ]
  },
  {
   "cell_type": "code",
   "execution_count": 12,
   "id": "25d3ddd4",
   "metadata": {},
   "outputs": [
    {
     "data": {
      "text/html": [
       "<div>\n",
       "<style scoped>\n",
       "    .dataframe tbody tr th:only-of-type {\n",
       "        vertical-align: middle;\n",
       "    }\n",
       "\n",
       "    .dataframe tbody tr th {\n",
       "        vertical-align: top;\n",
       "    }\n",
       "\n",
       "    .dataframe thead th {\n",
       "        text-align: right;\n",
       "    }\n",
       "</style>\n",
       "<table border=\"1\" class=\"dataframe\">\n",
       "  <thead>\n",
       "    <tr style=\"text-align: right;\">\n",
       "      <th></th>\n",
       "      <th>user_id</th>\n",
       "      <th>active</th>\n",
       "      <th>reg_date</th>\n",
       "      <th>last_login_date</th>\n",
       "      <th>signUpSource</th>\n",
       "      <th>state</th>\n",
       "    </tr>\n",
       "  </thead>\n",
       "  <tbody>\n",
       "  </tbody>\n",
       "</table>\n",
       "</div>"
      ],
      "text/plain": [
       "Empty DataFrame\n",
       "Columns: [user_id, active, reg_date, last_login_date, signUpSource, state]\n",
       "Index: []"
      ]
     },
     "execution_count": 12,
     "metadata": {},
     "output_type": "execute_result"
    }
   ],
   "source": [
    "# Checking whether lastlogindate is less than registration date\n",
    "users.loc[users['last_login_date'] < users['reg_date']]"
   ]
  },
  {
   "cell_type": "code",
   "execution_count": 13,
   "id": "8bad5ef4",
   "metadata": {},
   "outputs": [
    {
     "name": "stdout",
     "output_type": "stream",
     "text": [
      "\n",
      "Total number of records in users table: 495 \n",
      "\n",
      "Total number of unique users: 212\n",
      "      \n"
     ]
    }
   ],
   "source": [
    "print('''\n",
    "Total number of records in users table: {0} \\n\n",
    "Total number of unique users: {1}\n",
    "      '''.format(users.shape[0], users['user_id'].nunique()))"
   ]
  },
  {
   "cell_type": "markdown",
   "id": "39209cf6",
   "metadata": {},
   "source": [
    "The number of unique users in the users table is 212 only. However the users table has 495 records.\n",
    "Ideally the table must be unique in terms of id column. \n",
    "Upon further inspection it was found out that theses are duplicated rows (other column values being the same). A unique key contraint would have helped to avoid that"
   ]
  },
  {
   "cell_type": "markdown",
   "id": "ca7010fe",
   "metadata": {},
   "source": [
    "### 2. Receipts table"
   ]
  },
  {
   "cell_type": "code",
   "execution_count": 14,
   "id": "aef9c45a",
   "metadata": {},
   "outputs": [],
   "source": [
    "receipts = pd.read_sql('''\n",
    "select id as receipt_id\n",
    ",bonusPointsEarned\n",
    ",bonusPointsEarnedReason\n",
    ",(DATETIME(ROUND(createDate / 1000), 'unixepoch')) as created_date\n",
    ",(DATETIME(ROUND(dateScanned / 1000), 'unixepoch')) as scanned_date\n",
    ",(DATETIME(ROUND(finishedDate / 1000), 'unixepoch')) as finished_date\n",
    ",(DATETIME(ROUND(modifyDate / 1000), 'unixepoch')) as modify_date\n",
    ",(DATETIME(ROUND(pointsAwardedDate / 1000), 'unixepoch')) as points_awarded_date\n",
    ",(DATETIME(ROUND(purchaseDate / 1000), 'unixepoch')) as purchase_date\n",
    "\n",
    ",pointsEarned\n",
    ",totalSpent\n",
    ",rewardsReceiptStatus\n",
    ",userId as user_id\n",
    "from receipts''', conn, parse_dates=['created_date', 'scanned_date', 'finished_date',\n",
    "                                     'modify_date', 'points_awarded_date', 'purchase_date'])"
   ]
  },
  {
   "cell_type": "code",
   "execution_count": 15,
   "id": "91687543",
   "metadata": {},
   "outputs": [
    {
     "data": {
      "text/html": [
       "<div>\n",
       "<style scoped>\n",
       "    .dataframe tbody tr th:only-of-type {\n",
       "        vertical-align: middle;\n",
       "    }\n",
       "\n",
       "    .dataframe tbody tr th {\n",
       "        vertical-align: top;\n",
       "    }\n",
       "\n",
       "    .dataframe thead th {\n",
       "        text-align: right;\n",
       "    }\n",
       "</style>\n",
       "<table border=\"1\" class=\"dataframe\">\n",
       "  <thead>\n",
       "    <tr style=\"text-align: right;\">\n",
       "      <th></th>\n",
       "      <th>receipt_id</th>\n",
       "      <th>bonusPointsEarned</th>\n",
       "      <th>bonusPointsEarnedReason</th>\n",
       "      <th>created_date</th>\n",
       "      <th>scanned_date</th>\n",
       "      <th>finished_date</th>\n",
       "      <th>modify_date</th>\n",
       "      <th>points_awarded_date</th>\n",
       "      <th>purchase_date</th>\n",
       "      <th>pointsEarned</th>\n",
       "      <th>totalSpent</th>\n",
       "      <th>rewardsReceiptStatus</th>\n",
       "      <th>user_id</th>\n",
       "    </tr>\n",
       "  </thead>\n",
       "  <tbody>\n",
       "    <tr>\n",
       "      <th>958</th>\n",
       "      <td>6025b2e10a7214d8e90002a3</td>\n",
       "      <td>NaN</td>\n",
       "      <td>None</td>\n",
       "      <td>2021-02-11 22:42:41</td>\n",
       "      <td>2021-02-11 22:42:41</td>\n",
       "      <td>NaT</td>\n",
       "      <td>2021-02-11 22:42:41</td>\n",
       "      <td>NaT</td>\n",
       "      <td>NaT</td>\n",
       "      <td>NaN</td>\n",
       "      <td>NaN</td>\n",
       "      <td>SUBMITTED</td>\n",
       "      <td>5fc961c3b8cfca11a077dd33</td>\n",
       "    </tr>\n",
       "    <tr>\n",
       "      <th>814</th>\n",
       "      <td>601e173d0a720f053c000032</td>\n",
       "      <td>NaN</td>\n",
       "      <td>None</td>\n",
       "      <td>2021-02-06 04:12:45</td>\n",
       "      <td>2021-02-06 04:12:45</td>\n",
       "      <td>NaT</td>\n",
       "      <td>2021-02-06 04:12:45</td>\n",
       "      <td>NaT</td>\n",
       "      <td>NaT</td>\n",
       "      <td>NaN</td>\n",
       "      <td>NaN</td>\n",
       "      <td>SUBMITTED</td>\n",
       "      <td>5fc961c3b8cfca11a077dd33</td>\n",
       "    </tr>\n",
       "    <tr>\n",
       "      <th>200</th>\n",
       "      <td>5ffcb4ad0a720f0515000009</td>\n",
       "      <td>5.0</td>\n",
       "      <td>All-receipts receipt bonus</td>\n",
       "      <td>2021-01-11 20:27:25</td>\n",
       "      <td>2021-01-11 20:27:25</td>\n",
       "      <td>2021-01-11 20:27:30</td>\n",
       "      <td>2021-01-11 20:27:30</td>\n",
       "      <td>2021-01-11 20:27:25</td>\n",
       "      <td>2021-01-10 20:27:25</td>\n",
       "      <td>5.0</td>\n",
       "      <td>1.0</td>\n",
       "      <td>FINISHED</td>\n",
       "      <td>5ffcb47d04929111f6e9256c</td>\n",
       "    </tr>\n",
       "    <tr>\n",
       "      <th>608</th>\n",
       "      <td>6015637b0a7214ad50000175</td>\n",
       "      <td>NaN</td>\n",
       "      <td>None</td>\n",
       "      <td>2021-01-30 13:47:39</td>\n",
       "      <td>2021-01-30 13:47:39</td>\n",
       "      <td>NaT</td>\n",
       "      <td>2021-01-30 13:47:39</td>\n",
       "      <td>NaT</td>\n",
       "      <td>NaT</td>\n",
       "      <td>NaN</td>\n",
       "      <td>NaN</td>\n",
       "      <td>SUBMITTED</td>\n",
       "      <td>5fc961c3b8cfca11a077dd33</td>\n",
       "    </tr>\n",
       "    <tr>\n",
       "      <th>1084</th>\n",
       "      <td>603babdb0a720fde100002e1</td>\n",
       "      <td>NaN</td>\n",
       "      <td>None</td>\n",
       "      <td>2021-02-28 14:42:35</td>\n",
       "      <td>2021-02-28 14:42:35</td>\n",
       "      <td>NaT</td>\n",
       "      <td>2021-02-28 14:42:35</td>\n",
       "      <td>NaT</td>\n",
       "      <td>NaT</td>\n",
       "      <td>NaN</td>\n",
       "      <td>NaN</td>\n",
       "      <td>SUBMITTED</td>\n",
       "      <td>5fc961c3b8cfca11a077dd33</td>\n",
       "    </tr>\n",
       "    <tr>\n",
       "      <th>26</th>\n",
       "      <td>5ff1e1cf0a720f0523000570</td>\n",
       "      <td>5.0</td>\n",
       "      <td>All-receipts receipt bonus</td>\n",
       "      <td>2021-01-03 15:25:03</td>\n",
       "      <td>2021-01-03 15:25:03</td>\n",
       "      <td>2021-01-03 15:25:09</td>\n",
       "      <td>2021-01-03 15:25:09</td>\n",
       "      <td>2021-01-03 15:25:03</td>\n",
       "      <td>2021-01-02 15:25:03</td>\n",
       "      <td>5.0</td>\n",
       "      <td>1.0</td>\n",
       "      <td>FINISHED</td>\n",
       "      <td>5ff1e194b6a9d73a3a9f1052</td>\n",
       "    </tr>\n",
       "    <tr>\n",
       "      <th>637</th>\n",
       "      <td>6016bad70a7214ad50000205</td>\n",
       "      <td>NaN</td>\n",
       "      <td>None</td>\n",
       "      <td>2021-01-31 14:12:39</td>\n",
       "      <td>2021-01-31 14:12:39</td>\n",
       "      <td>NaT</td>\n",
       "      <td>2021-01-31 14:12:39</td>\n",
       "      <td>NaT</td>\n",
       "      <td>NaT</td>\n",
       "      <td>NaN</td>\n",
       "      <td>NaN</td>\n",
       "      <td>SUBMITTED</td>\n",
       "      <td>5fc961c3b8cfca11a077dd33</td>\n",
       "    </tr>\n",
       "    <tr>\n",
       "      <th>689</th>\n",
       "      <td>6018ace50a7214ad28000057</td>\n",
       "      <td>NaN</td>\n",
       "      <td>None</td>\n",
       "      <td>2021-02-02 01:37:41</td>\n",
       "      <td>2021-02-02 01:37:41</td>\n",
       "      <td>NaT</td>\n",
       "      <td>2021-02-02 01:37:41</td>\n",
       "      <td>NaT</td>\n",
       "      <td>NaT</td>\n",
       "      <td>NaN</td>\n",
       "      <td>NaN</td>\n",
       "      <td>SUBMITTED</td>\n",
       "      <td>5fc961c3b8cfca11a077dd33</td>\n",
       "    </tr>\n",
       "    <tr>\n",
       "      <th>521</th>\n",
       "      <td>6012e65b0a720f05f800003d</td>\n",
       "      <td>NaN</td>\n",
       "      <td>None</td>\n",
       "      <td>2021-01-28 16:29:15</td>\n",
       "      <td>2021-01-28 16:29:15</td>\n",
       "      <td>2021-01-28 16:29:16</td>\n",
       "      <td>2021-01-28 16:29:16</td>\n",
       "      <td>2021-01-28 16:29:16</td>\n",
       "      <td>2021-01-28 00:00:00</td>\n",
       "      <td>840.0</td>\n",
       "      <td>84.0</td>\n",
       "      <td>FINISHED</td>\n",
       "      <td>5fa41775898c7a11a6bcef3e</td>\n",
       "    </tr>\n",
       "    <tr>\n",
       "      <th>792</th>\n",
       "      <td>601e7d2e0a720f053c000067</td>\n",
       "      <td>NaN</td>\n",
       "      <td>None</td>\n",
       "      <td>2021-02-06 11:27:42</td>\n",
       "      <td>2021-02-06 11:27:42</td>\n",
       "      <td>NaT</td>\n",
       "      <td>2021-02-06 11:27:42</td>\n",
       "      <td>NaT</td>\n",
       "      <td>NaT</td>\n",
       "      <td>NaN</td>\n",
       "      <td>NaN</td>\n",
       "      <td>SUBMITTED</td>\n",
       "      <td>5fc961c3b8cfca11a077dd33</td>\n",
       "    </tr>\n",
       "  </tbody>\n",
       "</table>\n",
       "</div>"
      ],
      "text/plain": [
       "                    receipt_id  bonusPointsEarned     bonusPointsEarnedReason  \\\n",
       "958   6025b2e10a7214d8e90002a3                NaN                        None   \n",
       "814   601e173d0a720f053c000032                NaN                        None   \n",
       "200   5ffcb4ad0a720f0515000009                5.0  All-receipts receipt bonus   \n",
       "608   6015637b0a7214ad50000175                NaN                        None   \n",
       "1084  603babdb0a720fde100002e1                NaN                        None   \n",
       "26    5ff1e1cf0a720f0523000570                5.0  All-receipts receipt bonus   \n",
       "637   6016bad70a7214ad50000205                NaN                        None   \n",
       "689   6018ace50a7214ad28000057                NaN                        None   \n",
       "521   6012e65b0a720f05f800003d                NaN                        None   \n",
       "792   601e7d2e0a720f053c000067                NaN                        None   \n",
       "\n",
       "            created_date        scanned_date       finished_date  \\\n",
       "958  2021-02-11 22:42:41 2021-02-11 22:42:41                 NaT   \n",
       "814  2021-02-06 04:12:45 2021-02-06 04:12:45                 NaT   \n",
       "200  2021-01-11 20:27:25 2021-01-11 20:27:25 2021-01-11 20:27:30   \n",
       "608  2021-01-30 13:47:39 2021-01-30 13:47:39                 NaT   \n",
       "1084 2021-02-28 14:42:35 2021-02-28 14:42:35                 NaT   \n",
       "26   2021-01-03 15:25:03 2021-01-03 15:25:03 2021-01-03 15:25:09   \n",
       "637  2021-01-31 14:12:39 2021-01-31 14:12:39                 NaT   \n",
       "689  2021-02-02 01:37:41 2021-02-02 01:37:41                 NaT   \n",
       "521  2021-01-28 16:29:15 2021-01-28 16:29:15 2021-01-28 16:29:16   \n",
       "792  2021-02-06 11:27:42 2021-02-06 11:27:42                 NaT   \n",
       "\n",
       "             modify_date points_awarded_date       purchase_date  \\\n",
       "958  2021-02-11 22:42:41                 NaT                 NaT   \n",
       "814  2021-02-06 04:12:45                 NaT                 NaT   \n",
       "200  2021-01-11 20:27:30 2021-01-11 20:27:25 2021-01-10 20:27:25   \n",
       "608  2021-01-30 13:47:39                 NaT                 NaT   \n",
       "1084 2021-02-28 14:42:35                 NaT                 NaT   \n",
       "26   2021-01-03 15:25:09 2021-01-03 15:25:03 2021-01-02 15:25:03   \n",
       "637  2021-01-31 14:12:39                 NaT                 NaT   \n",
       "689  2021-02-02 01:37:41                 NaT                 NaT   \n",
       "521  2021-01-28 16:29:16 2021-01-28 16:29:16 2021-01-28 00:00:00   \n",
       "792  2021-02-06 11:27:42                 NaT                 NaT   \n",
       "\n",
       "      pointsEarned  totalSpent rewardsReceiptStatus                   user_id  \n",
       "958            NaN         NaN            SUBMITTED  5fc961c3b8cfca11a077dd33  \n",
       "814            NaN         NaN            SUBMITTED  5fc961c3b8cfca11a077dd33  \n",
       "200            5.0         1.0             FINISHED  5ffcb47d04929111f6e9256c  \n",
       "608            NaN         NaN            SUBMITTED  5fc961c3b8cfca11a077dd33  \n",
       "1084           NaN         NaN            SUBMITTED  5fc961c3b8cfca11a077dd33  \n",
       "26             5.0         1.0             FINISHED  5ff1e194b6a9d73a3a9f1052  \n",
       "637            NaN         NaN            SUBMITTED  5fc961c3b8cfca11a077dd33  \n",
       "689            NaN         NaN            SUBMITTED  5fc961c3b8cfca11a077dd33  \n",
       "521          840.0        84.0             FINISHED  5fa41775898c7a11a6bcef3e  \n",
       "792            NaN         NaN            SUBMITTED  5fc961c3b8cfca11a077dd33  "
      ]
     },
     "execution_count": 15,
     "metadata": {},
     "output_type": "execute_result"
    }
   ],
   "source": [
    "receipts.sample(10)"
   ]
  },
  {
   "cell_type": "code",
   "execution_count": 16,
   "id": "eedab459",
   "metadata": {},
   "outputs": [
    {
     "data": {
      "text/plain": [
       "receipt_id                         object\n",
       "bonusPointsEarned                 float64\n",
       "bonusPointsEarnedReason            object\n",
       "created_date               datetime64[ns]\n",
       "scanned_date               datetime64[ns]\n",
       "finished_date              datetime64[ns]\n",
       "modify_date                datetime64[ns]\n",
       "points_awarded_date        datetime64[ns]\n",
       "purchase_date              datetime64[ns]\n",
       "pointsEarned                      float64\n",
       "totalSpent                        float64\n",
       "rewardsReceiptStatus               object\n",
       "user_id                            object\n",
       "dtype: object"
      ]
     },
     "execution_count": 16,
     "metadata": {},
     "output_type": "execute_result"
    }
   ],
   "source": [
    "receipts.dtypes"
   ]
  },
  {
   "cell_type": "code",
   "execution_count": 17,
   "id": "bc8d12c7",
   "metadata": {},
   "outputs": [
    {
     "data": {
      "text/plain": [
       "receipt_id                   0\n",
       "bonusPointsEarned          575\n",
       "bonusPointsEarnedReason    575\n",
       "created_date                 0\n",
       "scanned_date                 0\n",
       "finished_date              551\n",
       "modify_date                  0\n",
       "points_awarded_date        582\n",
       "purchase_date              448\n",
       "pointsEarned               510\n",
       "totalSpent                 435\n",
       "rewardsReceiptStatus         0\n",
       "user_id                      0\n",
       "dtype: int64"
      ]
     },
     "execution_count": 17,
     "metadata": {},
     "output_type": "execute_result"
    }
   ],
   "source": [
    "receipts.isnull().sum()"
   ]
  },
  {
   "cell_type": "code",
   "execution_count": 18,
   "id": "df05e254",
   "metadata": {},
   "outputs": [
    {
     "data": {
      "text/plain": [
       "receipt_id                 0.000000\n",
       "bonusPointsEarned          0.513852\n",
       "bonusPointsEarnedReason    0.513852\n",
       "created_date               0.000000\n",
       "scanned_date               0.000000\n",
       "finished_date              0.492404\n",
       "modify_date                0.000000\n",
       "points_awarded_date        0.520107\n",
       "purchase_date              0.400357\n",
       "pointsEarned               0.455764\n",
       "totalSpent                 0.388740\n",
       "rewardsReceiptStatus       0.000000\n",
       "user_id                    0.000000\n",
       "dtype: float64"
      ]
     },
     "execution_count": 18,
     "metadata": {},
     "output_type": "execute_result"
    }
   ],
   "source": [
    "receipts.isnull().sum()/len(receipts)"
   ]
  },
  {
   "cell_type": "code",
   "execution_count": 19,
   "id": "6bdab563",
   "metadata": {},
   "outputs": [
    {
     "data": {
      "text/plain": [
       "FINISHED     518\n",
       "SUBMITTED    434\n",
       "REJECTED      71\n",
       "PENDING       50\n",
       "FLAGGED       46\n",
       "Name: rewardsReceiptStatus, dtype: int64"
      ]
     },
     "execution_count": 19,
     "metadata": {},
     "output_type": "execute_result"
    }
   ],
   "source": [
    "receipts['rewardsReceiptStatus'].value_counts()"
   ]
  },
  {
   "cell_type": "code",
   "execution_count": 20,
   "id": "950c9cbd",
   "metadata": {},
   "outputs": [],
   "source": [
    "receipts['isPointsGiven'] = np.where(receipts['pointsEarned'].isnull(),0,1)"
   ]
  },
  {
   "cell_type": "code",
   "execution_count": 21,
   "id": "596b491d",
   "metadata": {},
   "outputs": [
    {
     "data": {
      "text/html": [
       "<div>\n",
       "<style scoped>\n",
       "    .dataframe tbody tr th:only-of-type {\n",
       "        vertical-align: middle;\n",
       "    }\n",
       "\n",
       "    .dataframe tbody tr th {\n",
       "        vertical-align: top;\n",
       "    }\n",
       "\n",
       "    .dataframe thead th {\n",
       "        text-align: right;\n",
       "    }\n",
       "</style>\n",
       "<table border=\"1\" class=\"dataframe\">\n",
       "  <thead>\n",
       "    <tr style=\"text-align: right;\">\n",
       "      <th></th>\n",
       "      <th>count</th>\n",
       "      <th>sum</th>\n",
       "    </tr>\n",
       "    <tr>\n",
       "      <th>rewardsReceiptStatus</th>\n",
       "      <th></th>\n",
       "      <th></th>\n",
       "    </tr>\n",
       "  </thead>\n",
       "  <tbody>\n",
       "    <tr>\n",
       "      <th>FINISHED</th>\n",
       "      <td>518</td>\n",
       "      <td>518</td>\n",
       "    </tr>\n",
       "    <tr>\n",
       "      <th>FLAGGED</th>\n",
       "      <td>46</td>\n",
       "      <td>33</td>\n",
       "    </tr>\n",
       "    <tr>\n",
       "      <th>PENDING</th>\n",
       "      <td>50</td>\n",
       "      <td>0</td>\n",
       "    </tr>\n",
       "    <tr>\n",
       "      <th>REJECTED</th>\n",
       "      <td>71</td>\n",
       "      <td>58</td>\n",
       "    </tr>\n",
       "    <tr>\n",
       "      <th>SUBMITTED</th>\n",
       "      <td>434</td>\n",
       "      <td>0</td>\n",
       "    </tr>\n",
       "  </tbody>\n",
       "</table>\n",
       "</div>"
      ],
      "text/plain": [
       "                      count  sum\n",
       "rewardsReceiptStatus            \n",
       "FINISHED                518  518\n",
       "FLAGGED                  46   33\n",
       "PENDING                  50    0\n",
       "REJECTED                 71   58\n",
       "SUBMITTED               434    0"
      ]
     },
     "execution_count": 21,
     "metadata": {},
     "output_type": "execute_result"
    }
   ],
   "source": [
    "receipts.groupby(['rewardsReceiptStatus'])['isPointsGiven'].agg(['count', 'sum'])"
   ]
  },
  {
   "cell_type": "code",
   "execution_count": 22,
   "id": "11bf76a5",
   "metadata": {},
   "outputs": [
    {
     "data": {
      "text/html": [
       "<div>\n",
       "<style scoped>\n",
       "    .dataframe tbody tr th:only-of-type {\n",
       "        vertical-align: middle;\n",
       "    }\n",
       "\n",
       "    .dataframe tbody tr th {\n",
       "        vertical-align: top;\n",
       "    }\n",
       "\n",
       "    .dataframe thead th {\n",
       "        text-align: right;\n",
       "    }\n",
       "</style>\n",
       "<table border=\"1\" class=\"dataframe\">\n",
       "  <thead>\n",
       "    <tr style=\"text-align: right;\">\n",
       "      <th></th>\n",
       "      <th>receipt_id</th>\n",
       "      <th>bonusPointsEarned</th>\n",
       "      <th>bonusPointsEarnedReason</th>\n",
       "      <th>created_date</th>\n",
       "      <th>scanned_date</th>\n",
       "      <th>finished_date</th>\n",
       "      <th>modify_date</th>\n",
       "      <th>points_awarded_date</th>\n",
       "      <th>purchase_date</th>\n",
       "      <th>pointsEarned</th>\n",
       "      <th>totalSpent</th>\n",
       "      <th>rewardsReceiptStatus</th>\n",
       "      <th>user_id</th>\n",
       "      <th>isPointsGiven</th>\n",
       "    </tr>\n",
       "  </thead>\n",
       "  <tbody>\n",
       "  </tbody>\n",
       "</table>\n",
       "</div>"
      ],
      "text/plain": [
       "Empty DataFrame\n",
       "Columns: [receipt_id, bonusPointsEarned, bonusPointsEarnedReason, created_date, scanned_date, finished_date, modify_date, points_awarded_date, purchase_date, pointsEarned, totalSpent, rewardsReceiptStatus, user_id, isPointsGiven]\n",
       "Index: []"
      ]
     },
     "execution_count": 22,
     "metadata": {},
     "output_type": "execute_result"
    }
   ],
   "source": [
    "#Checking if points awarded date is less than scanned_date\n",
    "receipts.loc[receipts['points_awarded_date']< receipts['scanned_date']]"
   ]
  },
  {
   "cell_type": "code",
   "execution_count": 23,
   "id": "b028b34c",
   "metadata": {},
   "outputs": [
    {
     "name": "stdout",
     "output_type": "stream",
     "text": [
      "Earliest Scan Date:  2020-10-30 20:17:59 , Latest Scan Date:  2021-03-01 23:17:34\n"
     ]
    }
   ],
   "source": [
    "print(\"Earliest Scan Date: \", receipts['scanned_date'].min(), \n",
    "      \", Latest Scan Date: \", receipts['scanned_date'].max())"
   ]
  },
  {
   "cell_type": "code",
   "execution_count": 24,
   "id": "b1a9c139",
   "metadata": {},
   "outputs": [
    {
     "data": {
      "text/plain": [
       "117"
      ]
     },
     "execution_count": 24,
     "metadata": {},
     "output_type": "execute_result"
    }
   ],
   "source": [
    "receipts.loc[~receipts['user_id'].isin(list(users['user_id'])), 'user_id'].nunique()"
   ]
  },
  {
   "cell_type": "markdown",
   "id": "c5c60515",
   "metadata": {},
   "source": [
    "There are 117 users who are not present in the users table. Ideally, the userIds in receipts table should be a subset of all user ids present in the users table.\n",
    " "
   ]
  },
  {
   "cell_type": "code",
   "execution_count": 25,
   "id": "0ea7090d",
   "metadata": {},
   "outputs": [],
   "source": [
    "brand_check = pd.read_sql('''\n",
    "select distinct CAST(JSON_EXTRACT(j.value, '$.rewardsProductPartnerId') as VARCHAR) as rewardsProductPartnerId \n",
    "from receipts r, json_each(rewardsReceiptItemList) j\n",
    "where rewardsProductPartnerId not in (select distinct cpg_id from brands)\n",
    "''', conn)\n",
    "\n"
   ]
  },
  {
   "cell_type": "code",
   "execution_count": 26,
   "id": "7a20eda0",
   "metadata": {},
   "outputs": [
    {
     "data": {
      "text/html": [
       "<div>\n",
       "<style scoped>\n",
       "    .dataframe tbody tr th:only-of-type {\n",
       "        vertical-align: middle;\n",
       "    }\n",
       "\n",
       "    .dataframe tbody tr th {\n",
       "        vertical-align: top;\n",
       "    }\n",
       "\n",
       "    .dataframe thead th {\n",
       "        text-align: right;\n",
       "    }\n",
       "</style>\n",
       "<table border=\"1\" class=\"dataframe\">\n",
       "  <thead>\n",
       "    <tr style=\"text-align: right;\">\n",
       "      <th></th>\n",
       "      <th>rewardsProductPartnerId</th>\n",
       "    </tr>\n",
       "  </thead>\n",
       "  <tbody>\n",
       "    <tr>\n",
       "      <th>0</th>\n",
       "      <td>5e825d64f221c312e698a62a</td>\n",
       "    </tr>\n",
       "    <tr>\n",
       "      <th>1</th>\n",
       "      <td>5f036cedac99f02d72388690</td>\n",
       "    </tr>\n",
       "    <tr>\n",
       "      <th>2</th>\n",
       "      <td>5ffdb69ebe37ce746df1192a</td>\n",
       "    </tr>\n",
       "  </tbody>\n",
       "</table>\n",
       "</div>"
      ],
      "text/plain": [
       "    rewardsProductPartnerId\n",
       "0  5e825d64f221c312e698a62a\n",
       "1  5f036cedac99f02d72388690\n",
       "2  5ffdb69ebe37ce746df1192a"
      ]
     },
     "execution_count": 26,
     "metadata": {},
     "output_type": "execute_result"
    }
   ],
   "source": [
    "brand_check"
   ]
  },
  {
   "cell_type": "markdown",
   "id": "7fadcf73",
   "metadata": {},
   "source": [
    "There are 3 cpg_ids which are present in the receipts table (rewardsProductPartnerId) but not present in the brands table. Ideally this should be a subset of the cpg_ids of brands table. This is a process flow that should be set up as part of brand onboarding"
   ]
  },
  {
   "cell_type": "markdown",
   "id": "15241acc",
   "metadata": {},
   "source": [
    "## Analyses"
   ]
  },
  {
   "cell_type": "markdown",
   "id": "64d24786",
   "metadata": {},
   "source": [
    "#### Analytical query for unnesting brands scanned"
   ]
  },
  {
   "cell_type": "code",
   "execution_count": 27,
   "id": "3ebd04ac",
   "metadata": {},
   "outputs": [],
   "source": [
    "brands_scan = pd.read_sql('''\n",
    "select rec.id, userId, coalesce(upper(b.name), upper(rec.description)) as brand_name, b.categoryCode, b.topBrand\n",
    ",description, scanned_date, created_date, finished_date, rewardsReceiptStatus, pointsEarned, totalSpent\n",
    ",purchasedItemCount\n",
    "from (\n",
    "select r.id, r.UserId \n",
    ",CAST(JSON_EXTRACT(j.value, '$.barcode') as VARCHAR) as barcode \n",
    ",CAST(JSON_EXTRACT(j.value, '$.rewardsProductPartnerId') as VARCHAR) as rewardsProductPartnerId \n",
    ",CAST(JSON_EXTRACT(j.value, '$.description') as VARCHAR) as description \n",
    ",DATETIME(ROUND(dateScanned / 1000), 'unixepoch') as scanned_date\n",
    ",DATETIME(ROUND(createDate / 1000), 'unixepoch') as created_date\n",
    ",DATETIME(ROUND(finishedDate / 1000), 'unixepoch') as finished_date\n",
    ",rewardsReceiptStatus\n",
    ",pointsEarned\n",
    ",totalSpent\n",
    ",purchasedItemCount\n",
    "from receipts r, json_each(rewardsReceiptItemList) j\n",
    "--where DATE(DATETIME(ROUND(dateScanned / 1000), 'unixepoch'), 'start of month') in (date('2021-01-01'),date('2021-02-01'))\n",
    ") rec \n",
    "left join brands b\n",
    "on rec.rewardsProductPartnerId = b.cpg_id''', conn, parse_dates=['reg_date', 'last_login_date'])"
   ]
  },
  {
   "cell_type": "code",
   "execution_count": 28,
   "id": "e9684734",
   "metadata": {},
   "outputs": [
    {
     "name": "stdout",
     "output_type": "stream",
     "text": [
      "<class 'pandas.core.frame.DataFrame'>\n",
      "RangeIndex: 142700 entries, 0 to 142699\n",
      "Data columns (total 13 columns):\n",
      " #   Column                Non-Null Count   Dtype  \n",
      "---  ------                --------------   -----  \n",
      " 0   id                    142700 non-null  object \n",
      " 1   UserId                142700 non-null  object \n",
      " 2   brand_name            142047 non-null  object \n",
      " 3   categoryCode          2348 non-null    object \n",
      " 4   topBrand              137460 non-null  float64\n",
      " 5   description           139791 non-null  object \n",
      " 6   scanned_date          142700 non-null  object \n",
      " 7   created_date          142700 non-null  object \n",
      " 8   finished_date         136782 non-null  object \n",
      " 9   rewardsReceiptStatus  142700 non-null  object \n",
      " 10  pointsEarned          141572 non-null  float64\n",
      " 11  totalSpent            142265 non-null  float64\n",
      " 12  purchasedItemCount    142216 non-null  float64\n",
      "dtypes: float64(4), object(9)\n",
      "memory usage: 14.2+ MB\n"
     ]
    }
   ],
   "source": [
    "brands_scan.info()"
   ]
  },
  {
   "cell_type": "code",
   "execution_count": 29,
   "id": "a0712403",
   "metadata": {},
   "outputs": [
    {
     "data": {
      "text/plain": [
       "id                           0\n",
       "UserId                       0\n",
       "brand_name                 653\n",
       "categoryCode            140352\n",
       "topBrand                  5240\n",
       "description               2909\n",
       "scanned_date                 0\n",
       "created_date                 0\n",
       "finished_date             5918\n",
       "rewardsReceiptStatus         0\n",
       "pointsEarned              1128\n",
       "totalSpent                 435\n",
       "purchasedItemCount         484\n",
       "dtype: int64"
      ]
     },
     "execution_count": 29,
     "metadata": {},
     "output_type": "execute_result"
    }
   ],
   "source": [
    "brands_scan.isnull().sum()"
   ]
  },
  {
   "cell_type": "code",
   "execution_count": 30,
   "id": "113a5346",
   "metadata": {},
   "outputs": [],
   "source": [
    "brands_scan['brand_name'].fillna('ITEM NOT FOUND', inplace=True)\n",
    "brands_scan['scanned_month'] = pd.to_datetime(brands_scan['scanned_date']).dt.to_period('M').astype(str)"
   ]
  },
  {
   "cell_type": "code",
   "execution_count": 31,
   "id": "5b010d67",
   "metadata": {},
   "outputs": [
    {
     "data": {
      "text/plain": [
       "scanned_month\n",
       "2020-10       284\n",
       "2020-11      1257\n",
       "2021-01    138999\n",
       "2021-02      2117\n",
       "2021-03        43\n",
       "Name: id, dtype: int64"
      ]
     },
     "execution_count": 31,
     "metadata": {},
     "output_type": "execute_result"
    }
   ],
   "source": [
    "brands_scan.groupby(['scanned_month'])['id'].count()"
   ]
  },
  {
   "cell_type": "markdown",
   "id": "11c91e0e",
   "metadata": {},
   "source": [
    "We see that most of the receipts have been scanned in the month of Jan-2021"
   ]
  },
  {
   "cell_type": "markdown",
   "id": "c82147e7",
   "metadata": {},
   "source": [
    "### 1. What are the top 5 brands by receipts scanned for most recent month?\n",
    "\n",
    "The receipts scan dates lie in thrange of October 30,2020 to March 1, 2021. Since the month of March has not been completed, we should assume the most recent month to be Feb-2021."
   ]
  },
  {
   "cell_type": "code",
   "execution_count": 32,
   "id": "4c9dc504",
   "metadata": {},
   "outputs": [
    {
     "data": {
      "text/plain": [
       "ITEM NOT FOUND                                                                                                                                                 388\n",
       "FLIPBELT LEVEL TERRAIN WAIST POUCH, NEON YELLOW, LARGE/32-35                                                                                                    28\n",
       "THINDUST SUMMER FACE MASK - SUN PROTECTION NECK GAITER FOR OUTDOORACTIVITIES                                                                                    27\n",
       "MUELLER AUSTRIA HYPERGRIND PRECISION ELECTRIC SPICE/COFFEE GRINDER MILLWITH LARGE GRINDING CAPACITY AND HD MOTOR ALSO FOR SPICES, HERBS, NUTS,GRAINS, WHITE     27\n",
       "DELIMEX                                                                                                                                                         11\n",
       "GOOD SEASONS                                                                                                                                                    11\n",
       "Name: brand_name, dtype: int64"
      ]
     },
     "execution_count": 32,
     "metadata": {},
     "output_type": "execute_result"
    }
   ],
   "source": [
    "brands_scan.loc[brands_scan['scanned_month']== '2021-02', 'brand_name'].value_counts().nlargest(6)"
   ]
  },
  {
   "cell_type": "markdown",
   "id": "95b909c6",
   "metadata": {},
   "source": [
    "### Answer 1\n",
    "Removing the \"ITEM NOT FOUND\" entries, the top 5 brands scanned for the month of Feb-2021 are\n",
    "\n",
    "1. FLIPBELT LEVEL TERRAIN WAIST POUCH, NEON YELLOW, LARGE/32-35\n",
    "2. THINDUST SUMMER FACE MASK - SUN PROTECTION NECK GAITER FOR OUTDOORACTIVITIES \n",
    "3. MUELLER AUSTRIA HYPERGRIND PRECISION ELECTRIC SPICE/COFFEE GRINDER MILLWITH LARGE GRINDING CAPACITY AND HD MOTOR ALSO FOR SPICES, HERBS, NUTS,GRAINS, WHITE\n",
    "4. DELIMEX           \n",
    "5. GOOD SEASONS"
   ]
  },
  {
   "cell_type": "markdown",
   "id": "7654c91a",
   "metadata": {},
   "source": [
    "### 2. How does the ranking of the top 5 brands by receipts scanned for the recent month compare to the ranking for the previous month?\n",
    "\n",
    "Here we compare the same metrics but for scanned month of Jan-2021"
   ]
  },
  {
   "cell_type": "code",
   "execution_count": 33,
   "id": "a3bf3051",
   "metadata": {},
   "outputs": [
    {
     "data": {
      "text/plain": [
       "DIGIORNO CHEESE                      866\n",
       "COOL WHIP                            864\n",
       "GODIVA INSTANT PUDDING MIX           863\n",
       "DEVOUR                               863\n",
       "F. WHITLOCK & SONS BBQ SAUCE         863\n",
       "FOOD NETWORK KITCHEN INSPIRATIONS    863\n",
       "FAT RABBIT                           863\n",
       "FRUIT LOVE SPOONABLE SMOOTHIES       863\n",
       "A.1.                                 863\n",
       "GEVALIA                              863\n",
       "Name: brand_name, dtype: int64"
      ]
     },
     "execution_count": 33,
     "metadata": {},
     "output_type": "execute_result"
    }
   ],
   "source": [
    "brands_scan.loc[brands_scan['scanned_month']== '2021-01', 'brand_name'].value_counts().nlargest(10)"
   ]
  },
  {
   "cell_type": "markdown",
   "id": "897de2f0",
   "metadata": {},
   "source": [
    "### Answer 2\n",
    "The top 5 brands scanned for the month of Jan-2021 are\n",
    "\n",
    "1. DIGIORNO CHEESE\n",
    "2. COOL WHIP\n",
    "3. GODIVA INSTANT PUDDING MIX\n",
    "4. DEVOUR           \n",
    "5. F. WHITLOCK & SONS BBQ SAUCE\n",
    "\n",
    "\n",
    "The more popular brands scanned in Jan-2021 lie in the Food and Dining brands, whereas Feb-2021 brands are mixed with retail and dining"
   ]
  },
  {
   "cell_type": "markdown",
   "id": "e4c1be7f",
   "metadata": {},
   "source": [
    "### 3. When considering average spend from receipts with 'rewardsReceiptStatus’ of ‘Accepted’ or ‘Rejected’, which is greater?\n",
    "\n",
    "### 4. When considering total number of items purchased from receipts with 'rewardsReceiptStatus’ of ‘Accepted’ or ‘Rejected’, which is greater?\n",
    "\n",
    "Here we can use the receipts table directly, as we do not need to go on a brand level"
   ]
  },
  {
   "cell_type": "code",
   "execution_count": 34,
   "id": "5326625b",
   "metadata": {},
   "outputs": [],
   "source": [
    "receipts = pd.read_sql('''select * from receipts''', \n",
    "                       conn, \n",
    "                       parse_dates=['reg_date', 'last_login_date'])"
   ]
  },
  {
   "cell_type": "code",
   "execution_count": 35,
   "id": "85e14de5",
   "metadata": {},
   "outputs": [
    {
     "data": {
      "text/html": [
       "<div>\n",
       "<style scoped>\n",
       "    .dataframe tbody tr th:only-of-type {\n",
       "        vertical-align: middle;\n",
       "    }\n",
       "\n",
       "    .dataframe tbody tr th {\n",
       "        vertical-align: top;\n",
       "    }\n",
       "\n",
       "    .dataframe thead th {\n",
       "        text-align: right;\n",
       "    }\n",
       "</style>\n",
       "<table border=\"1\" class=\"dataframe\">\n",
       "  <thead>\n",
       "    <tr style=\"text-align: right;\">\n",
       "      <th></th>\n",
       "      <th>id</th>\n",
       "      <th>bonusPointsEarned</th>\n",
       "      <th>bonusPointsEarnedReason</th>\n",
       "      <th>createDate</th>\n",
       "      <th>dateScanned</th>\n",
       "      <th>finishedDate</th>\n",
       "      <th>modifyDate</th>\n",
       "      <th>pointsAwardedDate</th>\n",
       "      <th>pointsEarned</th>\n",
       "      <th>purchaseDate</th>\n",
       "      <th>purchasedItemCount</th>\n",
       "      <th>rewardsReceiptItemList</th>\n",
       "      <th>rewardsReceiptStatus</th>\n",
       "      <th>totalSpent</th>\n",
       "      <th>userId</th>\n",
       "    </tr>\n",
       "  </thead>\n",
       "  <tbody>\n",
       "    <tr>\n",
       "      <th>0</th>\n",
       "      <td>5ff1e1eb0a720f0523000575</td>\n",
       "      <td>500.0</td>\n",
       "      <td>Receipt number 2 completed, bonus point schedu...</td>\n",
       "      <td>1609687531000</td>\n",
       "      <td>1609687531000</td>\n",
       "      <td>1.609688e+12</td>\n",
       "      <td>1609687536000</td>\n",
       "      <td>1.609688e+12</td>\n",
       "      <td>500.0</td>\n",
       "      <td>1.609632e+12</td>\n",
       "      <td>5.0</td>\n",
       "      <td>[{\"barcode\": \"4011\", \"description\": \"ITEM NOT ...</td>\n",
       "      <td>FINISHED</td>\n",
       "      <td>26.00</td>\n",
       "      <td>5ff1e1eacfcf6c399c274ae6</td>\n",
       "    </tr>\n",
       "    <tr>\n",
       "      <th>1</th>\n",
       "      <td>5ff1e1bb0a720f052300056b</td>\n",
       "      <td>150.0</td>\n",
       "      <td>Receipt number 5 completed, bonus point schedu...</td>\n",
       "      <td>1609687483000</td>\n",
       "      <td>1609687483000</td>\n",
       "      <td>1.609687e+12</td>\n",
       "      <td>1609687488000</td>\n",
       "      <td>1.609687e+12</td>\n",
       "      <td>150.0</td>\n",
       "      <td>1.609601e+12</td>\n",
       "      <td>2.0</td>\n",
       "      <td>[{\"barcode\": \"4011\", \"description\": \"ITEM NOT ...</td>\n",
       "      <td>FINISHED</td>\n",
       "      <td>11.00</td>\n",
       "      <td>5ff1e194b6a9d73a3a9f1052</td>\n",
       "    </tr>\n",
       "    <tr>\n",
       "      <th>2</th>\n",
       "      <td>5ff1e1f10a720f052300057a</td>\n",
       "      <td>5.0</td>\n",
       "      <td>All-receipts receipt bonus</td>\n",
       "      <td>1609687537000</td>\n",
       "      <td>1609687537000</td>\n",
       "      <td>NaN</td>\n",
       "      <td>1609687542000</td>\n",
       "      <td>NaN</td>\n",
       "      <td>5.0</td>\n",
       "      <td>1.609632e+12</td>\n",
       "      <td>1.0</td>\n",
       "      <td>[{\"needsFetchReview\": false, \"partnerItemId\": ...</td>\n",
       "      <td>REJECTED</td>\n",
       "      <td>10.00</td>\n",
       "      <td>5ff1e1f1cfcf6c399c274b0b</td>\n",
       "    </tr>\n",
       "    <tr>\n",
       "      <th>3</th>\n",
       "      <td>5ff1e1ee0a7214ada100056f</td>\n",
       "      <td>5.0</td>\n",
       "      <td>All-receipts receipt bonus</td>\n",
       "      <td>1609687534000</td>\n",
       "      <td>1609687534000</td>\n",
       "      <td>1.609688e+12</td>\n",
       "      <td>1609687539000</td>\n",
       "      <td>1.609688e+12</td>\n",
       "      <td>5.0</td>\n",
       "      <td>1.609632e+12</td>\n",
       "      <td>4.0</td>\n",
       "      <td>[{\"barcode\": \"4011\", \"description\": \"ITEM NOT ...</td>\n",
       "      <td>FINISHED</td>\n",
       "      <td>28.00</td>\n",
       "      <td>5ff1e1eacfcf6c399c274ae6</td>\n",
       "    </tr>\n",
       "    <tr>\n",
       "      <th>4</th>\n",
       "      <td>5ff1e1d20a7214ada1000561</td>\n",
       "      <td>5.0</td>\n",
       "      <td>All-receipts receipt bonus</td>\n",
       "      <td>1609687506000</td>\n",
       "      <td>1609687506000</td>\n",
       "      <td>1.609688e+12</td>\n",
       "      <td>1609687511000</td>\n",
       "      <td>1.609688e+12</td>\n",
       "      <td>5.0</td>\n",
       "      <td>1.609601e+12</td>\n",
       "      <td>2.0</td>\n",
       "      <td>[{\"barcode\": \"4011\", \"description\": \"ITEM NOT ...</td>\n",
       "      <td>FINISHED</td>\n",
       "      <td>1.00</td>\n",
       "      <td>5ff1e194b6a9d73a3a9f1052</td>\n",
       "    </tr>\n",
       "    <tr>\n",
       "      <th>...</th>\n",
       "      <td>...</td>\n",
       "      <td>...</td>\n",
       "      <td>...</td>\n",
       "      <td>...</td>\n",
       "      <td>...</td>\n",
       "      <td>...</td>\n",
       "      <td>...</td>\n",
       "      <td>...</td>\n",
       "      <td>...</td>\n",
       "      <td>...</td>\n",
       "      <td>...</td>\n",
       "      <td>...</td>\n",
       "      <td>...</td>\n",
       "      <td>...</td>\n",
       "      <td>...</td>\n",
       "    </tr>\n",
       "    <tr>\n",
       "      <th>1114</th>\n",
       "      <td>603cc0630a720fde100003e6</td>\n",
       "      <td>25.0</td>\n",
       "      <td>COMPLETE_NONPARTNER_RECEIPT</td>\n",
       "      <td>1614594147000</td>\n",
       "      <td>1614594147000</td>\n",
       "      <td>NaN</td>\n",
       "      <td>1614594148000</td>\n",
       "      <td>NaN</td>\n",
       "      <td>25.0</td>\n",
       "      <td>1.597622e+12</td>\n",
       "      <td>2.0</td>\n",
       "      <td>[{\"barcode\": \"B076FJ92M4\", \"description\": \"mue...</td>\n",
       "      <td>REJECTED</td>\n",
       "      <td>34.96</td>\n",
       "      <td>5fc961c3b8cfca11a077dd33</td>\n",
       "    </tr>\n",
       "    <tr>\n",
       "      <th>1115</th>\n",
       "      <td>603d0b710a720fde1000042a</td>\n",
       "      <td>NaN</td>\n",
       "      <td>None</td>\n",
       "      <td>1614613361873</td>\n",
       "      <td>1614613361873</td>\n",
       "      <td>NaN</td>\n",
       "      <td>1614613361873</td>\n",
       "      <td>NaN</td>\n",
       "      <td>NaN</td>\n",
       "      <td>NaN</td>\n",
       "      <td>NaN</td>\n",
       "      <td>null</td>\n",
       "      <td>SUBMITTED</td>\n",
       "      <td>NaN</td>\n",
       "      <td>5fc961c3b8cfca11a077dd33</td>\n",
       "    </tr>\n",
       "    <tr>\n",
       "      <th>1116</th>\n",
       "      <td>603cf5290a720fde10000413</td>\n",
       "      <td>NaN</td>\n",
       "      <td>None</td>\n",
       "      <td>1614607657664</td>\n",
       "      <td>1614607657664</td>\n",
       "      <td>NaN</td>\n",
       "      <td>1614607657664</td>\n",
       "      <td>NaN</td>\n",
       "      <td>NaN</td>\n",
       "      <td>NaN</td>\n",
       "      <td>NaN</td>\n",
       "      <td>null</td>\n",
       "      <td>SUBMITTED</td>\n",
       "      <td>NaN</td>\n",
       "      <td>5fc961c3b8cfca11a077dd33</td>\n",
       "    </tr>\n",
       "    <tr>\n",
       "      <th>1117</th>\n",
       "      <td>603ce7100a7217c72c000405</td>\n",
       "      <td>25.0</td>\n",
       "      <td>COMPLETE_NONPARTNER_RECEIPT</td>\n",
       "      <td>1614604048000</td>\n",
       "      <td>1614604048000</td>\n",
       "      <td>NaN</td>\n",
       "      <td>1614604049000</td>\n",
       "      <td>NaN</td>\n",
       "      <td>25.0</td>\n",
       "      <td>1.597622e+12</td>\n",
       "      <td>2.0</td>\n",
       "      <td>[{\"barcode\": \"B076FJ92M4\", \"description\": \"mue...</td>\n",
       "      <td>REJECTED</td>\n",
       "      <td>34.96</td>\n",
       "      <td>5fc961c3b8cfca11a077dd33</td>\n",
       "    </tr>\n",
       "    <tr>\n",
       "      <th>1118</th>\n",
       "      <td>603c4fea0a7217c72c000389</td>\n",
       "      <td>NaN</td>\n",
       "      <td>None</td>\n",
       "      <td>1614565354962</td>\n",
       "      <td>1614565354962</td>\n",
       "      <td>NaN</td>\n",
       "      <td>1614565354962</td>\n",
       "      <td>NaN</td>\n",
       "      <td>NaN</td>\n",
       "      <td>NaN</td>\n",
       "      <td>NaN</td>\n",
       "      <td>null</td>\n",
       "      <td>SUBMITTED</td>\n",
       "      <td>NaN</td>\n",
       "      <td>5fc961c3b8cfca11a077dd33</td>\n",
       "    </tr>\n",
       "  </tbody>\n",
       "</table>\n",
       "<p>1119 rows × 15 columns</p>\n",
       "</div>"
      ],
      "text/plain": [
       "                            id  bonusPointsEarned  \\\n",
       "0     5ff1e1eb0a720f0523000575              500.0   \n",
       "1     5ff1e1bb0a720f052300056b              150.0   \n",
       "2     5ff1e1f10a720f052300057a                5.0   \n",
       "3     5ff1e1ee0a7214ada100056f                5.0   \n",
       "4     5ff1e1d20a7214ada1000561                5.0   \n",
       "...                        ...                ...   \n",
       "1114  603cc0630a720fde100003e6               25.0   \n",
       "1115  603d0b710a720fde1000042a                NaN   \n",
       "1116  603cf5290a720fde10000413                NaN   \n",
       "1117  603ce7100a7217c72c000405               25.0   \n",
       "1118  603c4fea0a7217c72c000389                NaN   \n",
       "\n",
       "                                bonusPointsEarnedReason     createDate  \\\n",
       "0     Receipt number 2 completed, bonus point schedu...  1609687531000   \n",
       "1     Receipt number 5 completed, bonus point schedu...  1609687483000   \n",
       "2                            All-receipts receipt bonus  1609687537000   \n",
       "3                            All-receipts receipt bonus  1609687534000   \n",
       "4                            All-receipts receipt bonus  1609687506000   \n",
       "...                                                 ...            ...   \n",
       "1114                        COMPLETE_NONPARTNER_RECEIPT  1614594147000   \n",
       "1115                                               None  1614613361873   \n",
       "1116                                               None  1614607657664   \n",
       "1117                        COMPLETE_NONPARTNER_RECEIPT  1614604048000   \n",
       "1118                                               None  1614565354962   \n",
       "\n",
       "        dateScanned  finishedDate     modifyDate  pointsAwardedDate  \\\n",
       "0     1609687531000  1.609688e+12  1609687536000       1.609688e+12   \n",
       "1     1609687483000  1.609687e+12  1609687488000       1.609687e+12   \n",
       "2     1609687537000           NaN  1609687542000                NaN   \n",
       "3     1609687534000  1.609688e+12  1609687539000       1.609688e+12   \n",
       "4     1609687506000  1.609688e+12  1609687511000       1.609688e+12   \n",
       "...             ...           ...            ...                ...   \n",
       "1114  1614594147000           NaN  1614594148000                NaN   \n",
       "1115  1614613361873           NaN  1614613361873                NaN   \n",
       "1116  1614607657664           NaN  1614607657664                NaN   \n",
       "1117  1614604048000           NaN  1614604049000                NaN   \n",
       "1118  1614565354962           NaN  1614565354962                NaN   \n",
       "\n",
       "      pointsEarned  purchaseDate  purchasedItemCount  \\\n",
       "0            500.0  1.609632e+12                 5.0   \n",
       "1            150.0  1.609601e+12                 2.0   \n",
       "2              5.0  1.609632e+12                 1.0   \n",
       "3              5.0  1.609632e+12                 4.0   \n",
       "4              5.0  1.609601e+12                 2.0   \n",
       "...            ...           ...                 ...   \n",
       "1114          25.0  1.597622e+12                 2.0   \n",
       "1115           NaN           NaN                 NaN   \n",
       "1116           NaN           NaN                 NaN   \n",
       "1117          25.0  1.597622e+12                 2.0   \n",
       "1118           NaN           NaN                 NaN   \n",
       "\n",
       "                                 rewardsReceiptItemList rewardsReceiptStatus  \\\n",
       "0     [{\"barcode\": \"4011\", \"description\": \"ITEM NOT ...             FINISHED   \n",
       "1     [{\"barcode\": \"4011\", \"description\": \"ITEM NOT ...             FINISHED   \n",
       "2     [{\"needsFetchReview\": false, \"partnerItemId\": ...             REJECTED   \n",
       "3     [{\"barcode\": \"4011\", \"description\": \"ITEM NOT ...             FINISHED   \n",
       "4     [{\"barcode\": \"4011\", \"description\": \"ITEM NOT ...             FINISHED   \n",
       "...                                                 ...                  ...   \n",
       "1114  [{\"barcode\": \"B076FJ92M4\", \"description\": \"mue...             REJECTED   \n",
       "1115                                               null            SUBMITTED   \n",
       "1116                                               null            SUBMITTED   \n",
       "1117  [{\"barcode\": \"B076FJ92M4\", \"description\": \"mue...             REJECTED   \n",
       "1118                                               null            SUBMITTED   \n",
       "\n",
       "      totalSpent                    userId  \n",
       "0          26.00  5ff1e1eacfcf6c399c274ae6  \n",
       "1          11.00  5ff1e194b6a9d73a3a9f1052  \n",
       "2          10.00  5ff1e1f1cfcf6c399c274b0b  \n",
       "3          28.00  5ff1e1eacfcf6c399c274ae6  \n",
       "4           1.00  5ff1e194b6a9d73a3a9f1052  \n",
       "...          ...                       ...  \n",
       "1114       34.96  5fc961c3b8cfca11a077dd33  \n",
       "1115         NaN  5fc961c3b8cfca11a077dd33  \n",
       "1116         NaN  5fc961c3b8cfca11a077dd33  \n",
       "1117       34.96  5fc961c3b8cfca11a077dd33  \n",
       "1118         NaN  5fc961c3b8cfca11a077dd33  \n",
       "\n",
       "[1119 rows x 15 columns]"
      ]
     },
     "execution_count": 35,
     "metadata": {},
     "output_type": "execute_result"
    }
   ],
   "source": [
    "receipts"
   ]
  },
  {
   "cell_type": "code",
   "execution_count": 36,
   "id": "02aeb4c3",
   "metadata": {},
   "outputs": [
    {
     "data": {
      "text/html": [
       "<div>\n",
       "<style scoped>\n",
       "    .dataframe tbody tr th:only-of-type {\n",
       "        vertical-align: middle;\n",
       "    }\n",
       "\n",
       "    .dataframe tbody tr th {\n",
       "        vertical-align: top;\n",
       "    }\n",
       "\n",
       "    .dataframe thead th {\n",
       "        text-align: right;\n",
       "    }\n",
       "</style>\n",
       "<table border=\"1\" class=\"dataframe\">\n",
       "  <thead>\n",
       "    <tr style=\"text-align: right;\">\n",
       "      <th></th>\n",
       "      <th>avg_spends</th>\n",
       "      <th>total_items_purchased</th>\n",
       "    </tr>\n",
       "    <tr>\n",
       "      <th>rewardsReceiptStatus</th>\n",
       "      <th></th>\n",
       "      <th></th>\n",
       "    </tr>\n",
       "  </thead>\n",
       "  <tbody>\n",
       "    <tr>\n",
       "      <th>FINISHED</th>\n",
       "      <td>80.854305</td>\n",
       "      <td>8184.0</td>\n",
       "    </tr>\n",
       "    <tr>\n",
       "      <th>FLAGGED</th>\n",
       "      <td>180.451739</td>\n",
       "      <td>1014.0</td>\n",
       "    </tr>\n",
       "    <tr>\n",
       "      <th>PENDING</th>\n",
       "      <td>28.032449</td>\n",
       "      <td>0.0</td>\n",
       "    </tr>\n",
       "    <tr>\n",
       "      <th>REJECTED</th>\n",
       "      <td>23.326056</td>\n",
       "      <td>173.0</td>\n",
       "    </tr>\n",
       "    <tr>\n",
       "      <th>SUBMITTED</th>\n",
       "      <td>NaN</td>\n",
       "      <td>0.0</td>\n",
       "    </tr>\n",
       "  </tbody>\n",
       "</table>\n",
       "</div>"
      ],
      "text/plain": [
       "                      avg_spends  total_items_purchased\n",
       "rewardsReceiptStatus                                   \n",
       "FINISHED               80.854305                 8184.0\n",
       "FLAGGED               180.451739                 1014.0\n",
       "PENDING                28.032449                    0.0\n",
       "REJECTED               23.326056                  173.0\n",
       "SUBMITTED                    NaN                    0.0"
      ]
     },
     "execution_count": 36,
     "metadata": {},
     "output_type": "execute_result"
    }
   ],
   "source": [
    "receipts.groupby(['rewardsReceiptStatus']).agg(avg_spends = ('totalSpent', np.mean),\n",
    "                                               total_items_purchased = ('purchasedItemCount', sum))"
   ]
  },
  {
   "cell_type": "markdown",
   "id": "75d37bd2",
   "metadata": {},
   "source": [
    "### Answer 3 \n",
    "We can see that for rewardsReceiptStatus = 'FINISHED' (meaning ACCEPTED), the average spends (80.9) is higher\n",
    "than average spends of rewardsReceiptStatus = 'REJECTED' (23.3)\n",
    "\n",
    "\n",
    "### Answer 4\n",
    "We can see that for rewardsReceiptStatus = 'FINISHED' (meaning ACCEPTED), the total number of items purchased (8184) is higher than total number of items purchased of rewardsReceiptStatus = 'REJECTED' (173)\n",
    "\n",
    "\n"
   ]
  },
  {
   "cell_type": "markdown",
   "id": "74db04eb",
   "metadata": {},
   "source": [
    "### 5. Which brand has the most spend among users who were created within the past 6 months?\n",
    "### 6. Which brand has the most transactions among users who were created within the past 6 months?\n",
    "\n",
    "For this we use the brands scanned table to find item level transactions and pricing, but with a filter of users registered within the last 6 months (Assuming Mar 1, 2021 as the cutoff date)"
   ]
  },
  {
   "cell_type": "code",
   "execution_count": 37,
   "id": "a193ad3d",
   "metadata": {},
   "outputs": [],
   "source": [
    "brands_scan_users = pd.read_sql('''\n",
    "select rec.id, userId, u.reg_date, coalesce(upper(b.name), upper(rec.description)) as brand_name\n",
    ",b.categoryCode, b.topBrand, description, scanned_date, created_date, finished_date\n",
    ",coalesce(finalPrice, userFlaggedPrice) as price\n",
    "from (\n",
    "select r.id, r.UserId \n",
    ",CAST(JSON_EXTRACT(j.value, '$.barcode') as VARCHAR) as barcode \n",
    ",CAST(JSON_EXTRACT(j.value, '$.rewardsProductPartnerId') as VARCHAR) as rewardsProductPartnerId \n",
    ",CAST(JSON_EXTRACT(j.value, '$.description') as VARCHAR) as description \n",
    ",CAST(JSON_EXTRACT(j.value, '$.finalPrice') as REAL) as finalPrice \n",
    ",CAST(JSON_EXTRACT(j.value, '$.userFlaggedPrice') as REAL) as userFlaggedPrice \n",
    ",DATETIME(ROUND(dateScanned / 1000), 'unixepoch') as scanned_date\n",
    ",DATETIME(ROUND(createDate / 1000), 'unixepoch') as created_date\n",
    ",DATETIME(ROUND(finishedDate / 1000), 'unixepoch') as finished_date\n",
    ",rewardsReceiptStatus\n",
    ",pointsEarned\n",
    ",totalSpent\n",
    ",purchasedItemCount\n",
    "from receipts r, json_each(rewardsReceiptItemList) j\n",
    ") rec \n",
    "left join brands b\n",
    "on rec.rewardsProductPartnerId = b.cpg_id\n",
    "left join (select distinct id, date(DATETIME(ROUND(createdDate / 1000), 'unixepoch')) as reg_date \n",
    "from users) u\n",
    "on rec.userId = u.id\n",
    "where u.reg_date between date('2020-09-01') and date('2021-03-01')\n",
    "''', conn)"
   ]
  },
  {
   "cell_type": "code",
   "execution_count": 38,
   "id": "79646294",
   "metadata": {},
   "outputs": [
    {
     "name": "stdout",
     "output_type": "stream",
     "text": [
      "<class 'pandas.core.frame.DataFrame'>\n",
      "RangeIndex: 101479 entries, 0 to 101478\n",
      "Data columns (total 11 columns):\n",
      " #   Column         Non-Null Count   Dtype  \n",
      "---  ------         --------------   -----  \n",
      " 0   id             101479 non-null  object \n",
      " 1   UserId         101479 non-null  object \n",
      " 2   reg_date       101479 non-null  object \n",
      " 3   brand_name     100989 non-null  object \n",
      " 4   categoryCode   1632 non-null    object \n",
      " 5   topBrand       98386 non-null   float64\n",
      " 6   description    99208 non-null   object \n",
      " 7   scanned_date   101479 non-null  object \n",
      " 8   created_date   101479 non-null  object \n",
      " 9   finished_date  97160 non-null   object \n",
      " 10  price          101044 non-null  float64\n",
      "dtypes: float64(2), object(9)\n",
      "memory usage: 8.5+ MB\n"
     ]
    }
   ],
   "source": [
    "brands_scan_users.info()"
   ]
  },
  {
   "cell_type": "code",
   "execution_count": 39,
   "id": "ae0b1e3e",
   "metadata": {},
   "outputs": [
    {
     "data": {
      "text/plain": [
       "Series([], Name: brand_name, dtype: int64)"
      ]
     },
     "execution_count": 39,
     "metadata": {},
     "output_type": "execute_result"
    }
   ],
   "source": [
    "brands_scan_users.loc[brands_scan_users['price'].isnull(), 'brand_name'].value_counts()"
   ]
  },
  {
   "cell_type": "code",
   "execution_count": 40,
   "id": "95e749b6",
   "metadata": {},
   "outputs": [
    {
     "data": {
      "text/plain": [
       "'2020-11-04'"
      ]
     },
     "execution_count": 40,
     "metadata": {},
     "output_type": "execute_result"
    }
   ],
   "source": [
    "brands_scan_users['reg_date'].min()"
   ]
  },
  {
   "cell_type": "code",
   "execution_count": 41,
   "id": "249f58ee",
   "metadata": {},
   "outputs": [
    {
     "data": {
      "text/plain": [
       "'2021-02-12'"
      ]
     },
     "execution_count": 41,
     "metadata": {},
     "output_type": "execute_result"
    }
   ],
   "source": [
    "brands_scan_users['reg_date'].max()"
   ]
  },
  {
   "cell_type": "code",
   "execution_count": 42,
   "id": "beda7db6",
   "metadata": {},
   "outputs": [],
   "source": [
    "brands = brands_scan_users.groupby(['brand_name']).agg(spends = ('price', sum),\n",
    "                                              transactions = ('id', 'count')\n",
    "                                             ).reset_index()"
   ]
  },
  {
   "cell_type": "code",
   "execution_count": 43,
   "id": "bd503ff6",
   "metadata": {},
   "outputs": [
    {
     "data": {
      "text/html": [
       "<div>\n",
       "<style scoped>\n",
       "    .dataframe tbody tr th:only-of-type {\n",
       "        vertical-align: middle;\n",
       "    }\n",
       "\n",
       "    .dataframe tbody tr th {\n",
       "        vertical-align: top;\n",
       "    }\n",
       "\n",
       "    .dataframe thead th {\n",
       "        text-align: right;\n",
       "    }\n",
       "</style>\n",
       "<table border=\"1\" class=\"dataframe\">\n",
       "  <thead>\n",
       "    <tr style=\"text-align: right;\">\n",
       "      <th></th>\n",
       "      <th>brand_name</th>\n",
       "      <th>spends</th>\n",
       "      <th>transactions</th>\n",
       "    </tr>\n",
       "  </thead>\n",
       "  <tbody>\n",
       "    <tr>\n",
       "      <th>914</th>\n",
       "      <td>PULL-UPS</td>\n",
       "      <td>4647.66</td>\n",
       "      <td>350</td>\n",
       "    </tr>\n",
       "  </tbody>\n",
       "</table>\n",
       "</div>"
      ],
      "text/plain": [
       "    brand_name   spends  transactions\n",
       "914   PULL-UPS  4647.66           350"
      ]
     },
     "execution_count": 43,
     "metadata": {},
     "output_type": "execute_result"
    }
   ],
   "source": [
    "#Brand with most spends\n",
    "brands.sort_values(by=['spends'],ascending=False).head(1)"
   ]
  },
  {
   "cell_type": "code",
   "execution_count": 44,
   "id": "823c5185",
   "metadata": {},
   "outputs": [
    {
     "data": {
      "text/html": [
       "<div>\n",
       "<style scoped>\n",
       "    .dataframe tbody tr th:only-of-type {\n",
       "        vertical-align: middle;\n",
       "    }\n",
       "\n",
       "    .dataframe tbody tr th {\n",
       "        vertical-align: top;\n",
       "    }\n",
       "\n",
       "    .dataframe thead th {\n",
       "        text-align: right;\n",
       "    }\n",
       "</style>\n",
       "<table border=\"1\" class=\"dataframe\">\n",
       "  <thead>\n",
       "    <tr style=\"text-align: right;\">\n",
       "      <th></th>\n",
       "      <th>brand_name</th>\n",
       "      <th>spends</th>\n",
       "      <th>transactions</th>\n",
       "    </tr>\n",
       "  </thead>\n",
       "  <tbody>\n",
       "    <tr>\n",
       "      <th>286</th>\n",
       "      <td>DIGIORNO CHEESE</td>\n",
       "      <td>4634.17</td>\n",
       "      <td>642</td>\n",
       "    </tr>\n",
       "  </tbody>\n",
       "</table>\n",
       "</div>"
      ],
      "text/plain": [
       "          brand_name   spends  transactions\n",
       "286  DIGIORNO CHEESE  4634.17           642"
      ]
     },
     "execution_count": 44,
     "metadata": {},
     "output_type": "execute_result"
    }
   ],
   "source": [
    "#Brand with most transactions\n",
    "brands.sort_values(by=['transactions'],ascending=False).head(1)"
   ]
  },
  {
   "cell_type": "markdown",
   "id": "8632e35f",
   "metadata": {},
   "source": [
    "### Answer 5\n",
    "Brand with most spends: PULL-UPS (4647)\n",
    "\n",
    "### Answer 6\n",
    "Brand with most transactions: DIGIORNO CHEESE (642)\n"
   ]
  },
  {
   "cell_type": "code",
   "execution_count": null,
   "id": "cbae0fc5",
   "metadata": {},
   "outputs": [],
   "source": []
  }
 ],
 "metadata": {
  "kernelspec": {
   "display_name": "Python 3 (ipykernel)",
   "language": "python",
   "name": "python3"
  },
  "language_info": {
   "codemirror_mode": {
    "name": "ipython",
    "version": 3
   },
   "file_extension": ".py",
   "mimetype": "text/x-python",
   "name": "python",
   "nbconvert_exporter": "python",
   "pygments_lexer": "ipython3",
   "version": "3.9.7"
  }
 },
 "nbformat": 4,
 "nbformat_minor": 5
}
