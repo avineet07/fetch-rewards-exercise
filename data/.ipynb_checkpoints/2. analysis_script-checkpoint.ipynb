{
 "cells": [
  {
   "cell_type": "code",
   "execution_count": 35,
   "id": "213bf29c",
   "metadata": {},
   "outputs": [],
   "source": [
    "import numpy as np, pandas as pd, os, sqlite3\n",
    "from datetime import datetime as dt"
   ]
  },
  {
   "cell_type": "code",
   "execution_count": 2,
   "id": "24f46158",
   "metadata": {},
   "outputs": [],
   "source": [
    "conn = sqlite3.connect('datalake.db')\n",
    "cursor = conn.cursor()"
   ]
  },
  {
   "cell_type": "code",
   "execution_count": 3,
   "id": "97ef7ffe",
   "metadata": {},
   "outputs": [
    {
     "data": {
      "text/plain": [
       "[('users',),\n",
       " ('receipts',),\n",
       " ('sqlite_autoindex_receipts_1',),\n",
       " ('brands',),\n",
       " ('sqlite_autoindex_brands_1',)]"
      ]
     },
     "execution_count": 3,
     "metadata": {},
     "output_type": "execute_result"
    }
   ],
   "source": [
    "# Ensuring tables are present \n",
    "res = cursor.execute('''select name from sqlite_master''')\n",
    "res.fetchall()"
   ]
  },
  {
   "cell_type": "code",
   "execution_count": 6,
   "id": "e710c1ed",
   "metadata": {},
   "outputs": [
    {
     "data": {
      "text/plain": [
       "[('2020-10-30 20:17:59',\n",
       "  '2020-10-30 20:17:59',\n",
       "  '2021-03-01 23:17:34',\n",
       "  '2021-03-01 23:17:34')]"
      ]
     },
     "execution_count": 6,
     "metadata": {},
     "output_type": "execute_result"
    }
   ],
   "source": []
  },
  {
   "cell_type": "markdown",
   "id": "e3e3f86e",
   "metadata": {},
   "source": [
    "## Data Quality Checks"
   ]
  },
  {
   "cell_type": "markdown",
   "id": "9ab0f98f",
   "metadata": {},
   "source": [
    "### 1. Users table"
   ]
  },
  {
   "cell_type": "code",
   "execution_count": 45,
   "id": "4ce338de",
   "metadata": {},
   "outputs": [],
   "source": [
    "users = pd.read_sql('''\n",
    "select id as user_id\n",
    ", active\n",
    ", date(DATETIME(ROUND(createdDate / 1000), 'unixepoch')) as reg_date\n",
    ", date(DATETIME(ROUND(lastLogin / 1000), 'unixepoch')) as last_login_date\n",
    ", signUpSource\n",
    ", state\n",
    "from users''', conn, parse_dates=['reg_date', 'last_login_date'])"
   ]
  },
  {
   "cell_type": "code",
   "execution_count": 49,
   "id": "b2539ba6",
   "metadata": {},
   "outputs": [
    {
     "data": {
      "text/html": [
       "<div>\n",
       "<style scoped>\n",
       "    .dataframe tbody tr th:only-of-type {\n",
       "        vertical-align: middle;\n",
       "    }\n",
       "\n",
       "    .dataframe tbody tr th {\n",
       "        vertical-align: top;\n",
       "    }\n",
       "\n",
       "    .dataframe thead th {\n",
       "        text-align: right;\n",
       "    }\n",
       "</style>\n",
       "<table border=\"1\" class=\"dataframe\">\n",
       "  <thead>\n",
       "    <tr style=\"text-align: right;\">\n",
       "      <th></th>\n",
       "      <th>user_id</th>\n",
       "      <th>active</th>\n",
       "      <th>reg_date</th>\n",
       "      <th>last_login_date</th>\n",
       "      <th>signUpSource</th>\n",
       "      <th>state</th>\n",
       "    </tr>\n",
       "  </thead>\n",
       "  <tbody>\n",
       "    <tr>\n",
       "      <th>244</th>\n",
       "      <td>600987d77d983a11f63cfa92</td>\n",
       "      <td>1</td>\n",
       "      <td>2021-01-21</td>\n",
       "      <td>2021-01-21</td>\n",
       "      <td>Email</td>\n",
       "      <td>WI</td>\n",
       "    </tr>\n",
       "    <tr>\n",
       "      <th>472</th>\n",
       "      <td>5fa41775898c7a11a6bcef3e</td>\n",
       "      <td>1</td>\n",
       "      <td>2020-11-05</td>\n",
       "      <td>2021-03-04</td>\n",
       "      <td>Email</td>\n",
       "      <td>None</td>\n",
       "    </tr>\n",
       "    <tr>\n",
       "      <th>247</th>\n",
       "      <td>6008f02fb6310511daa4f314</td>\n",
       "      <td>1</td>\n",
       "      <td>2021-01-21</td>\n",
       "      <td>NaT</td>\n",
       "      <td>Email</td>\n",
       "      <td>IL</td>\n",
       "    </tr>\n",
       "    <tr>\n",
       "      <th>445</th>\n",
       "      <td>5fc961c3b8cfca11a077dd33</td>\n",
       "      <td>1</td>\n",
       "      <td>2020-12-03</td>\n",
       "      <td>2021-02-26</td>\n",
       "      <td>Email</td>\n",
       "      <td>NH</td>\n",
       "    </tr>\n",
       "    <tr>\n",
       "      <th>131</th>\n",
       "      <td>5ffc8f9704929111f6e922bf</td>\n",
       "      <td>1</td>\n",
       "      <td>2021-01-11</td>\n",
       "      <td>2021-01-11</td>\n",
       "      <td>Email</td>\n",
       "      <td>WI</td>\n",
       "    </tr>\n",
       "    <tr>\n",
       "      <th>366</th>\n",
       "      <td>60189c74c8b50e11d8454eff</td>\n",
       "      <td>1</td>\n",
       "      <td>2021-02-02</td>\n",
       "      <td>2021-02-02</td>\n",
       "      <td>Email</td>\n",
       "      <td>WI</td>\n",
       "    </tr>\n",
       "    <tr>\n",
       "      <th>133</th>\n",
       "      <td>5ffcb47d04929111f6e9256c</td>\n",
       "      <td>1</td>\n",
       "      <td>2021-01-11</td>\n",
       "      <td>2021-01-11</td>\n",
       "      <td>Email</td>\n",
       "      <td>WI</td>\n",
       "    </tr>\n",
       "    <tr>\n",
       "      <th>62</th>\n",
       "      <td>5ff5d15aeb7c7d12096d91a2</td>\n",
       "      <td>1</td>\n",
       "      <td>2021-01-06</td>\n",
       "      <td>2021-01-06</td>\n",
       "      <td>Email</td>\n",
       "      <td>WI</td>\n",
       "    </tr>\n",
       "    <tr>\n",
       "      <th>237</th>\n",
       "      <td>6008873eb6310511daa4e8eb</td>\n",
       "      <td>1</td>\n",
       "      <td>2021-01-20</td>\n",
       "      <td>2021-01-20</td>\n",
       "      <td>Email</td>\n",
       "      <td>WI</td>\n",
       "    </tr>\n",
       "    <tr>\n",
       "      <th>204</th>\n",
       "      <td>6007464b6e64691717e8c1f0</td>\n",
       "      <td>1</td>\n",
       "      <td>2021-01-19</td>\n",
       "      <td>2021-01-19</td>\n",
       "      <td>Email</td>\n",
       "      <td>WI</td>\n",
       "    </tr>\n",
       "  </tbody>\n",
       "</table>\n",
       "</div>"
      ],
      "text/plain": [
       "                      user_id  active   reg_date last_login_date signUpSource  \\\n",
       "244  600987d77d983a11f63cfa92       1 2021-01-21      2021-01-21        Email   \n",
       "472  5fa41775898c7a11a6bcef3e       1 2020-11-05      2021-03-04        Email   \n",
       "247  6008f02fb6310511daa4f314       1 2021-01-21             NaT        Email   \n",
       "445  5fc961c3b8cfca11a077dd33       1 2020-12-03      2021-02-26        Email   \n",
       "131  5ffc8f9704929111f6e922bf       1 2021-01-11      2021-01-11        Email   \n",
       "366  60189c74c8b50e11d8454eff       1 2021-02-02      2021-02-02        Email   \n",
       "133  5ffcb47d04929111f6e9256c       1 2021-01-11      2021-01-11        Email   \n",
       "62   5ff5d15aeb7c7d12096d91a2       1 2021-01-06      2021-01-06        Email   \n",
       "237  6008873eb6310511daa4e8eb       1 2021-01-20      2021-01-20        Email   \n",
       "204  6007464b6e64691717e8c1f0       1 2021-01-19      2021-01-19        Email   \n",
       "\n",
       "    state  \n",
       "244    WI  \n",
       "472  None  \n",
       "247    IL  \n",
       "445    NH  \n",
       "131    WI  \n",
       "366    WI  \n",
       "133    WI  \n",
       "62     WI  \n",
       "237    WI  \n",
       "204    WI  "
      ]
     },
     "execution_count": 49,
     "metadata": {},
     "output_type": "execute_result"
    }
   ],
   "source": [
    "users.sample(10)"
   ]
  },
  {
   "cell_type": "code",
   "execution_count": 48,
   "id": "7aba8579",
   "metadata": {},
   "outputs": [
    {
     "data": {
      "text/plain": [
       "user_id                    object\n",
       "active                      int64\n",
       "reg_date           datetime64[ns]\n",
       "last_login_date    datetime64[ns]\n",
       "signUpSource               object\n",
       "state                      object\n",
       "dtype: object"
      ]
     },
     "execution_count": 48,
     "metadata": {},
     "output_type": "execute_result"
    }
   ],
   "source": [
    "users.dtypes"
   ]
  },
  {
   "cell_type": "code",
   "execution_count": 52,
   "id": "637c128d",
   "metadata": {},
   "outputs": [
    {
     "data": {
      "text/plain": [
       "user_id             0\n",
       "active              0\n",
       "reg_date            0\n",
       "last_login_date    62\n",
       "signUpSource       48\n",
       "state              56\n",
       "dtype: int64"
      ]
     },
     "execution_count": 52,
     "metadata": {},
     "output_type": "execute_result"
    }
   ],
   "source": [
    "users.isnull().sum()"
   ]
  },
  {
   "cell_type": "code",
   "execution_count": 51,
   "id": "4f7915a6",
   "metadata": {},
   "outputs": [
    {
     "data": {
      "text/plain": [
       "user_id            0.000000\n",
       "active             0.000000\n",
       "reg_date           0.000000\n",
       "last_login_date    0.125253\n",
       "signUpSource       0.096970\n",
       "state              0.113131\n",
       "dtype: float64"
      ]
     },
     "execution_count": 51,
     "metadata": {},
     "output_type": "execute_result"
    }
   ],
   "source": [
    "users.isnull().sum()/len(users)"
   ]
  },
  {
   "cell_type": "code",
   "execution_count": 54,
   "id": "e4bb1811",
   "metadata": {},
   "outputs": [
    {
     "data": {
      "text/plain": [
       "1    494\n",
       "0      1\n",
       "Name: active, dtype: int64"
      ]
     },
     "execution_count": 54,
     "metadata": {},
     "output_type": "execute_result"
    }
   ],
   "source": [
    "#Values of Active Flag\n",
    "users['active'].value_counts()"
   ]
  },
  {
   "cell_type": "code",
   "execution_count": 55,
   "id": "6d6f6045",
   "metadata": {},
   "outputs": [
    {
     "data": {
      "text/plain": [
       "WI    396\n",
       "NH     20\n",
       "AL     12\n",
       "OH      5\n",
       "IL      3\n",
       "KY      1\n",
       "CO      1\n",
       "SC      1\n",
       "Name: state, dtype: int64"
      ]
     },
     "execution_count": 55,
     "metadata": {},
     "output_type": "execute_result"
    }
   ],
   "source": [
    "#Values of State\n",
    "users['state'].value_counts()"
   ]
  },
  {
   "cell_type": "code",
   "execution_count": 56,
   "id": "bb45f505",
   "metadata": {},
   "outputs": [
    {
     "data": {
      "text/plain": [
       "Email     443\n",
       "Google      4\n",
       "Name: signUpSource, dtype: int64"
      ]
     },
     "execution_count": 56,
     "metadata": {},
     "output_type": "execute_result"
    }
   ],
   "source": [
    "#values of Signupsource\n",
    "users['signUpSource'].value_counts()"
   ]
  },
  {
   "cell_type": "code",
   "execution_count": 62,
   "id": "cdb69ca7",
   "metadata": {},
   "outputs": [
    {
     "data": {
      "text/html": [
       "<div>\n",
       "<style scoped>\n",
       "    .dataframe tbody tr th:only-of-type {\n",
       "        vertical-align: middle;\n",
       "    }\n",
       "\n",
       "    .dataframe tbody tr th {\n",
       "        vertical-align: top;\n",
       "    }\n",
       "\n",
       "    .dataframe thead th {\n",
       "        text-align: right;\n",
       "    }\n",
       "</style>\n",
       "<table border=\"1\" class=\"dataframe\">\n",
       "  <thead>\n",
       "    <tr style=\"text-align: right;\">\n",
       "      <th></th>\n",
       "      <th>user_id</th>\n",
       "      <th>active</th>\n",
       "      <th>reg_date</th>\n",
       "      <th>last_login_date</th>\n",
       "      <th>signUpSource</th>\n",
       "      <th>state</th>\n",
       "    </tr>\n",
       "  </thead>\n",
       "  <tbody>\n",
       "  </tbody>\n",
       "</table>\n",
       "</div>"
      ],
      "text/plain": [
       "Empty DataFrame\n",
       "Columns: [user_id, active, reg_date, last_login_date, signUpSource, state]\n",
       "Index: []"
      ]
     },
     "execution_count": 62,
     "metadata": {},
     "output_type": "execute_result"
    }
   ],
   "source": [
    "# Checking whether lastlogindate is less than registration date\n",
    "users.loc[users['last_login_date'] < users['reg_date']]"
   ]
  },
  {
   "cell_type": "code",
   "execution_count": 42,
   "id": "8107f21a",
   "metadata": {},
   "outputs": [
    {
     "name": "stdout",
     "output_type": "stream",
     "text": [
      "\n",
      "Total number of records in users table: 495 \n",
      "\n",
      "Total number of unique users: 212\n",
      "      \n"
     ]
    }
   ],
   "source": [
    "print('''\n",
    "Total number of records in users table: {0} \\n\n",
    "Total number of unique users: {1}\n",
    "      '''.format(users.shape[0], users['user_id'].nunique()))"
   ]
  },
  {
   "cell_type": "markdown",
   "id": "b2309b53",
   "metadata": {},
   "source": [
    "The number of unique users in the users table is 212 only. However the users table has 495 records.\n",
    "Ideally the table must be unique in terms of id column. \n",
    "Upon further inspection it was found out that theses are duplicated rows (other column values being the same). A unique key contraint would have helped to avoid that"
   ]
  },
  {
   "cell_type": "markdown",
   "id": "b1749bf3",
   "metadata": {},
   "source": [
    "### 2. Receipts table"
   ]
  },
  {
   "cell_type": "code",
   "execution_count": 60,
   "id": "c96be8fc",
   "metadata": {},
   "outputs": [],
   "source": [
    "receipts = pd.read_sql('''\n",
    "select id as receipt_id\n",
    ",bonusPointsEarned\n",
    ",bonusPointsEarnedReason\n",
    ",(DATETIME(ROUND(createDate / 1000), 'unixepoch')) as created_date\n",
    ",(DATETIME(ROUND(dateScanned / 1000), 'unixepoch')) as scanned_date\n",
    ",(DATETIME(ROUND(finishedDate / 1000), 'unixepoch')) as finished_date\n",
    ",(DATETIME(ROUND(modifyDate / 1000), 'unixepoch')) as modify_date\n",
    ",(DATETIME(ROUND(pointsAwardedDate / 1000), 'unixepoch')) as points_awarded_date\n",
    ",(DATETIME(ROUND(purchaseDate / 1000), 'unixepoch')) as purchase_date\n",
    "\n",
    ",pointsEarned\n",
    ",totalSpent\n",
    ",rewardsReceiptStatus\n",
    ",userId as user_id\n",
    "from receipts''', conn, parse_dates=['created_date', 'scanned_date', 'finished_date',\n",
    "                                     'modify_date', 'points_awarded_date', 'purchase_date'])"
   ]
  },
  {
   "cell_type": "code",
   "execution_count": 61,
   "id": "f0375452",
   "metadata": {},
   "outputs": [
    {
     "data": {
      "text/html": [
       "<div>\n",
       "<style scoped>\n",
       "    .dataframe tbody tr th:only-of-type {\n",
       "        vertical-align: middle;\n",
       "    }\n",
       "\n",
       "    .dataframe tbody tr th {\n",
       "        vertical-align: top;\n",
       "    }\n",
       "\n",
       "    .dataframe thead th {\n",
       "        text-align: right;\n",
       "    }\n",
       "</style>\n",
       "<table border=\"1\" class=\"dataframe\">\n",
       "  <thead>\n",
       "    <tr style=\"text-align: right;\">\n",
       "      <th></th>\n",
       "      <th>receipt_id</th>\n",
       "      <th>bonusPointsEarned</th>\n",
       "      <th>bonusPointsEarnedReason</th>\n",
       "      <th>created_date</th>\n",
       "      <th>scanned_date</th>\n",
       "      <th>finished_date</th>\n",
       "      <th>modify_date</th>\n",
       "      <th>points_awarded_date</th>\n",
       "      <th>purchase_date</th>\n",
       "      <th>pointsEarned</th>\n",
       "      <th>totalSpent</th>\n",
       "      <th>rewardsReceiptStatus</th>\n",
       "      <th>user_id</th>\n",
       "    </tr>\n",
       "  </thead>\n",
       "  <tbody>\n",
       "    <tr>\n",
       "      <th>489</th>\n",
       "      <td>6011f39c0a720f05350000b4</td>\n",
       "      <td>5.0</td>\n",
       "      <td>All-receipts receipt bonus</td>\n",
       "      <td>2021-01-27 23:13:32</td>\n",
       "      <td>2021-01-27 23:13:32</td>\n",
       "      <td>2021-01-27 23:13:38</td>\n",
       "      <td>2021-01-27 23:13:38</td>\n",
       "      <td>2021-01-27 23:13:32</td>\n",
       "      <td>2021-01-26 23:13:31</td>\n",
       "      <td>5.0</td>\n",
       "      <td>1.00</td>\n",
       "      <td>FINISHED</td>\n",
       "      <td>6011f31ea4b74c18d3a8c476</td>\n",
       "    </tr>\n",
       "    <tr>\n",
       "      <th>22</th>\n",
       "      <td>5ff1e1ec0a7214ada100056c</td>\n",
       "      <td>150.0</td>\n",
       "      <td>Receipt number 5 completed, bonus point schedu...</td>\n",
       "      <td>2021-01-03 15:25:32</td>\n",
       "      <td>2021-01-03 15:25:32</td>\n",
       "      <td>2021-01-03 15:25:32</td>\n",
       "      <td>2021-01-03 15:25:37</td>\n",
       "      <td>2021-01-03 15:25:32</td>\n",
       "      <td>2021-01-03 00:00:00</td>\n",
       "      <td>150.0</td>\n",
       "      <td>21.00</td>\n",
       "      <td>FINISHED</td>\n",
       "      <td>5ff1e1eacfcf6c399c274ae6</td>\n",
       "    </tr>\n",
       "    <tr>\n",
       "      <th>340</th>\n",
       "      <td>600742490a720f05fa000004</td>\n",
       "      <td>250.0</td>\n",
       "      <td>Receipt number 3 completed, bonus point schedu...</td>\n",
       "      <td>2021-01-19 20:34:17</td>\n",
       "      <td>2021-01-19 20:34:17</td>\n",
       "      <td>2021-01-19 20:34:18</td>\n",
       "      <td>2021-01-19 20:34:18</td>\n",
       "      <td>2021-01-19 20:34:18</td>\n",
       "      <td>2021-01-16 06:00:00</td>\n",
       "      <td>250.0</td>\n",
       "      <td>25.00</td>\n",
       "      <td>FINISHED</td>\n",
       "      <td>600741d06e6469120a787853</td>\n",
       "    </tr>\n",
       "    <tr>\n",
       "      <th>1095</th>\n",
       "      <td>603d760e0a720fde1000048e</td>\n",
       "      <td>NaN</td>\n",
       "      <td>None</td>\n",
       "      <td>2021-03-01 23:17:34</td>\n",
       "      <td>2021-03-01 23:17:34</td>\n",
       "      <td>NaT</td>\n",
       "      <td>2021-03-01 23:17:34</td>\n",
       "      <td>NaT</td>\n",
       "      <td>NaT</td>\n",
       "      <td>NaN</td>\n",
       "      <td>NaN</td>\n",
       "      <td>SUBMITTED</td>\n",
       "      <td>5fc961c3b8cfca11a077dd33</td>\n",
       "    </tr>\n",
       "    <tr>\n",
       "      <th>977</th>\n",
       "      <td>6025cf030a7214d8e90002b2</td>\n",
       "      <td>NaN</td>\n",
       "      <td>None</td>\n",
       "      <td>2021-02-12 00:42:43</td>\n",
       "      <td>2021-02-12 00:42:43</td>\n",
       "      <td>NaT</td>\n",
       "      <td>2021-02-12 00:42:43</td>\n",
       "      <td>NaT</td>\n",
       "      <td>NaT</td>\n",
       "      <td>NaN</td>\n",
       "      <td>NaN</td>\n",
       "      <td>SUBMITTED</td>\n",
       "      <td>5fc961c3b8cfca11a077dd33</td>\n",
       "    </tr>\n",
       "    <tr>\n",
       "      <th>109</th>\n",
       "      <td>5ff5d2060a720f05230005e1</td>\n",
       "      <td>45.0</td>\n",
       "      <td>COMPLETE_PARTNER_RECEIPT</td>\n",
       "      <td>2021-01-06 15:06:46</td>\n",
       "      <td>2021-01-06 15:06:46</td>\n",
       "      <td>2021-01-06 15:06:47</td>\n",
       "      <td>2021-01-06 15:06:47</td>\n",
       "      <td>2021-01-06 15:06:47</td>\n",
       "      <td>2021-01-06 15:06:46</td>\n",
       "      <td>100.0</td>\n",
       "      <td>0.99</td>\n",
       "      <td>FINISHED</td>\n",
       "      <td>5ff5d15aeb7c7d12096d91a2</td>\n",
       "    </tr>\n",
       "    <tr>\n",
       "      <th>202</th>\n",
       "      <td>5ffc9d9d0a720f05c5000042</td>\n",
       "      <td>750.0</td>\n",
       "      <td>Receipt number 1 completed, bonus point schedu...</td>\n",
       "      <td>2021-01-11 18:49:01</td>\n",
       "      <td>2021-01-11 18:49:01</td>\n",
       "      <td>2021-01-11 18:49:02</td>\n",
       "      <td>2021-01-11 18:49:06</td>\n",
       "      <td>2021-01-11 18:49:02</td>\n",
       "      <td>2021-01-11 00:00:00</td>\n",
       "      <td>750.0</td>\n",
       "      <td>26.00</td>\n",
       "      <td>FINISHED</td>\n",
       "      <td>5ffc9d9d04929111f6e9244f</td>\n",
       "    </tr>\n",
       "    <tr>\n",
       "      <th>47</th>\n",
       "      <td>5ff29be20a7214ada1000571</td>\n",
       "      <td>25.0</td>\n",
       "      <td>COMPLETE_NONPARTNER_RECEIPT</td>\n",
       "      <td>2021-01-04 04:38:58</td>\n",
       "      <td>2021-01-04 04:38:58</td>\n",
       "      <td>2021-01-04 04:39:06</td>\n",
       "      <td>2021-01-04 04:39:09</td>\n",
       "      <td>2021-01-04 04:39:06</td>\n",
       "      <td>2021-01-03 00:00:00</td>\n",
       "      <td>25.0</td>\n",
       "      <td>1.00</td>\n",
       "      <td>FINISHED</td>\n",
       "      <td>5964eb07e4b03efd0c0f267b</td>\n",
       "    </tr>\n",
       "    <tr>\n",
       "      <th>601</th>\n",
       "      <td>6014cfd30a7214ad5000012b</td>\n",
       "      <td>NaN</td>\n",
       "      <td>None</td>\n",
       "      <td>2021-01-30 03:17:39</td>\n",
       "      <td>2021-01-30 03:17:39</td>\n",
       "      <td>NaT</td>\n",
       "      <td>2021-01-30 03:17:39</td>\n",
       "      <td>NaT</td>\n",
       "      <td>NaT</td>\n",
       "      <td>NaN</td>\n",
       "      <td>NaN</td>\n",
       "      <td>SUBMITTED</td>\n",
       "      <td>5fc961c3b8cfca11a077dd33</td>\n",
       "    </tr>\n",
       "    <tr>\n",
       "      <th>482</th>\n",
       "      <td>600fb1ec0a7214ada200004f</td>\n",
       "      <td>750.0</td>\n",
       "      <td>Receipt number 1 completed, bonus point schedu...</td>\n",
       "      <td>2021-01-26 06:08:44</td>\n",
       "      <td>2021-01-26 06:08:44</td>\n",
       "      <td>2021-01-26 06:08:44</td>\n",
       "      <td>2021-01-26 06:08:44</td>\n",
       "      <td>2021-01-26 06:08:44</td>\n",
       "      <td>2021-01-25 06:08:44</td>\n",
       "      <td>755.0</td>\n",
       "      <td>1.00</td>\n",
       "      <td>FINISHED</td>\n",
       "      <td>600fb1ec73c60b1204902af4</td>\n",
       "    </tr>\n",
       "  </tbody>\n",
       "</table>\n",
       "</div>"
      ],
      "text/plain": [
       "                    receipt_id  bonusPointsEarned  \\\n",
       "489   6011f39c0a720f05350000b4                5.0   \n",
       "22    5ff1e1ec0a7214ada100056c              150.0   \n",
       "340   600742490a720f05fa000004              250.0   \n",
       "1095  603d760e0a720fde1000048e                NaN   \n",
       "977   6025cf030a7214d8e90002b2                NaN   \n",
       "109   5ff5d2060a720f05230005e1               45.0   \n",
       "202   5ffc9d9d0a720f05c5000042              750.0   \n",
       "47    5ff29be20a7214ada1000571               25.0   \n",
       "601   6014cfd30a7214ad5000012b                NaN   \n",
       "482   600fb1ec0a7214ada200004f              750.0   \n",
       "\n",
       "                                bonusPointsEarnedReason        created_date  \\\n",
       "489                          All-receipts receipt bonus 2021-01-27 23:13:32   \n",
       "22    Receipt number 5 completed, bonus point schedu... 2021-01-03 15:25:32   \n",
       "340   Receipt number 3 completed, bonus point schedu... 2021-01-19 20:34:17   \n",
       "1095                                               None 2021-03-01 23:17:34   \n",
       "977                                                None 2021-02-12 00:42:43   \n",
       "109                            COMPLETE_PARTNER_RECEIPT 2021-01-06 15:06:46   \n",
       "202   Receipt number 1 completed, bonus point schedu... 2021-01-11 18:49:01   \n",
       "47                          COMPLETE_NONPARTNER_RECEIPT 2021-01-04 04:38:58   \n",
       "601                                                None 2021-01-30 03:17:39   \n",
       "482   Receipt number 1 completed, bonus point schedu... 2021-01-26 06:08:44   \n",
       "\n",
       "            scanned_date       finished_date         modify_date  \\\n",
       "489  2021-01-27 23:13:32 2021-01-27 23:13:38 2021-01-27 23:13:38   \n",
       "22   2021-01-03 15:25:32 2021-01-03 15:25:32 2021-01-03 15:25:37   \n",
       "340  2021-01-19 20:34:17 2021-01-19 20:34:18 2021-01-19 20:34:18   \n",
       "1095 2021-03-01 23:17:34                 NaT 2021-03-01 23:17:34   \n",
       "977  2021-02-12 00:42:43                 NaT 2021-02-12 00:42:43   \n",
       "109  2021-01-06 15:06:46 2021-01-06 15:06:47 2021-01-06 15:06:47   \n",
       "202  2021-01-11 18:49:01 2021-01-11 18:49:02 2021-01-11 18:49:06   \n",
       "47   2021-01-04 04:38:58 2021-01-04 04:39:06 2021-01-04 04:39:09   \n",
       "601  2021-01-30 03:17:39                 NaT 2021-01-30 03:17:39   \n",
       "482  2021-01-26 06:08:44 2021-01-26 06:08:44 2021-01-26 06:08:44   \n",
       "\n",
       "     points_awarded_date       purchase_date  pointsEarned  totalSpent  \\\n",
       "489  2021-01-27 23:13:32 2021-01-26 23:13:31           5.0        1.00   \n",
       "22   2021-01-03 15:25:32 2021-01-03 00:00:00         150.0       21.00   \n",
       "340  2021-01-19 20:34:18 2021-01-16 06:00:00         250.0       25.00   \n",
       "1095                 NaT                 NaT           NaN         NaN   \n",
       "977                  NaT                 NaT           NaN         NaN   \n",
       "109  2021-01-06 15:06:47 2021-01-06 15:06:46         100.0        0.99   \n",
       "202  2021-01-11 18:49:02 2021-01-11 00:00:00         750.0       26.00   \n",
       "47   2021-01-04 04:39:06 2021-01-03 00:00:00          25.0        1.00   \n",
       "601                  NaT                 NaT           NaN         NaN   \n",
       "482  2021-01-26 06:08:44 2021-01-25 06:08:44         755.0        1.00   \n",
       "\n",
       "     rewardsReceiptStatus                   user_id  \n",
       "489              FINISHED  6011f31ea4b74c18d3a8c476  \n",
       "22               FINISHED  5ff1e1eacfcf6c399c274ae6  \n",
       "340              FINISHED  600741d06e6469120a787853  \n",
       "1095            SUBMITTED  5fc961c3b8cfca11a077dd33  \n",
       "977             SUBMITTED  5fc961c3b8cfca11a077dd33  \n",
       "109              FINISHED  5ff5d15aeb7c7d12096d91a2  \n",
       "202              FINISHED  5ffc9d9d04929111f6e9244f  \n",
       "47               FINISHED  5964eb07e4b03efd0c0f267b  \n",
       "601             SUBMITTED  5fc961c3b8cfca11a077dd33  \n",
       "482              FINISHED  600fb1ec73c60b1204902af4  "
      ]
     },
     "execution_count": 61,
     "metadata": {},
     "output_type": "execute_result"
    }
   ],
   "source": [
    "receipts.sample(10)"
   ]
  },
  {
   "cell_type": "code",
   "execution_count": 63,
   "id": "11748b31",
   "metadata": {},
   "outputs": [
    {
     "data": {
      "text/plain": [
       "receipt_id                         object\n",
       "bonusPointsEarned                 float64\n",
       "bonusPointsEarnedReason            object\n",
       "created_date               datetime64[ns]\n",
       "scanned_date               datetime64[ns]\n",
       "finished_date              datetime64[ns]\n",
       "modify_date                datetime64[ns]\n",
       "points_awarded_date        datetime64[ns]\n",
       "purchase_date              datetime64[ns]\n",
       "pointsEarned                      float64\n",
       "totalSpent                        float64\n",
       "rewardsReceiptStatus               object\n",
       "user_id                            object\n",
       "dtype: object"
      ]
     },
     "execution_count": 63,
     "metadata": {},
     "output_type": "execute_result"
    }
   ],
   "source": [
    "receipts.dtypes"
   ]
  },
  {
   "cell_type": "code",
   "execution_count": 64,
   "id": "5f395030",
   "metadata": {},
   "outputs": [
    {
     "data": {
      "text/plain": [
       "receipt_id                   0\n",
       "bonusPointsEarned          575\n",
       "bonusPointsEarnedReason    575\n",
       "created_date                 0\n",
       "scanned_date                 0\n",
       "finished_date              551\n",
       "modify_date                  0\n",
       "points_awarded_date        582\n",
       "purchase_date              448\n",
       "pointsEarned               510\n",
       "totalSpent                 435\n",
       "rewardsReceiptStatus         0\n",
       "user_id                      0\n",
       "dtype: int64"
      ]
     },
     "execution_count": 64,
     "metadata": {},
     "output_type": "execute_result"
    }
   ],
   "source": [
    "receipts.isnull().sum()"
   ]
  },
  {
   "cell_type": "code",
   "execution_count": 65,
   "id": "a61d45ca",
   "metadata": {},
   "outputs": [
    {
     "data": {
      "text/plain": [
       "receipt_id                 0.000000\n",
       "bonusPointsEarned          0.513852\n",
       "bonusPointsEarnedReason    0.513852\n",
       "created_date               0.000000\n",
       "scanned_date               0.000000\n",
       "finished_date              0.492404\n",
       "modify_date                0.000000\n",
       "points_awarded_date        0.520107\n",
       "purchase_date              0.400357\n",
       "pointsEarned               0.455764\n",
       "totalSpent                 0.388740\n",
       "rewardsReceiptStatus       0.000000\n",
       "user_id                    0.000000\n",
       "dtype: float64"
      ]
     },
     "execution_count": 65,
     "metadata": {},
     "output_type": "execute_result"
    }
   ],
   "source": [
    "receipts.isnull().sum()/len(receipts)"
   ]
  },
  {
   "cell_type": "code",
   "execution_count": 68,
   "id": "3ae2964e",
   "metadata": {},
   "outputs": [
    {
     "data": {
      "text/plain": [
       "FINISHED     518\n",
       "SUBMITTED    434\n",
       "REJECTED      71\n",
       "PENDING       50\n",
       "FLAGGED       46\n",
       "Name: rewardsReceiptStatus, dtype: int64"
      ]
     },
     "execution_count": 68,
     "metadata": {},
     "output_type": "execute_result"
    }
   ],
   "source": [
    "receipts['rewardsReceiptStatus'].value_counts()"
   ]
  },
  {
   "cell_type": "code",
   "execution_count": 74,
   "id": "142951b7",
   "metadata": {},
   "outputs": [],
   "source": [
    "receipts['isPointsGiven'] = np.where(receipts['pointsEarned'].isnull(),0,1)"
   ]
  },
  {
   "cell_type": "code",
   "execution_count": 75,
   "id": "d5b64b90",
   "metadata": {},
   "outputs": [
    {
     "data": {
      "text/html": [
       "<div>\n",
       "<style scoped>\n",
       "    .dataframe tbody tr th:only-of-type {\n",
       "        vertical-align: middle;\n",
       "    }\n",
       "\n",
       "    .dataframe tbody tr th {\n",
       "        vertical-align: top;\n",
       "    }\n",
       "\n",
       "    .dataframe thead th {\n",
       "        text-align: right;\n",
       "    }\n",
       "</style>\n",
       "<table border=\"1\" class=\"dataframe\">\n",
       "  <thead>\n",
       "    <tr style=\"text-align: right;\">\n",
       "      <th></th>\n",
       "      <th>count</th>\n",
       "      <th>sum</th>\n",
       "    </tr>\n",
       "    <tr>\n",
       "      <th>rewardsReceiptStatus</th>\n",
       "      <th></th>\n",
       "      <th></th>\n",
       "    </tr>\n",
       "  </thead>\n",
       "  <tbody>\n",
       "    <tr>\n",
       "      <th>FINISHED</th>\n",
       "      <td>518</td>\n",
       "      <td>518</td>\n",
       "    </tr>\n",
       "    <tr>\n",
       "      <th>FLAGGED</th>\n",
       "      <td>46</td>\n",
       "      <td>33</td>\n",
       "    </tr>\n",
       "    <tr>\n",
       "      <th>PENDING</th>\n",
       "      <td>50</td>\n",
       "      <td>0</td>\n",
       "    </tr>\n",
       "    <tr>\n",
       "      <th>REJECTED</th>\n",
       "      <td>71</td>\n",
       "      <td>58</td>\n",
       "    </tr>\n",
       "    <tr>\n",
       "      <th>SUBMITTED</th>\n",
       "      <td>434</td>\n",
       "      <td>0</td>\n",
       "    </tr>\n",
       "  </tbody>\n",
       "</table>\n",
       "</div>"
      ],
      "text/plain": [
       "                      count  sum\n",
       "rewardsReceiptStatus            \n",
       "FINISHED                518  518\n",
       "FLAGGED                  46   33\n",
       "PENDING                  50    0\n",
       "REJECTED                 71   58\n",
       "SUBMITTED               434    0"
      ]
     },
     "execution_count": 75,
     "metadata": {},
     "output_type": "execute_result"
    }
   ],
   "source": [
    "receipts.groupby(['rewardsReceiptStatus'])['isPointsGiven'].agg(['count', 'sum'])"
   ]
  },
  {
   "cell_type": "code",
   "execution_count": 80,
   "id": "5695ddc4",
   "metadata": {},
   "outputs": [
    {
     "data": {
      "text/html": [
       "<div>\n",
       "<style scoped>\n",
       "    .dataframe tbody tr th:only-of-type {\n",
       "        vertical-align: middle;\n",
       "    }\n",
       "\n",
       "    .dataframe tbody tr th {\n",
       "        vertical-align: top;\n",
       "    }\n",
       "\n",
       "    .dataframe thead th {\n",
       "        text-align: right;\n",
       "    }\n",
       "</style>\n",
       "<table border=\"1\" class=\"dataframe\">\n",
       "  <thead>\n",
       "    <tr style=\"text-align: right;\">\n",
       "      <th></th>\n",
       "      <th>receipt_id</th>\n",
       "      <th>bonusPointsEarned</th>\n",
       "      <th>bonusPointsEarnedReason</th>\n",
       "      <th>created_date</th>\n",
       "      <th>scanned_date</th>\n",
       "      <th>finished_date</th>\n",
       "      <th>modify_date</th>\n",
       "      <th>points_awarded_date</th>\n",
       "      <th>purchase_date</th>\n",
       "      <th>pointsEarned</th>\n",
       "      <th>totalSpent</th>\n",
       "      <th>rewardsReceiptStatus</th>\n",
       "      <th>user_id</th>\n",
       "      <th>isPointsGiven</th>\n",
       "    </tr>\n",
       "  </thead>\n",
       "  <tbody>\n",
       "  </tbody>\n",
       "</table>\n",
       "</div>"
      ],
      "text/plain": [
       "Empty DataFrame\n",
       "Columns: [receipt_id, bonusPointsEarned, bonusPointsEarnedReason, created_date, scanned_date, finished_date, modify_date, points_awarded_date, purchase_date, pointsEarned, totalSpent, rewardsReceiptStatus, user_id, isPointsGiven]\n",
       "Index: []"
      ]
     },
     "execution_count": 80,
     "metadata": {},
     "output_type": "execute_result"
    }
   ],
   "source": [
    "#Checking if points awarded date is less than scanned_date\n",
    "receipts.loc[receipts['points_awarded_date']< receipts['scanned_date']]"
   ]
  },
  {
   "cell_type": "code",
   "execution_count": 83,
   "id": "c2b3559f",
   "metadata": {},
   "outputs": [
    {
     "name": "stdout",
     "output_type": "stream",
     "text": [
      "Earliest Scan Date:  2020-10-30 20:17:59 , Latest Scan Date:  2021-03-01 23:17:34\n"
     ]
    }
   ],
   "source": [
    "print(\"Earliest Scan Date: \", receipts['scanned_date'].min(), \n",
    "      \", Latest Scan Date: \", receipts['scanned_date'].max())"
   ]
  },
  {
   "cell_type": "code",
   "execution_count": 67,
   "id": "62d661a1",
   "metadata": {},
   "outputs": [
    {
     "data": {
      "text/plain": [
       "117"
      ]
     },
     "execution_count": 67,
     "metadata": {},
     "output_type": "execute_result"
    }
   ],
   "source": [
    "receipts.loc[~receipts['user_id'].isin(list(users['user_id'])), 'user_id'].nunique()"
   ]
  },
  {
   "cell_type": "markdown",
   "id": "aae2bc34",
   "metadata": {},
   "source": [
    "There are 117 users who are not present in the users table. Ideally, the userIds in receipts table should be a subset of all user ids present in the users table.\n",
    " "
   ]
  },
  {
   "cell_type": "markdown",
   "id": "2590294a",
   "metadata": {},
   "source": [
    "## Analyses"
   ]
  },
  {
   "cell_type": "markdown",
   "id": "52e34154",
   "metadata": {},
   "source": [
    "### 1. What are the top 5 brands by receipts scanned for most recent month?\n",
    "\n",
    "The receipts scan dates lie in thrange of October 30,2020 to March 1, 2021. Since the month of March has not been completed, we should assume the most recent month to be Feb-2021."
   ]
  },
  {
   "cell_type": "code",
   "execution_count": 114,
   "id": "28f73549",
   "metadata": {},
   "outputs": [],
   "source": [
    "brands_scan = pd.read_sql('''\n",
    "select rec.id, userId, coalesce(upper(b.name), upper(rec.description)) as brand_name, b.categoryCode, b.topBrand\n",
    ",description, scanned_date, created_date, finished_date\n",
    "from (\n",
    "select r.id, r.UserId \n",
    ",CAST(JSON_EXTRACT(j.value, '$.barcode') as VARCHAR) as barcode \n",
    ",CAST(JSON_EXTRACT(j.value, '$.rewardsProductPartnerId') as VARCHAR) as rewardsProductPartnerId \n",
    ",CAST(JSON_EXTRACT(j.value, '$.description') as VARCHAR) as description \n",
    ",DATETIME(ROUND(dateScanned / 1000), 'unixepoch') as scanned_date\n",
    ",DATETIME(ROUND(createDate / 1000), 'unixepoch') as created_date\n",
    ",DATETIME(ROUND(finishedDate / 1000), 'unixepoch') as finished_date\n",
    "from receipts r, json_each(rewardsReceiptItemList) j\n",
    "--where DATE(DATETIME(ROUND(dateScanned / 1000), 'unixepoch'), 'start of month') in (date('2021-01-01'),date('2021-02-01'))\n",
    ") rec \n",
    "left join brands b\n",
    "on rec.rewardsProductPartnerId = b.cpg_id''', conn, parse_dates=['reg_date', 'last_login_date'])"
   ]
  },
  {
   "cell_type": "code",
   "execution_count": 115,
   "id": "88ecf401",
   "metadata": {},
   "outputs": [
    {
     "name": "stdout",
     "output_type": "stream",
     "text": [
      "<class 'pandas.core.frame.DataFrame'>\n",
      "RangeIndex: 142700 entries, 0 to 142699\n",
      "Data columns (total 9 columns):\n",
      " #   Column         Non-Null Count   Dtype  \n",
      "---  ------         --------------   -----  \n",
      " 0   id             142700 non-null  object \n",
      " 1   UserId         142700 non-null  object \n",
      " 2   brand_name     142047 non-null  object \n",
      " 3   categoryCode   2348 non-null    object \n",
      " 4   topBrand       137460 non-null  float64\n",
      " 5   description    139791 non-null  object \n",
      " 6   scanned_date   142700 non-null  object \n",
      " 7   created_date   142700 non-null  object \n",
      " 8   finished_date  136782 non-null  object \n",
      "dtypes: float64(1), object(8)\n",
      "memory usage: 9.8+ MB\n"
     ]
    }
   ],
   "source": [
    "brands_scan.info()"
   ]
  },
  {
   "cell_type": "code",
   "execution_count": 116,
   "id": "befdf1c5",
   "metadata": {},
   "outputs": [
    {
     "data": {
      "text/plain": [
       "id                    0\n",
       "UserId                0\n",
       "brand_name          653\n",
       "categoryCode     140352\n",
       "topBrand           5240\n",
       "description        2909\n",
       "scanned_date          0\n",
       "created_date          0\n",
       "finished_date      5918\n",
       "dtype: int64"
      ]
     },
     "execution_count": 116,
     "metadata": {},
     "output_type": "execute_result"
    }
   ],
   "source": [
    "brands_scan.isnull().sum()"
   ]
  },
  {
   "cell_type": "code",
   "execution_count": 117,
   "id": "832983e7",
   "metadata": {},
   "outputs": [
    {
     "data": {
      "text/plain": [
       "DIGIORNO CHEESE                            881\n",
       "COOL WHIP                                  879\n",
       "GREY POUPON                                878\n",
       "CAPRI SUN                                  878\n",
       "CHEEZ WHIZ                                 878\n",
       "                                          ... \n",
       "HYVLFORANGECREAM                             1\n",
       "HYV LFPEACHYOGURT                            1\n",
       "HYVLFVANILLAYOGUR                            1\n",
       "ORE-IDAGOLDENTATER                           1\n",
       "BERRY STRAWBERRY CONVENTIONAL, 16 OUNCE      1\n",
       "Name: brand_name, Length: 1993, dtype: int64"
      ]
     },
     "execution_count": 117,
     "metadata": {},
     "output_type": "execute_result"
    }
   ],
   "source": [
    "brands_scan['brand_name'].value_counts()"
   ]
  },
  {
   "cell_type": "code",
   "execution_count": 109,
   "id": "c3d7dd50",
   "metadata": {},
   "outputs": [],
   "source": [
    "brands_scan['brand_name'].fillna('ITEM NOT FOUND', inplace=True)"
   ]
  },
  {
   "cell_type": "code",
   "execution_count": 111,
   "id": "ffd81a88",
   "metadata": {
    "scrolled": true
   },
   "outputs": [
    {
     "data": {
      "text/plain": [
       "flipbelt level terrain waist pouch, neon yellow, large/32-35                                                                                                   50\n",
       "thindust summer face mask - sun protection neck gaiter for outdooractivities                                                                                   44\n",
       "mueller austria hypergrind precision electric spice/coffee grinder millwith large grinding capacity and hd motor also for spices, herbs, nuts,grains, white    44\n",
       "Green Bell Peppers                                                                                                                                             26\n",
       "Laura's Lean Beef Ground Beef 93% Lean & Natural                                                                                                               25\n",
       "                                                                                                                                                               ..\n",
       "Simple Truth Organic Green Beans                                                                                                                                1\n",
       "Simple Truth Organic Fat Free Vegetable Broth                                                                                                                   1\n",
       "Peppers Organic Mini Sweet                                                                                                                                      1\n",
       "Ground Turkey                                                                                                                                                   1\n",
       "Berry Strawberry Conventional, 16 Ounce                                                                                                                         1\n",
       "Name: description, Length: 263, dtype: int64"
      ]
     },
     "execution_count": 111,
     "metadata": {},
     "output_type": "execute_result"
    }
   ],
   "source": [
    "brands_scan.loc[brands_scan['brand_name'].str.contains('[a-z]',regex=True), 'description'].value_counts()"
   ]
  },
  {
   "cell_type": "code",
   "execution_count": 105,
   "id": "2f1e018f",
   "metadata": {},
   "outputs": [
    {
     "data": {
      "text/plain": [
       "Series([], Name: description, dtype: int64)"
      ]
     },
     "execution_count": 105,
     "metadata": {},
     "output_type": "execute_result"
    }
   ],
   "source": [
    "brands_scan.loc[(brands_scan['brand_name'].isnull()) & (brands_scan['description'].notnull()),'description'].value_counts()"
   ]
  },
  {
   "cell_type": "code",
   "execution_count": 84,
   "id": "2dc9978a",
   "metadata": {},
   "outputs": [
    {
     "data": {
      "text/plain": [
       "[(None, 485),\n",
       " ('Yuban Coffee', 11),\n",
       " (\"Wyler's\", 11),\n",
       " ('Wild Style Sauce', 11),\n",
       " ('Velveeta Shells', 11)]"
      ]
     },
     "execution_count": 84,
     "metadata": {},
     "output_type": "execute_result"
    }
   ],
   "source": [
    "res = cursor.execute('''\n",
    "\n",
    "select r.id, r.UserId \n",
    ",CAST(JSON_EXTRACT(j.value, '$.barcode') as VARCHAR) as barcode \n",
    ",CAST(JSON_EXTRACT(j.value, '$.rewardsProductPartnerId') as VARCHAR) as rewardsProductPartnerId \n",
    ",DATETIME(ROUND(dateScanned / 1000), 'unixepoch') as scanned_date\n",
    ",DATETIME(ROUND(createDate / 1000), 'unixepoch') as created_date\n",
    ",DATETIME(ROUND(finishedDate / 1000), 'unixepoch') as finished_date\n",
    "from receipts r, json_each(rewardsReceiptItemList) j\n",
    "where DATE(DATETIME(ROUND(dateScanned / 1000), 'unixepoch'), 'start of month') = date('2021-02-01')\n",
    ") rec \n",
    "left join brands b\n",
    "on rec.rewardsProductPartnerId = b.cpg_id\n",
    "''')\n",
    "res.fetchall()"
   ]
  },
  {
   "cell_type": "code",
   "execution_count": 30,
   "id": "b4dfad02",
   "metadata": {},
   "outputs": [
    {
     "data": {
      "text/plain": [
       "[(0, 552), (1, 16)]"
      ]
     },
     "execution_count": 30,
     "metadata": {},
     "output_type": "execute_result"
    }
   ],
   "source": [
    "res = cursor.execute('''\n",
    "select flag, count(distinct barcode) as codecnt from (\n",
    "select barcode\n",
    ",(case when barcode in (select distinct barcode from brands) then 1 else 0 end) as flag\n",
    "from (\n",
    "select \n",
    "CAST(JSON_EXTRACT(j.value, '$.barcode') as VARCHAR) as barcode  \n",
    "from receipts r, json_each(rewardsReceiptItemList) j\n",
    "--where barcode not in (select distinct barcode from brands)\n",
    ")\n",
    ") group by flag\n",
    "''')\n",
    "res.fetchall()"
   ]
  },
  {
   "cell_type": "code",
   "execution_count": null,
   "id": "5ce147c2",
   "metadata": {},
   "outputs": [],
   "source": []
  },
  {
   "cell_type": "code",
   "execution_count": 32,
   "id": "f8563249",
   "metadata": {},
   "outputs": [
    {
     "data": {
      "text/plain": [
       "[('4011',),\n",
       " ('028400642255',),\n",
       " ('1234',),\n",
       " ('046000832517',),\n",
       " ('013562300631',),\n",
       " ('034100573065',),\n",
       " ('075925306254',),\n",
       " ('041000168468',),\n",
       " ('2700719497082',),\n",
       " ('079400066619',),\n",
       " ('051500720011',),\n",
       " ('087684001127',),\n",
       " ('071040063102',),\n",
       " ('029000079236',),\n",
       " ('041129002292',),\n",
       " ('043000946060',),\n",
       " ('044700009888',),\n",
       " ('021000012961',),\n",
       " ('021000678358',),\n",
       " ('044700033302',),\n",
       " ('021000059232',),\n",
       " ('043000004944',),\n",
       " ('759283400082',),\n",
       " ('025800000135',),\n",
       " ('043000043486',),\n",
       " ('029000024748',),\n",
       " ('044700002810',),\n",
       " ('043000079904',),\n",
       " ('044000000745',),\n",
       " ('046704085905',),\n",
       " ('021000057832',),\n",
       " ('021000002917',),\n",
       " ('044700019917',),\n",
       " ('043000035818',),\n",
       " ('070085046583',),\n",
       " ('044700073377',),\n",
       " ('021000055920',),\n",
       " ('021000051885',),\n",
       " ('022174070214',),\n",
       " ('043000012871',),\n",
       " ('043000077467',),\n",
       " ('043000008836',),\n",
       " ('021000068364',),\n",
       " ('021000013869',),\n",
       " ('044700030479',),\n",
       " ('041258081601',),\n",
       " ('043000075821',),\n",
       " ('021000667543',),\n",
       " ('013120013966',),\n",
       " ('021000068760',),\n",
       " ('070277290107',),\n",
       " ('041129088005',),\n",
       " ('013000993906',),\n",
       " ('043000065198',),\n",
       " ('021000050765',),\n",
       " ('021000032778',),\n",
       " ('043000046814',),\n",
       " ('686924560242',),\n",
       " ('021000051113',),\n",
       " ('021000070787',),\n",
       " ('043000058145',),\n",
       " ('044700074602',),\n",
       " ('021000007561',),\n",
       " ('043000013229',),\n",
       " ('043000000960',),\n",
       " ('013000657600',),\n",
       " ('017696004519',),\n",
       " ('012000809941',),\n",
       " ('028400642033',),\n",
       " ('036000391718',),\n",
       " ('044700092408',),\n",
       " ('043000023440',),\n",
       " ('029000016187',),\n",
       " ('021000001361',),\n",
       " ('029000020344',),\n",
       " ('043000009604',),\n",
       " ('021000024834',),\n",
       " ('071159020195',),\n",
       " ('043000204399',),\n",
       " ('021908236865',),\n",
       " ('043000060544',),\n",
       " ('021000034574',),\n",
       " ('043000057162',),\n",
       " ('044700096284',),\n",
       " ('686924155783',),\n",
       " ('016000156234',),\n",
       " ('305210154278',),\n",
       " ('001111132666',),\n",
       " ('089203700016',),\n",
       " ('079400245328',),\n",
       " ('001111147332',),\n",
       " ('079400236425',),\n",
       " ('016000493025',),\n",
       " ('043000066706',),\n",
       " ('043000000175',),\n",
       " ('043000082294',),\n",
       " ('043000955628',),\n",
       " ('072785048119',),\n",
       " ('043000206515',),\n",
       " ('043000061978',),\n",
       " ('044700071533',),\n",
       " ('025800026302',),\n",
       " ('021000007660',),\n",
       " ('070085035006',),\n",
       " ('686924820858',),\n",
       " ('798813118547',),\n",
       " ('077567000637',),\n",
       " ('021000068159',),\n",
       " ('021000648863',),\n",
       " ('029000023666',),\n",
       " ('043000078488',),\n",
       " ('043000071182',),\n",
       " ('043000062760',),\n",
       " ('021000725403',),\n",
       " ('021000024858',),\n",
       " ('044700076422',),\n",
       " ('051600001003',),\n",
       " ('076840100354',),\n",
       " ('311111511867',),\n",
       " ('041000022623',),\n",
       " ('076840580750',),\n",
       " ('028435383253',),\n",
       " ('070470137735',),\n",
       " ('011111326231',),\n",
       " ('043000000199',),\n",
       " ('822142991523',),\n",
       " ('043000043790',),\n",
       " ('036632011077',),\n",
       " ('075706191031',),\n",
       " ('019600920106',),\n",
       " ('028189000079',),\n",
       " ('754500326305',),\n",
       " ('058496723002',),\n",
       " ('058449450023',),\n",
       " ('075450093070',),\n",
       " ('048500256763',),\n",
       " ('4816',),\n",
       " ('4166',),\n",
       " ('075450120400',),\n",
       " ('754500797204',),\n",
       " ('075450085150',),\n",
       " ('071007023095',),\n",
       " ('072310001459',),\n",
       " ('754502285808',),\n",
       " ('041390024368',),\n",
       " ('043000716021',),\n",
       " ('044500341720',),\n",
       " ('754500958803',),\n",
       " ('024105590051',),\n",
       " ('21251000000',),\n",
       " ('4060',),\n",
       " ('048500052020',),\n",
       " ('4069',),\n",
       " ('4093',),\n",
       " ('754500973400',),\n",
       " ('075450079760',),\n",
       " ('754500947807',),\n",
       " ('039400015031',),\n",
       " ('025500204215',),\n",
       " ('754501311409',),\n",
       " ('754500355602',),\n",
       " ('018627030010',),\n",
       " ('041000004087',),\n",
       " ('021000604647',),\n",
       " ('071146002487',),\n",
       " ('754501734109',),\n",
       " ('071430010051',),\n",
       " ('754500638101',),\n",
       " ('305731769135',),\n",
       " ('048000007070',),\n",
       " ('015300430594',),\n",
       " ('009800300037',),\n",
       " ('754500990209',),\n",
       " ('014113911979',),\n",
       " ('028800296737',),\n",
       " ('071100007299',),\n",
       " ('036632037541',),\n",
       " ('036632013095',),\n",
       " ('084114111722',),\n",
       " ('014113910026',),\n",
       " ('815473013279',),\n",
       " ('028400643061',),\n",
       " ('689544081937',),\n",
       " ('037000979715',),\n",
       " ('085718300512',),\n",
       " ('078742112138',),\n",
       " ('633472322587',),\n",
       " ('029000019034',),\n",
       " ('052100587967',),\n",
       " ('078742348315',),\n",
       " ('042222302005',),\n",
       " ('681131122764',),\n",
       " ('857484001159',),\n",
       " ('689544083405',),\n",
       " ('887214041018',),\n",
       " ('045255148947',),\n",
       " ('681131091206',),\n",
       " ('026542084018',),\n",
       " ('068113135477',),\n",
       " ('041235000687',),\n",
       " ('037466017631',),\n",
       " ('076828048432',),\n",
       " ('021000040247',),\n",
       " ('021000612239',),\n",
       " ('078000082401',),\n",
       " ('013120014178',),\n",
       " ('075706304783',),\n",
       " ('036000485967',),\n",
       " ('000980000069',),\n",
       " ('078742052328',),\n",
       " ('041483022226',),\n",
       " ('078742333960',),\n",
       " ('015800030621',),\n",
       " ('007874242956',),\n",
       " ('078742372198',),\n",
       " ('754500947500',),\n",
       " ('754501315209',),\n",
       " ('041500220208',),\n",
       " ('754500024805',),\n",
       " ('754500486009',),\n",
       " ('038000924224',),\n",
       " ('611443010787',),\n",
       " ('046000721835',),\n",
       " ('014100095071',),\n",
       " ('043000285213',),\n",
       " ('030100001331',),\n",
       " ('041289895406',),\n",
       " ('021000024926',),\n",
       " ('4759',),\n",
       " ('3332',),\n",
       " ('4608',),\n",
       " ('016000363779',),\n",
       " ('311111242129',),\n",
       " ('754500363409',),\n",
       " ('884912006806',),\n",
       " ('605806001307',),\n",
       " ('011110916600',),\n",
       " ('082242012362',),\n",
       " ('046000400280',),\n",
       " ('073410955505',),\n",
       " ('046000288697',),\n",
       " ('4225',),\n",
       " ('075856000269',),\n",
       " ('26623200000',),\n",
       " ('305731769203',),\n",
       " ('22',),\n",
       " ('043000041994',),\n",
       " ('043000068649',),\n",
       " ('021000051038',),\n",
       " ('043000063897',),\n",
       " ('029000016705',),\n",
       " ('044700096321',),\n",
       " ('044700070840',),\n",
       " ('070085038403',),\n",
       " ('044700065617',),\n",
       " ('043000971635',),\n",
       " ('686924113172',),\n",
       " ('043000075340',),\n",
       " ('021000054862',),\n",
       " ('021000679201',),\n",
       " ('087684002872',),\n",
       " ('071871542067',),\n",
       " ('025800000524',),\n",
       " ('013000010917',),\n",
       " ('013000000635',),\n",
       " ('029000021273',),\n",
       " ('071040063188',),\n",
       " ('021000054961',),\n",
       " ('021000007363',),\n",
       " ('019582000117',),\n",
       " ('021000604906',),\n",
       " ('021000644551',),\n",
       " ('043000204443',),\n",
       " ('021000029778',),\n",
       " ('044700072813',),\n",
       " ('044700087145',),\n",
       " ('044700087329',),\n",
       " ('016000151024',),\n",
       " ('077567304124',),\n",
       " ('044700064238',),\n",
       " ('013120000843',),\n",
       " ('021000006106',),\n",
       " ('012000809965',),\n",
       " ('005111116022',),\n",
       " ('311111536044',),\n",
       " ('074682200294',),\n",
       " ('011594404013',),\n",
       " ('013000006187',),\n",
       " ('021000065547',),\n",
       " ('311111806949',),\n",
       " ('012000810022',),\n",
       " ('815473010360',),\n",
       " ('013000798952',),\n",
       " ('044700071748',),\n",
       " ('043000032275',),\n",
       " ('044700024119',),\n",
       " ('028400081382',),\n",
       " ('021000046904',),\n",
       " ('053000069867',),\n",
       " ('012000004919',),\n",
       " ('815473012357',),\n",
       " ('036000119749',),\n",
       " ('048001154032',),\n",
       " ('041000022906',),\n",
       " ('016300165912',),\n",
       " ('028400641326',),\n",
       " ('028400003988',),\n",
       " ('029000074361',),\n",
       " ('043000061732',),\n",
       " ('021000068036',),\n",
       " ('686924291290',),\n",
       " ('025800000159',),\n",
       " ('021000633609',),\n",
       " ('030000562383',),\n",
       " ('737628011506',),\n",
       " ('021000615315',),\n",
       " ('015000056087',),\n",
       " ('4068',),\n",
       " ('021000039340',),\n",
       " ('94094',),\n",
       " ('896859000489',),\n",
       " ('036000478044',),\n",
       " ('016000496361',),\n",
       " ('013800190215',),\n",
       " ('048001213517',),\n",
       " ('025500202310',),\n",
       " ('311111452382',),\n",
       " ('021834033316',),\n",
       " ('23572500000',),\n",
       " ('012000106057',),\n",
       " ('012000000171',),\n",
       " ('012000010736',),\n",
       " ('043000050910',),\n",
       " ('071100211474',),\n",
       " ('4540',),\n",
       " ('4090',),\n",
       " ('612669316714',),\n",
       " ('041129411506',),\n",
       " ('311111603920',),\n",
       " ('044000043254',),\n",
       " ('048001154049',),\n",
       " ('071100006681',),\n",
       " ('021000065127',),\n",
       " ('044700098752',),\n",
       " ('4061',),\n",
       " ('311111705006',),\n",
       " ('044700061909',),\n",
       " ('021000026999',),\n",
       " ('4066',),\n",
       " ('021000701445',),\n",
       " ('4562',),\n",
       " ('016000877009',),\n",
       " ('052100625348',),\n",
       " ('025500005188',),\n",
       " ('029000017986',),\n",
       " ('023400022212',),\n",
       " ('041695151721',),\n",
       " ('071100200058',),\n",
       " ('072310001244',),\n",
       " ('044000034030',),\n",
       " ('044000051051',),\n",
       " ('072220001808',),\n",
       " ('016000854307',),\n",
       " ('311111434807',),\n",
       " ('016000126855',),\n",
       " ('020709100139',),\n",
       " ('021000037490',),\n",
       " ('022000014252',),\n",
       " ('029000073692',),\n",
       " ('311111149350',),\n",
       " ('071100309744',),\n",
       " ('311111445421',),\n",
       " ('041800200139',),\n",
       " ('070158008678',),\n",
       " ('861745000010',),\n",
       " ('4662',),\n",
       " ('041235000328',),\n",
       " ('4614',),\n",
       " ('013120002588',),\n",
       " ('070492140003',),\n",
       " ('051700788262',),\n",
       " ('041483030917',),\n",
       " ('311111208538',),\n",
       " ('020169222341',),\n",
       " ('074904100104',),\n",
       " ('011110876942',),\n",
       " ('011110857132',),\n",
       " ('052100037509',),\n",
       " ('029000016156',),\n",
       " ('044600020020',),\n",
       " ('041321006357',),\n",
       " ('041695951130',),\n",
       " ('037466016023',),\n",
       " ('016000123151',),\n",
       " ('4023',),\n",
       " ('3435',),\n",
       " ('011110973009',),\n",
       " ('011110847454',),\n",
       " ('034695123621',),\n",
       " ('051611165893',),\n",
       " ('071279275024',),\n",
       " ('076840400218',),\n",
       " ('071430000724',),\n",
       " ('016000124790',),\n",
       " ('3283',),\n",
       " ('94023',),\n",
       " ('4072',),\n",
       " ('013800100320',),\n",
       " ('4563',),\n",
       " ('070446400009',),\n",
       " ('029000021723',),\n",
       " ('041196277470',),\n",
       " ('076001350437',),\n",
       " ('4053',),\n",
       " ('013800104083',),\n",
       " ('071100007077',),\n",
       " ('074714086827',),\n",
       " ('021000744152',),\n",
       " ('085000015889',),\n",
       " ('046704096802',),\n",
       " ('043000956113',),\n",
       " ('044700075302',),\n",
       " ('077661120460',),\n",
       " ('034000056644',),\n",
       " ('011110916068',),\n",
       " ('021000069293',),\n",
       " ('021000068883',),\n",
       " ('025155000149',),\n",
       " ('043000062753',),\n",
       " ('759283001890',),\n",
       " ('043000000342',),\n",
       " ('016000437760',),\n",
       " ('021000045129',),\n",
       " ('038000052200',),\n",
       " ('038000138577',),\n",
       " ('041695103799',),\n",
       " ('053800123004',),\n",
       " ('23671200000',),\n",
       " ('764025930000',),\n",
       " ('889714000038',),\n",
       " ('076840100477',),\n",
       " ('070800179329',),\n",
       " ('042222336413',),\n",
       " ('012000171864',),\n",
       " ('049000012781',),\n",
       " ('049000010633',),\n",
       " ('051000228895',),\n",
       " ('078000010367',),\n",
       " ('044000039905',),\n",
       " ('071142004089',),\n",
       " ('050000274444',),\n",
       " ('071840205009',),\n",
       " ('077661137833',),\n",
       " ('767707013299',),\n",
       " ('078300054764',),\n",
       " ('4131',),\n",
       " ('034000040476',),\n",
       " ('021000054473',),\n",
       " ('043000079232',),\n",
       " ('029000020351',),\n",
       " ('043000200520',),\n",
       " ('044700009000',),\n",
       " ('041129412152',),\n",
       " ('013000798303',),\n",
       " ('021000043552',),\n",
       " ('087684009000',),\n",
       " ('029000019201',),\n",
       " ('792851356565',),\n",
       " ('044700073933',),\n",
       " ('043000003596',),\n",
       " ('021000054190',),\n",
       " ('021131506940',),\n",
       " ('780993107565',),\n",
       " ('074714086643',),\n",
       " ('4135',),\n",
       " ('857183005120',),\n",
       " ('041449001401',),\n",
       " ('026800001924',),\n",
       " ('21075100000',),\n",
       " ('041129634608',),\n",
       " ('070221006693',),\n",
       " ('021000642182',),\n",
       " ('041129000052',),\n",
       " ('021000049318',),\n",
       " ('041244000098',),\n",
       " ('037000889427',),\n",
       " ('4078',),\n",
       " ('048001412538',),\n",
       " ('212245400006',),\n",
       " ('011110603746',),\n",
       " ('011110974525',),\n",
       " ('041260362873',),\n",
       " ('021000658831',),\n",
       " ('4067',),\n",
       " ('044300107700',),\n",
       " ('011110073747',),\n",
       " ('20750000000',),\n",
       " ('077298000043',),\n",
       " ('021000068852',),\n",
       " ('021000055005',),\n",
       " ('044700031711',),\n",
       " ('029000015630',),\n",
       " ('5000111047524',),\n",
       " ('043000081099',),\n",
       " ('043000005217',),\n",
       " ('049900000345',),\n",
       " ('044700087558',),\n",
       " ('021000037186',),\n",
       " ('029000012578',),\n",
       " ('025400076363',),\n",
       " ('043000204405',),\n",
       " ('2700710686201',),\n",
       " ('016000147096',),\n",
       " ('036000320893',),\n",
       " ('036000495737',),\n",
       " ('036000432190',),\n",
       " ('070470400235',),\n",
       " ('043000081501',),\n",
       " ('048121229030',),\n",
       " ('041449402529',),\n",
       " ('021000052363',),\n",
       " ('043000006283',),\n",
       " ('021000018710',),\n",
       " ('036000162905',),\n",
       " ('016000898264',),\n",
       " ('007940018942',),\n",
       " ('021000049325',),\n",
       " ('025800020300',),\n",
       " ('021000024582',),\n",
       " ('600699001564',),\n",
       " ('016000128620',),\n",
       " ('070470149394',),\n",
       " ('043000080443',),\n",
       " ('013000009263',),\n",
       " ('021000045006',),\n",
       " ('029000019416',),\n",
       " ('087684009338',),\n",
       " ('021000054602',),\n",
       " ('043000058404',),\n",
       " ('087684004449',),\n",
       " ('036000494129',),\n",
       " ('021000024674',),\n",
       " ('013000799102',),\n",
       " ('043000048528',),\n",
       " ('021000030453',),\n",
       " ('071159001750',),\n",
       " ('042800108005',),\n",
       " ('B076FJ92M4',),\n",
       " ('B07BRRLSVC',),\n",
       " ('B08BGBHHP6',),\n",
       " ('B08DQDHR2S',),\n",
       " ('665290001184',)]"
      ]
     },
     "execution_count": 32,
     "metadata": {},
     "output_type": "execute_result"
    }
   ],
   "source": [
    "res = cursor.execute('''\n",
    "select count()\n",
    "select r.id\n",
    ",CAST(JSON_EXTRACT(j.value, '$.barcode') as VARCHAR) as barcode  \n",
    ",CAST(JSON_EXTRACT(j.value, '$.pointsPayerId') as VARCHAR) as pointsPayerId\n",
    ",CAST(JSON_EXTRACT(j.value, '$.rewardsProductPartnerId') as VARCHAR) as rewardsProductPartnerId\n",
    "from receipts r, json_each(rewardsReceiptItemList) j\n",
    "where barcode not in (select distinct barcode from brands)\n",
    "\n",
    "''')\n",
    "res.fetchall()"
   ]
  },
  {
   "cell_type": "code",
   "execution_count": null,
   "id": "2df0a2c9",
   "metadata": {},
   "outputs": [],
   "source": []
  }
 ],
 "metadata": {
  "kernelspec": {
   "display_name": "Python 3 (ipykernel)",
   "language": "python",
   "name": "python3"
  },
  "language_info": {
   "codemirror_mode": {
    "name": "ipython",
    "version": 3
   },
   "file_extension": ".py",
   "mimetype": "text/x-python",
   "name": "python",
   "nbconvert_exporter": "python",
   "pygments_lexer": "ipython3",
   "version": "3.9.7"
  }
 },
 "nbformat": 4,
 "nbformat_minor": 5
}
