{
 "cells": [
  {
   "cell_type": "code",
   "execution_count": 9,
   "metadata": {},
   "outputs": [],
   "source": [
    "import numpy as np, pandas as pd, os, sqlite3, json"
   ]
  },
  {
   "cell_type": "code",
   "execution_count": 10,
   "metadata": {},
   "outputs": [],
   "source": [
    "# Function to create SQLite database and tables\n",
    "def create_database_and_tables():\n",
    "    # Connect to SQLite database (or create if it doesn't exist)\n",
    "    conn = sqlite3.connect('datalake.db')\n",
    "    cursor = conn.cursor()\n",
    "\n",
    "    # Create tables\n",
    "    # Create users table\n",
    "    cursor.execute('''CREATE TABLE IF NOT EXISTS users (\n",
    "                    id TEXT,\n",
    "                    active INTEGER,\n",
    "                    createdDate INTEGER,\n",
    "                    lastLogin INTEGER,\n",
    "                    role TEXT,\n",
    "                    signUpSource TEXT,\n",
    "                    state TEXT\n",
    "                )''')\n",
    "\n",
    "    # Create receipts table\n",
    "    cursor.execute('''CREATE TABLE IF NOT EXISTS receipts (\n",
    "                    id TEXT PRIMARY KEY,\n",
    "                    bonusPointsEarned INTEGER,\n",
    "                    bonusPointsEarnedReason TEXT,\n",
    "                    createDate INTEGER,\n",
    "                    dateScanned INTEGER,\n",
    "                    finishedDate INTEGER,\n",
    "                    modifyDate INTEGER,\n",
    "                    pointsAwardedDate INTEGER,\n",
    "                    pointsEarned REAL,\n",
    "                    purchaseDate INTEGER,\n",
    "                    purchasedItemCount INTEGER,\n",
    "                    rewardsReceiptItemList TEXT, \n",
    "                    rewardsReceiptStatus TEXT,\n",
    "                    totalSpent REAL,\n",
    "                    userId TEXT\n",
    "                )''')\n",
    "\n",
    "# Create brands table\n",
    "    cursor.execute('''CREATE TABLE IF NOT EXISTS brands (\n",
    "                    id TEXT PRIMARY KEY,\n",
    "                    name TEXT,\n",
    "                    cpg_ref TEXT,\n",
    "                    cpg_id TEXT,\n",
    "                    category TEXT,\n",
    "                    categoryCode TEXT,\n",
    "                    barcode TEXT,\n",
    "                    brandCode TEXT,\n",
    "                    topBrand INTEGER\n",
    "                )''')\n",
    "\n",
    "    conn.commit()\n",
    "    conn.close()\n",
    "\n"
   ]
  },
  {
   "cell_type": "code",
   "execution_count": 11,
   "metadata": {},
   "outputs": [],
   "source": [
    "create_database_and_tables()"
   ]
  },
  {
   "cell_type": "code",
   "execution_count": 12,
   "metadata": {},
   "outputs": [
    {
     "data": {
      "text/plain": [
       "[('users',),\n",
       " ('receipts',),\n",
       " ('sqlite_autoindex_receipts_1',),\n",
       " ('brands',),\n",
       " ('sqlite_autoindex_brands_1',)]"
      ]
     },
     "execution_count": 12,
     "metadata": {},
     "output_type": "execute_result"
    }
   ],
   "source": [
    "# Fetching the table \n",
    "conn = sqlite3.connect('datalake.db')\n",
    "cursor = conn.cursor()\n",
    "res = cursor.execute(\"select name from sqlite_master\")\n",
    "res.fetchall()"
   ]
  },
  {
   "cell_type": "code",
   "execution_count": 13,
   "metadata": {},
   "outputs": [],
   "source": [
    "# Read and insert data from file 1 (users)\n",
    "with open('users.json') as f:\n",
    "    for line in f:\n",
    "        user_data = json.loads(line)\n",
    "        user_id = user_data.get('_id', {}).get('$oid', None)\n",
    "        active = user_data.get('active', None)\n",
    "        created_date = user_data.get('createdDate', {}).get('$date', None)\n",
    "        last_login = user_data.get('lastLogin', {}).get('$date', None)\n",
    "        role = user_data.get('role', None)\n",
    "        signUpSource = user_data.get('signUpSource', None)\n",
    "        state = user_data.get('state', None)\n",
    "\n",
    "        cursor.execute('''INSERT INTO users VALUES (?, ?, ?, ?, ?, ?, ?)''',\n",
    "                       (user_id, active, created_date, last_login, role, signUpSource, state))\n",
    "\n",
    "# Read and insert data from file 2 (receipts)\n",
    "with open('receipts.json') as f:\n",
    "    for line in f:\n",
    "        receipt_data = json.loads(line)\n",
    "        receipt_id = receipt_data.get('_id', {}).get('$oid', None)\n",
    "        bonus_points_earned = receipt_data.get('bonusPointsEarned', None)\n",
    "        bonus_points_earned_reason = receipt_data.get('bonusPointsEarnedReason', None)\n",
    "        create_date = receipt_data.get('createDate', {}).get('$date', None)\n",
    "        date_scanned = receipt_data.get('dateScanned', {}).get('$date', None)\n",
    "        finished_date = receipt_data.get('finishedDate', {}).get('$date', None)\n",
    "        modify_date = receipt_data.get('modifyDate', {}).get('$date', None)\n",
    "        points_awarded_date = receipt_data.get('pointsAwardedDate', {}).get('$date', None)\n",
    "        points_earned = receipt_data.get('pointsEarned', None)\n",
    "        purchase_date = receipt_data.get('purchaseDate', {}).get('$date', None)\n",
    "        purchased_item_count = receipt_data.get('purchasedItemCount', None)\n",
    "        rewards_receipt_itemlist = json.dumps(receipt_data.get('rewardsReceiptItemList', None))\n",
    "        rewards_receipt_status = receipt_data.get('rewardsReceiptStatus', None)\n",
    "        total_spent = receipt_data.get('totalSpent', None)\n",
    "        user_id = receipt_data.get('userId', None)\n",
    "\n",
    "        cursor.execute('''INSERT INTO receipts VALUES (?, ?, ?, ?, ?, ?, ?, ?, ?, ?, ?, ?, ?, ?, ?)''',\n",
    "                       (receipt_id, bonus_points_earned, bonus_points_earned_reason, create_date, date_scanned,\n",
    "                        finished_date, modify_date, points_awarded_date, points_earned, purchase_date,\n",
    "                        purchased_item_count, rewards_receipt_itemlist, rewards_receipt_status, total_spent, user_id))\n",
    "\n",
    "# Read and insert data from file 3 (brands)\n",
    "with open('brands.json') as f:\n",
    "    for line in f:\n",
    "        brand_data = json.loads(line)\n",
    "        brand_id = brand_data.get('_id', {}).get('$oid', None)\n",
    "        name = brand_data.get('name', None)\n",
    "        cpg_ref = brand_data.get('cpg', {}).get('$ref', None)\n",
    "        cpg_id = brand_data.get('cpg', {}).get('$id', {}).get('$oid', None)\n",
    "        category = brand_data.get('category', None)\n",
    "        category_code = brand_data.get('categoryCode', None)\n",
    "        barcode = brand_data.get('barcode', None)\n",
    "        brand_code = brand_data.get('brandCode', None)\n",
    "        top_brand = int(brand_data.get('topBrand', False))\n",
    "\n",
    "        cursor.execute('''INSERT INTO brands VALUES (?, ?, ?, ?, ?, ?, ?, ?, ?)''',\n",
    "                       (brand_id, name, cpg_ref, cpg_id, category, category_code, barcode, brand_code, top_brand))\n",
    "\n",
    "# Commit changes and close connection\n",
    "conn.commit()\n",
    "conn.close()"
   ]
  },
  {
   "cell_type": "code",
   "execution_count": 14,
   "metadata": {},
   "outputs": [
    {
     "data": {
      "text/plain": [
       "[(495, 212)]"
      ]
     },
     "execution_count": 14,
     "metadata": {},
     "output_type": "execute_result"
    }
   ],
   "source": [
    "conn = sqlite3.connect('datalake.db')\n",
    "cursor = conn.cursor()\n",
    "res = cursor.execute(\"select count(id), count(distinct id) from users limit 10\")\n",
    "res.fetchall()"
   ]
  },
  {
   "cell_type": "code",
   "execution_count": 15,
   "metadata": {},
   "outputs": [
    {
     "data": {
      "text/plain": [
       "[(1119, 1119)]"
      ]
     },
     "execution_count": 15,
     "metadata": {},
     "output_type": "execute_result"
    }
   ],
   "source": [
    "res = cursor.execute(\"select count(id), count(distinct id) from receipts\")\n",
    "res.fetchall()"
   ]
  },
  {
   "cell_type": "code",
   "execution_count": 16,
   "metadata": {},
   "outputs": [
    {
     "data": {
      "text/plain": [
       "[(1167, 1167)]"
      ]
     },
     "execution_count": 16,
     "metadata": {},
     "output_type": "execute_result"
    }
   ],
   "source": [
    "res = cursor.execute(\"select count(id), count(distinct id) from brands\")\n",
    "res.fetchall()"
   ]
  },
  {
   "cell_type": "code",
   "execution_count": 17,
   "metadata": {},
   "outputs": [
    {
     "data": {
      "text/plain": [
       "[(418, 141)]"
      ]
     },
     "execution_count": 17,
     "metadata": {},
     "output_type": "execute_result"
    }
   ],
   "source": [
    "res = cursor.execute('''select count(id) as cnt, count(distinct id) as users from users\n",
    "                     where id in (select distinct userId from receipts)\n",
    "                     ''')\n",
    "res.fetchall()"
   ]
  },
  {
   "cell_type": "code",
   "execution_count": 18,
   "metadata": {},
   "outputs": [
    {
     "data": {
      "text/plain": [
       "[(148, 117)]"
      ]
     },
     "execution_count": 18,
     "metadata": {},
     "output_type": "execute_result"
    }
   ],
   "source": [
    "res = cursor.execute('''select count(userId), count(distinct userId) from receipts where userId not in \n",
    "                     (select distinct id from users)''')\n",
    "res.fetchall()"
   ]
  },
  {
   "cell_type": "code",
   "execution_count": 19,
   "metadata": {},
   "outputs": [
    {
     "data": {
      "text/plain": [
       "[('5ff1e1eb0a720f0523000575',\n",
       "  500,\n",
       "  'Receipt number 2 completed, bonus point schedule DEFAULT (5cefdcacf3693e0b50e83a36)',\n",
       "  1609687531000,\n",
       "  1609687531000,\n",
       "  1609687531000,\n",
       "  1609687536000,\n",
       "  1609687531000,\n",
       "  500.0,\n",
       "  1609632000000,\n",
       "  5,\n",
       "  '[{\"barcode\": \"4011\", \"description\": \"ITEM NOT FOUND\", \"finalPrice\": \"26.00\", \"itemPrice\": \"26.00\", \"needsFetchReview\": false, \"partnerItemId\": \"1\", \"preventTargetGapPoints\": true, \"quantityPurchased\": 5, \"userFlaggedBarcode\": \"4011\", \"userFlaggedNewItem\": true, \"userFlaggedPrice\": \"26.00\", \"userFlaggedQuantity\": 5}]',\n",
       "  'FINISHED',\n",
       "  26.0,\n",
       "  '5ff1e1eacfcf6c399c274ae6'),\n",
       " ('5ff1e1bb0a720f052300056b',\n",
       "  150,\n",
       "  'Receipt number 5 completed, bonus point schedule DEFAULT (5cefdcacf3693e0b50e83a36)',\n",
       "  1609687483000,\n",
       "  1609687483000,\n",
       "  1609687483000,\n",
       "  1609687488000,\n",
       "  1609687483000,\n",
       "  150.0,\n",
       "  1609601083000,\n",
       "  2,\n",
       "  '[{\"barcode\": \"4011\", \"description\": \"ITEM NOT FOUND\", \"finalPrice\": \"1\", \"itemPrice\": \"1\", \"partnerItemId\": \"1\", \"quantityPurchased\": 1}, {\"barcode\": \"028400642255\", \"description\": \"DORITOS TORTILLA CHIP SPICY SWEET CHILI REDUCED FAT BAG 1 OZ\", \"finalPrice\": \"10.00\", \"itemPrice\": \"10.00\", \"needsFetchReview\": true, \"needsFetchReviewReason\": \"USER_FLAGGED\", \"partnerItemId\": \"2\", \"pointsNotAwardedReason\": \"Action not allowed for user and CPG\", \"pointsPayerId\": \"5332f5fbe4b03c9a25efd0ba\", \"preventTargetGapPoints\": true, \"quantityPurchased\": 1, \"rewardsGroup\": \"DORITOS SPICY SWEET CHILI SINGLE SERVE\", \"rewardsProductPartnerId\": \"5332f5fbe4b03c9a25efd0ba\", \"userFlaggedBarcode\": \"028400642255\", \"userFlaggedDescription\": \"DORITOS TORTILLA CHIP SPICY SWEET CHILI REDUCED FAT BAG 1 OZ\", \"userFlaggedNewItem\": true, \"userFlaggedPrice\": \"10.00\", \"userFlaggedQuantity\": 1}]',\n",
       "  'FINISHED',\n",
       "  11.0,\n",
       "  '5ff1e194b6a9d73a3a9f1052'),\n",
       " ('5ff1e1f10a720f052300057a',\n",
       "  5,\n",
       "  'All-receipts receipt bonus',\n",
       "  1609687537000,\n",
       "  1609687537000,\n",
       "  None,\n",
       "  1609687542000,\n",
       "  None,\n",
       "  5.0,\n",
       "  1609632000000,\n",
       "  1,\n",
       "  '[{\"needsFetchReview\": false, \"partnerItemId\": \"1\", \"preventTargetGapPoints\": true, \"userFlaggedBarcode\": \"4011\", \"userFlaggedNewItem\": true, \"userFlaggedPrice\": \"26.00\", \"userFlaggedQuantity\": 3}]',\n",
       "  'REJECTED',\n",
       "  10.0,\n",
       "  '5ff1e1f1cfcf6c399c274b0b'),\n",
       " ('5ff1e1ee0a7214ada100056f',\n",
       "  5,\n",
       "  'All-receipts receipt bonus',\n",
       "  1609687534000,\n",
       "  1609687534000,\n",
       "  1609687534000,\n",
       "  1609687539000,\n",
       "  1609687534000,\n",
       "  5.0,\n",
       "  1609632000000,\n",
       "  4,\n",
       "  '[{\"barcode\": \"4011\", \"description\": \"ITEM NOT FOUND\", \"finalPrice\": \"28.00\", \"itemPrice\": \"28.00\", \"needsFetchReview\": false, \"partnerItemId\": \"1\", \"preventTargetGapPoints\": true, \"quantityPurchased\": 4, \"userFlaggedBarcode\": \"4011\", \"userFlaggedNewItem\": true, \"userFlaggedPrice\": \"28.00\", \"userFlaggedQuantity\": 4}]',\n",
       "  'FINISHED',\n",
       "  28.0,\n",
       "  '5ff1e1eacfcf6c399c274ae6'),\n",
       " ('5ff1e1d20a7214ada1000561',\n",
       "  5,\n",
       "  'All-receipts receipt bonus',\n",
       "  1609687506000,\n",
       "  1609687506000,\n",
       "  1609687511000,\n",
       "  1609687511000,\n",
       "  1609687506000,\n",
       "  5.0,\n",
       "  1609601106000,\n",
       "  2,\n",
       "  '[{\"barcode\": \"4011\", \"description\": \"ITEM NOT FOUND\", \"finalPrice\": \"1\", \"itemPrice\": \"1\", \"partnerItemId\": \"1\", \"quantityPurchased\": 1}, {\"barcode\": \"1234\", \"finalPrice\": \"2.56\", \"itemPrice\": \"2.56\", \"needsFetchReview\": true, \"needsFetchReviewReason\": \"USER_FLAGGED\", \"partnerItemId\": \"2\", \"preventTargetGapPoints\": true, \"quantityPurchased\": 3, \"userFlaggedBarcode\": \"1234\", \"userFlaggedDescription\": \"\", \"userFlaggedNewItem\": true, \"userFlaggedPrice\": \"2.56\", \"userFlaggedQuantity\": 3}]',\n",
       "  'FINISHED',\n",
       "  1.0,\n",
       "  '5ff1e194b6a9d73a3a9f1052'),\n",
       " ('5ff1e1e40a7214ada1000566',\n",
       "  750,\n",
       "  'Receipt number 1 completed, bonus point schedule DEFAULT (5cefdcacf3693e0b50e83a36)',\n",
       "  1609687524000,\n",
       "  1609687524000,\n",
       "  1609687525000,\n",
       "  1609687530000,\n",
       "  1609687525000,\n",
       "  750.0,\n",
       "  1609601124000,\n",
       "  1,\n",
       "  '[{\"barcode\": \"4011\", \"description\": \"ITEM NOT FOUND\", \"finalPrice\": \"3.25\", \"itemPrice\": \"3.25\", \"needsFetchReview\": false, \"originalMetaBriteBarcode\": \"028400642255\", \"originalMetaBriteDescription\": \"DORITOS TORTILLA CHIP SPICY SWEET CHILI REDUCED FAT BAG 1 OZ\", \"partnerItemId\": \"1\", \"pointsNotAwardedReason\": \"Action not allowed for user and CPG\", \"pointsPayerId\": \"5332f5fbe4b03c9a25efd0ba\", \"preventTargetGapPoints\": true, \"quantityPurchased\": 1, \"rewardsGroup\": \"DORITOS SPICY SWEET CHILI SINGLE SERVE\", \"rewardsProductPartnerId\": \"5332f5fbe4b03c9a25efd0ba\", \"userFlaggedBarcode\": \"4011\"}]',\n",
       "  'FINISHED',\n",
       "  3.25,\n",
       "  '5ff1e1e4cfcf6c399c274ac3'),\n",
       " ('5ff1e1cd0a720f052300056f',\n",
       "  5,\n",
       "  'All-receipts receipt bonus',\n",
       "  1609687501000,\n",
       "  1609687501000,\n",
       "  1609687502000,\n",
       "  1609687502000,\n",
       "  1609687502000,\n",
       "  5.0,\n",
       "  1609687501000,\n",
       "  1,\n",
       "  '[{\"brandCode\": \"MISSION\", \"competitorRewardsGroup\": \"TACO BELL TACO SHELLS\", \"description\": \"MSSN TORTLLA\", \"discountedItemPrice\": \"2.23\", \"finalPrice\": \"2.23\", \"itemPrice\": \"2.23\", \"originalReceiptItemText\": \"MSSN TORTLLA\", \"partnerItemId\": \"1009\", \"quantityPurchased\": 1}]',\n",
       "  'FINISHED',\n",
       "  2.23,\n",
       "  '5ff1e194b6a9d73a3a9f1052'),\n",
       " ('5ff1e1a40a720f0523000569',\n",
       "  500,\n",
       "  'Receipt number 2 completed, bonus point schedule DEFAULT (5cefdcacf3693e0b50e83a36)',\n",
       "  1609687460000,\n",
       "  1609687460000,\n",
       "  1609687461000,\n",
       "  1609687461000,\n",
       "  1609687461000,\n",
       "  500.0,\n",
       "  1609027200000,\n",
       "  1,\n",
       "  '[{\"barcode\": \"046000832517\", \"brandCode\": \"BRAND\", \"description\": \"Old El Paso Mild Chopped Green Chiles, 4.5 Oz\", \"finalPrice\": \"10.00\", \"itemPrice\": \"10.00\", \"partnerItemId\": \"0\", \"pointsNotAwardedReason\": \"Action not allowed for user and CPG\", \"pointsPayerId\": \"5332f5f3e4b03c9a25efd0ae\", \"quantityPurchased\": 1, \"rewardsGroup\": \"OLD EL PASO BEANS & PEPPERS\", \"rewardsProductPartnerId\": \"5332f5f3e4b03c9a25efd0ae\"}]',\n",
       "  'FINISHED',\n",
       "  10.0,\n",
       "  '5ff1e194b6a9d73a3a9f1052'),\n",
       " ('5ff1e1ed0a7214ada100056e',\n",
       "  5,\n",
       "  'All-receipts receipt bonus',\n",
       "  1609687533000,\n",
       "  1609687533000,\n",
       "  1609687534000,\n",
       "  1609687538000,\n",
       "  1609687534000,\n",
       "  5.0,\n",
       "  1609632000000,\n",
       "  5,\n",
       "  '[{\"barcode\": \"4011\", \"description\": \"ITEM NOT FOUND\", \"finalPrice\": \"20.00\", \"itemPrice\": \"20.00\", \"needsFetchReview\": false, \"partnerItemId\": \"1\", \"preventTargetGapPoints\": true, \"quantityPurchased\": 5, \"userFlaggedBarcode\": \"4011\", \"userFlaggedNewItem\": true, \"userFlaggedPrice\": \"20.00\", \"userFlaggedQuantity\": 5}]',\n",
       "  'FINISHED',\n",
       "  20.0,\n",
       "  '5ff1e1eacfcf6c399c274ae6'),\n",
       " ('5ff1e1eb0a7214ada100056b',\n",
       "  250,\n",
       "  'Receipt number 3 completed, bonus point schedule DEFAULT (5cefdcacf3693e0b50e83a36)',\n",
       "  1609687531000,\n",
       "  1609687531000,\n",
       "  1609687531000,\n",
       "  1609687536000,\n",
       "  1609687531000,\n",
       "  250.0,\n",
       "  1609632000000,\n",
       "  3,\n",
       "  '[{\"barcode\": \"4011\", \"description\": \"ITEM NOT FOUND\", \"finalPrice\": \"20.00\", \"itemPrice\": \"20.00\", \"needsFetchReview\": false, \"partnerItemId\": \"1\", \"preventTargetGapPoints\": true, \"quantityPurchased\": 3, \"userFlaggedBarcode\": \"4011\", \"userFlaggedNewItem\": true, \"userFlaggedPrice\": \"20.00\", \"userFlaggedQuantity\": 3}]',\n",
       "  'FINISHED',\n",
       "  20.0,\n",
       "  '5ff1e1eacfcf6c399c274ae6')]"
      ]
     },
     "execution_count": 19,
     "metadata": {},
     "output_type": "execute_result"
    }
   ],
   "source": [
    "res = cursor.execute('''select * from receipts limit 10''')\n",
    "res.fetchall()"
   ]
  },
  {
   "cell_type": "code",
   "execution_count": null,
   "metadata": {},
   "outputs": [],
   "source": []
  }
 ],
 "metadata": {
  "kernelspec": {
   "display_name": "Python 3 (ipykernel)",
   "language": "python",
   "name": "python3"
  },
  "language_info": {
   "codemirror_mode": {
    "name": "ipython",
    "version": 3
   },
   "file_extension": ".py",
   "mimetype": "text/x-python",
   "name": "python",
   "nbconvert_exporter": "python",
   "pygments_lexer": "ipython3",
   "version": "3.9.7"
  }
 },
 "nbformat": 4,
 "nbformat_minor": 2
}
