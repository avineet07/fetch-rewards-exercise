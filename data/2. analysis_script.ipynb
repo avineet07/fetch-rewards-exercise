{
 "cells": [
  {
   "cell_type": "code",
   "execution_count": 1,
   "id": "2e3102ba",
   "metadata": {},
   "outputs": [],
   "source": [
    "import numpy as np, pandas as pd, os, sqlite3\n",
    "from datetime import datetime as dt"
   ]
  },
  {
   "cell_type": "code",
   "execution_count": 2,
   "id": "f19e9b83",
   "metadata": {},
   "outputs": [],
   "source": [
    "conn = sqlite3.connect('datalake.db')\n",
    "cursor = conn.cursor()"
   ]
  },
  {
   "cell_type": "code",
   "execution_count": 3,
   "id": "9d2c23ea",
   "metadata": {},
   "outputs": [
    {
     "data": {
      "text/plain": [
       "[('users',),\n",
       " ('receipts',),\n",
       " ('sqlite_autoindex_receipts_1',),\n",
       " ('brands',),\n",
       " ('sqlite_autoindex_brands_1',)]"
      ]
     },
     "execution_count": 3,
     "metadata": {},
     "output_type": "execute_result"
    }
   ],
   "source": [
    "# Ensuring tables are present \n",
    "res = cursor.execute('''select name from sqlite_master''')\n",
    "res.fetchall()"
   ]
  },
  {
   "cell_type": "markdown",
   "id": "d5b8102e",
   "metadata": {},
   "source": [
    "## Data Quality Checks"
   ]
  },
  {
   "cell_type": "markdown",
   "id": "229a27c9",
   "metadata": {},
   "source": [
    "### 1. Users table"
   ]
  },
  {
   "cell_type": "code",
   "execution_count": 4,
   "id": "78091c00",
   "metadata": {},
   "outputs": [],
   "source": [
    "users = pd.read_sql('''\n",
    "select id as user_id\n",
    ", active\n",
    ", date(DATETIME(ROUND(createdDate / 1000), 'unixepoch')) as reg_date\n",
    ", date(DATETIME(ROUND(lastLogin / 1000), 'unixepoch')) as last_login_date\n",
    ", signUpSource\n",
    ", state\n",
    "from users''', conn, parse_dates=['reg_date', 'last_login_date'])"
   ]
  },
  {
   "cell_type": "code",
   "execution_count": 5,
   "id": "40b585b1",
   "metadata": {},
   "outputs": [
    {
     "data": {
      "text/html": [
       "<div>\n",
       "<style scoped>\n",
       "    .dataframe tbody tr th:only-of-type {\n",
       "        vertical-align: middle;\n",
       "    }\n",
       "\n",
       "    .dataframe tbody tr th {\n",
       "        vertical-align: top;\n",
       "    }\n",
       "\n",
       "    .dataframe thead th {\n",
       "        text-align: right;\n",
       "    }\n",
       "</style>\n",
       "<table border=\"1\" class=\"dataframe\">\n",
       "  <thead>\n",
       "    <tr style=\"text-align: right;\">\n",
       "      <th></th>\n",
       "      <th>user_id</th>\n",
       "      <th>active</th>\n",
       "      <th>reg_date</th>\n",
       "      <th>last_login_date</th>\n",
       "      <th>signUpSource</th>\n",
       "      <th>state</th>\n",
       "    </tr>\n",
       "  </thead>\n",
       "  <tbody>\n",
       "    <tr>\n",
       "      <th>30</th>\n",
       "      <td>5ff36c8e135e7011bcb85da4</td>\n",
       "      <td>1</td>\n",
       "      <td>2021-01-04</td>\n",
       "      <td>2021-01-04</td>\n",
       "      <td>Email</td>\n",
       "      <td>WI</td>\n",
       "    </tr>\n",
       "    <tr>\n",
       "      <th>124</th>\n",
       "      <td>5ffc8ff9b3348b11c9338896</td>\n",
       "      <td>1</td>\n",
       "      <td>2021-01-11</td>\n",
       "      <td>2021-01-11</td>\n",
       "      <td>Email</td>\n",
       "      <td>WI</td>\n",
       "    </tr>\n",
       "    <tr>\n",
       "      <th>272</th>\n",
       "      <td>600f47f06fd0dc1768a34a12</td>\n",
       "      <td>1</td>\n",
       "      <td>2021-01-25</td>\n",
       "      <td>2021-01-25</td>\n",
       "      <td>Email</td>\n",
       "      <td>WI</td>\n",
       "    </tr>\n",
       "    <tr>\n",
       "      <th>223</th>\n",
       "      <td>6006f786fb296c7f688530f8</td>\n",
       "      <td>1</td>\n",
       "      <td>2021-01-19</td>\n",
       "      <td>NaT</td>\n",
       "      <td>Email</td>\n",
       "      <td>AL</td>\n",
       "    </tr>\n",
       "    <tr>\n",
       "      <th>95</th>\n",
       "      <td>5ff73b90eb7c7d31ca8a452b</td>\n",
       "      <td>1</td>\n",
       "      <td>2021-01-07</td>\n",
       "      <td>2021-01-07</td>\n",
       "      <td>Email</td>\n",
       "      <td>WI</td>\n",
       "    </tr>\n",
       "    <tr>\n",
       "      <th>320</th>\n",
       "      <td>6010be6673c60b12049040ef</td>\n",
       "      <td>1</td>\n",
       "      <td>2021-01-27</td>\n",
       "      <td>2021-01-27</td>\n",
       "      <td>Email</td>\n",
       "      <td>WI</td>\n",
       "    </tr>\n",
       "    <tr>\n",
       "      <th>363</th>\n",
       "      <td>60189c74c8b50e11d8454eff</td>\n",
       "      <td>1</td>\n",
       "      <td>2021-02-02</td>\n",
       "      <td>2021-02-02</td>\n",
       "      <td>Email</td>\n",
       "      <td>WI</td>\n",
       "    </tr>\n",
       "    <tr>\n",
       "      <th>232</th>\n",
       "      <td>60085b3dbe5fc90ee6a67b11</td>\n",
       "      <td>1</td>\n",
       "      <td>2021-01-20</td>\n",
       "      <td>2021-01-20</td>\n",
       "      <td>Email</td>\n",
       "      <td>WI</td>\n",
       "    </tr>\n",
       "    <tr>\n",
       "      <th>211</th>\n",
       "      <td>60074b996e64691717e8f11a</td>\n",
       "      <td>1</td>\n",
       "      <td>2021-01-19</td>\n",
       "      <td>2021-01-19</td>\n",
       "      <td>Email</td>\n",
       "      <td>WI</td>\n",
       "    </tr>\n",
       "    <tr>\n",
       "      <th>404</th>\n",
       "      <td>6024399defa60112282c0ac9</td>\n",
       "      <td>1</td>\n",
       "      <td>2021-02-10</td>\n",
       "      <td>2021-02-10</td>\n",
       "      <td>Email</td>\n",
       "      <td>WI</td>\n",
       "    </tr>\n",
       "  </tbody>\n",
       "</table>\n",
       "</div>"
      ],
      "text/plain": [
       "                      user_id  active   reg_date last_login_date signUpSource  \\\n",
       "30   5ff36c8e135e7011bcb85da4       1 2021-01-04      2021-01-04        Email   \n",
       "124  5ffc8ff9b3348b11c9338896       1 2021-01-11      2021-01-11        Email   \n",
       "272  600f47f06fd0dc1768a34a12       1 2021-01-25      2021-01-25        Email   \n",
       "223  6006f786fb296c7f688530f8       1 2021-01-19             NaT        Email   \n",
       "95   5ff73b90eb7c7d31ca8a452b       1 2021-01-07      2021-01-07        Email   \n",
       "320  6010be6673c60b12049040ef       1 2021-01-27      2021-01-27        Email   \n",
       "363  60189c74c8b50e11d8454eff       1 2021-02-02      2021-02-02        Email   \n",
       "232  60085b3dbe5fc90ee6a67b11       1 2021-01-20      2021-01-20        Email   \n",
       "211  60074b996e64691717e8f11a       1 2021-01-19      2021-01-19        Email   \n",
       "404  6024399defa60112282c0ac9       1 2021-02-10      2021-02-10        Email   \n",
       "\n",
       "    state  \n",
       "30     WI  \n",
       "124    WI  \n",
       "272    WI  \n",
       "223    AL  \n",
       "95     WI  \n",
       "320    WI  \n",
       "363    WI  \n",
       "232    WI  \n",
       "211    WI  \n",
       "404    WI  "
      ]
     },
     "execution_count": 5,
     "metadata": {},
     "output_type": "execute_result"
    }
   ],
   "source": [
    "users.sample(10)"
   ]
  },
  {
   "cell_type": "code",
   "execution_count": 6,
   "id": "a5cb20ce",
   "metadata": {},
   "outputs": [
    {
     "data": {
      "text/plain": [
       "user_id                    object\n",
       "active                      int64\n",
       "reg_date           datetime64[ns]\n",
       "last_login_date    datetime64[ns]\n",
       "signUpSource               object\n",
       "state                      object\n",
       "dtype: object"
      ]
     },
     "execution_count": 6,
     "metadata": {},
     "output_type": "execute_result"
    }
   ],
   "source": [
    "users.dtypes"
   ]
  },
  {
   "cell_type": "code",
   "execution_count": 7,
   "id": "558cdf5c",
   "metadata": {},
   "outputs": [
    {
     "data": {
      "text/plain": [
       "user_id             0\n",
       "active              0\n",
       "reg_date            0\n",
       "last_login_date    62\n",
       "signUpSource       48\n",
       "state              56\n",
       "dtype: int64"
      ]
     },
     "execution_count": 7,
     "metadata": {},
     "output_type": "execute_result"
    }
   ],
   "source": [
    "users.isnull().sum()"
   ]
  },
  {
   "cell_type": "code",
   "execution_count": 8,
   "id": "96c83bc4",
   "metadata": {},
   "outputs": [
    {
     "data": {
      "text/plain": [
       "user_id            0.000000\n",
       "active             0.000000\n",
       "reg_date           0.000000\n",
       "last_login_date    0.125253\n",
       "signUpSource       0.096970\n",
       "state              0.113131\n",
       "dtype: float64"
      ]
     },
     "execution_count": 8,
     "metadata": {},
     "output_type": "execute_result"
    }
   ],
   "source": [
    "users.isnull().sum()/len(users)"
   ]
  },
  {
   "cell_type": "code",
   "execution_count": 9,
   "id": "8dac254b",
   "metadata": {},
   "outputs": [
    {
     "data": {
      "text/plain": [
       "1    494\n",
       "0      1\n",
       "Name: active, dtype: int64"
      ]
     },
     "execution_count": 9,
     "metadata": {},
     "output_type": "execute_result"
    }
   ],
   "source": [
    "#Values of Active Flag\n",
    "users['active'].value_counts()"
   ]
  },
  {
   "cell_type": "code",
   "execution_count": 10,
   "id": "622b5b40",
   "metadata": {},
   "outputs": [
    {
     "data": {
      "text/plain": [
       "WI    396\n",
       "NH     20\n",
       "AL     12\n",
       "OH      5\n",
       "IL      3\n",
       "KY      1\n",
       "CO      1\n",
       "SC      1\n",
       "Name: state, dtype: int64"
      ]
     },
     "execution_count": 10,
     "metadata": {},
     "output_type": "execute_result"
    }
   ],
   "source": [
    "#Values of State\n",
    "users['state'].value_counts()"
   ]
  },
  {
   "cell_type": "code",
   "execution_count": 11,
   "id": "a26e39a6",
   "metadata": {},
   "outputs": [
    {
     "data": {
      "text/plain": [
       "Email     443\n",
       "Google      4\n",
       "Name: signUpSource, dtype: int64"
      ]
     },
     "execution_count": 11,
     "metadata": {},
     "output_type": "execute_result"
    }
   ],
   "source": [
    "#values of Signupsource\n",
    "users['signUpSource'].value_counts()"
   ]
  },
  {
   "cell_type": "code",
   "execution_count": 12,
   "id": "79b83922",
   "metadata": {},
   "outputs": [
    {
     "data": {
      "text/html": [
       "<div>\n",
       "<style scoped>\n",
       "    .dataframe tbody tr th:only-of-type {\n",
       "        vertical-align: middle;\n",
       "    }\n",
       "\n",
       "    .dataframe tbody tr th {\n",
       "        vertical-align: top;\n",
       "    }\n",
       "\n",
       "    .dataframe thead th {\n",
       "        text-align: right;\n",
       "    }\n",
       "</style>\n",
       "<table border=\"1\" class=\"dataframe\">\n",
       "  <thead>\n",
       "    <tr style=\"text-align: right;\">\n",
       "      <th></th>\n",
       "      <th>user_id</th>\n",
       "      <th>active</th>\n",
       "      <th>reg_date</th>\n",
       "      <th>last_login_date</th>\n",
       "      <th>signUpSource</th>\n",
       "      <th>state</th>\n",
       "    </tr>\n",
       "  </thead>\n",
       "  <tbody>\n",
       "  </tbody>\n",
       "</table>\n",
       "</div>"
      ],
      "text/plain": [
       "Empty DataFrame\n",
       "Columns: [user_id, active, reg_date, last_login_date, signUpSource, state]\n",
       "Index: []"
      ]
     },
     "execution_count": 12,
     "metadata": {},
     "output_type": "execute_result"
    }
   ],
   "source": [
    "# Checking whether lastlogindate is less than registration date\n",
    "users.loc[users['last_login_date'] < users['reg_date']]"
   ]
  },
  {
   "cell_type": "code",
   "execution_count": 13,
   "id": "82c3b305",
   "metadata": {},
   "outputs": [
    {
     "name": "stdout",
     "output_type": "stream",
     "text": [
      "\n",
      "Total number of records in users table: 495 \n",
      "\n",
      "Total number of unique users: 212\n",
      "      \n"
     ]
    }
   ],
   "source": [
    "print('''\n",
    "Total number of records in users table: {0} \\n\n",
    "Total number of unique users: {1}\n",
    "      '''.format(users.shape[0], users['user_id'].nunique()))"
   ]
  },
  {
   "cell_type": "markdown",
   "id": "890022bc",
   "metadata": {},
   "source": [
    "The number of unique users in the users table is 212 only. However the users table has 495 records.\n",
    "Ideally the table must be unique in terms of id column. \n",
    "Upon further inspection it was found out that theses are duplicated rows (other column values being the same). A unique key contraint would have helped to avoid that"
   ]
  },
  {
   "cell_type": "markdown",
   "id": "76a4dc6f",
   "metadata": {},
   "source": [
    "### 2. Receipts table"
   ]
  },
  {
   "cell_type": "code",
   "execution_count": 14,
   "id": "e99efd80",
   "metadata": {},
   "outputs": [],
   "source": [
    "receipts = pd.read_sql('''\n",
    "select id as receipt_id\n",
    ",bonusPointsEarned\n",
    ",bonusPointsEarnedReason\n",
    ",(DATETIME(ROUND(createDate / 1000), 'unixepoch')) as created_date\n",
    ",(DATETIME(ROUND(dateScanned / 1000), 'unixepoch')) as scanned_date\n",
    ",(DATETIME(ROUND(finishedDate / 1000), 'unixepoch')) as finished_date\n",
    ",(DATETIME(ROUND(modifyDate / 1000), 'unixepoch')) as modify_date\n",
    ",(DATETIME(ROUND(pointsAwardedDate / 1000), 'unixepoch')) as points_awarded_date\n",
    ",(DATETIME(ROUND(purchaseDate / 1000), 'unixepoch')) as purchase_date\n",
    "\n",
    ",pointsEarned\n",
    ",totalSpent\n",
    ",rewardsReceiptStatus\n",
    ",userId as user_id\n",
    "from receipts''', conn, parse_dates=['created_date', 'scanned_date', 'finished_date',\n",
    "                                     'modify_date', 'points_awarded_date', 'purchase_date'])"
   ]
  },
  {
   "cell_type": "code",
   "execution_count": 15,
   "id": "2403f07a",
   "metadata": {},
   "outputs": [
    {
     "data": {
      "text/html": [
       "<div>\n",
       "<style scoped>\n",
       "    .dataframe tbody tr th:only-of-type {\n",
       "        vertical-align: middle;\n",
       "    }\n",
       "\n",
       "    .dataframe tbody tr th {\n",
       "        vertical-align: top;\n",
       "    }\n",
       "\n",
       "    .dataframe thead th {\n",
       "        text-align: right;\n",
       "    }\n",
       "</style>\n",
       "<table border=\"1\" class=\"dataframe\">\n",
       "  <thead>\n",
       "    <tr style=\"text-align: right;\">\n",
       "      <th></th>\n",
       "      <th>receipt_id</th>\n",
       "      <th>bonusPointsEarned</th>\n",
       "      <th>bonusPointsEarnedReason</th>\n",
       "      <th>created_date</th>\n",
       "      <th>scanned_date</th>\n",
       "      <th>finished_date</th>\n",
       "      <th>modify_date</th>\n",
       "      <th>points_awarded_date</th>\n",
       "      <th>purchase_date</th>\n",
       "      <th>pointsEarned</th>\n",
       "      <th>totalSpent</th>\n",
       "      <th>rewardsReceiptStatus</th>\n",
       "      <th>user_id</th>\n",
       "    </tr>\n",
       "  </thead>\n",
       "  <tbody>\n",
       "    <tr>\n",
       "      <th>1099</th>\n",
       "      <td>603d40250a720fde10000459</td>\n",
       "      <td>25.0</td>\n",
       "      <td>COMPLETE_NONPARTNER_RECEIPT</td>\n",
       "      <td>2021-03-01 19:27:33</td>\n",
       "      <td>2021-03-01 19:27:33</td>\n",
       "      <td>NaT</td>\n",
       "      <td>2021-03-01 19:27:34</td>\n",
       "      <td>NaT</td>\n",
       "      <td>2020-08-17 00:00:00</td>\n",
       "      <td>25.0</td>\n",
       "      <td>34.96</td>\n",
       "      <td>REJECTED</td>\n",
       "      <td>5fc961c3b8cfca11a077dd33</td>\n",
       "    </tr>\n",
       "    <tr>\n",
       "      <th>32</th>\n",
       "      <td>5ff36c750a7214ada100058f</td>\n",
       "      <td>NaN</td>\n",
       "      <td>None</td>\n",
       "      <td>2021-01-04 19:28:53</td>\n",
       "      <td>2021-01-04 19:28:53</td>\n",
       "      <td>2021-01-04 19:28:54</td>\n",
       "      <td>2021-01-04 19:28:54</td>\n",
       "      <td>2021-01-04 19:28:54</td>\n",
       "      <td>2021-01-03 19:28:53</td>\n",
       "      <td>500.0</td>\n",
       "      <td>89.91</td>\n",
       "      <td>FINISHED</td>\n",
       "      <td>5ff36be7135e7011bcb856d3</td>\n",
       "    </tr>\n",
       "    <tr>\n",
       "      <th>403</th>\n",
       "      <td>6009885a0a7214ad89000129</td>\n",
       "      <td>45.0</td>\n",
       "      <td>COMPLETE_PARTNER_RECEIPT</td>\n",
       "      <td>2021-01-21 13:57:46</td>\n",
       "      <td>2021-01-21 13:57:46</td>\n",
       "      <td>2021-01-21 13:57:47</td>\n",
       "      <td>2021-01-21 13:57:47</td>\n",
       "      <td>2021-01-21 13:57:47</td>\n",
       "      <td>2021-01-20 13:57:46</td>\n",
       "      <td>50.0</td>\n",
       "      <td>1.00</td>\n",
       "      <td>FINISHED</td>\n",
       "      <td>54943462e4b07e684157a532</td>\n",
       "    </tr>\n",
       "    <tr>\n",
       "      <th>130</th>\n",
       "      <td>5ff74faf0a720f0523000613</td>\n",
       "      <td>750.0</td>\n",
       "      <td>Receipt number 1 completed, bonus point schedu...</td>\n",
       "      <td>2021-01-07 18:15:11</td>\n",
       "      <td>2021-01-07 18:15:11</td>\n",
       "      <td>2021-01-07 18:15:13</td>\n",
       "      <td>2021-01-07 18:15:13</td>\n",
       "      <td>2021-01-07 18:15:13</td>\n",
       "      <td>2021-01-06 18:15:11</td>\n",
       "      <td>841.2</td>\n",
       "      <td>18.20</td>\n",
       "      <td>FINISHED</td>\n",
       "      <td>5ff74f3db3348b11c93361d1</td>\n",
       "    </tr>\n",
       "    <tr>\n",
       "      <th>718</th>\n",
       "      <td>601b14240a720f05f400021e</td>\n",
       "      <td>NaN</td>\n",
       "      <td>None</td>\n",
       "      <td>2021-02-03 21:22:44</td>\n",
       "      <td>2021-02-03 21:22:44</td>\n",
       "      <td>NaT</td>\n",
       "      <td>2021-02-03 21:22:44</td>\n",
       "      <td>NaT</td>\n",
       "      <td>NaT</td>\n",
       "      <td>NaN</td>\n",
       "      <td>NaN</td>\n",
       "      <td>SUBMITTED</td>\n",
       "      <td>5fc961c3b8cfca11a077dd33</td>\n",
       "    </tr>\n",
       "    <tr>\n",
       "      <th>326</th>\n",
       "      <td>6005b60f0a720f05f3000096</td>\n",
       "      <td>NaN</td>\n",
       "      <td>None</td>\n",
       "      <td>2021-01-18 16:23:41</td>\n",
       "      <td>2021-01-18 16:23:41</td>\n",
       "      <td>NaT</td>\n",
       "      <td>2021-01-18 16:23:41</td>\n",
       "      <td>NaT</td>\n",
       "      <td>NaT</td>\n",
       "      <td>NaN</td>\n",
       "      <td>NaN</td>\n",
       "      <td>SUBMITTED</td>\n",
       "      <td>5a43c08fe4b014fd6b6a0612</td>\n",
       "    </tr>\n",
       "    <tr>\n",
       "      <th>476</th>\n",
       "      <td>600fb21a0a720f053500004f</td>\n",
       "      <td>5.0</td>\n",
       "      <td>All-receipts receipt bonus</td>\n",
       "      <td>2021-01-26 06:09:30</td>\n",
       "      <td>2021-01-26 06:09:30</td>\n",
       "      <td>2021-01-26 06:09:30</td>\n",
       "      <td>2021-01-26 06:09:30</td>\n",
       "      <td>2021-01-26 06:09:30</td>\n",
       "      <td>2021-01-23 06:00:00</td>\n",
       "      <td>5.0</td>\n",
       "      <td>49.95</td>\n",
       "      <td>FINISHED</td>\n",
       "      <td>600fb1ac73c60b12049027bb</td>\n",
       "    </tr>\n",
       "    <tr>\n",
       "      <th>985</th>\n",
       "      <td>60268c7e0a7214d8e9000309</td>\n",
       "      <td>100.0</td>\n",
       "      <td>Receipt number 6 completed, bonus point schedu...</td>\n",
       "      <td>2021-02-12 14:11:10</td>\n",
       "      <td>2021-02-12 14:11:10</td>\n",
       "      <td>2021-02-12 14:11:11</td>\n",
       "      <td>2021-02-12 14:11:16</td>\n",
       "      <td>2021-02-12 14:11:11</td>\n",
       "      <td>2021-02-12 00:00:00</td>\n",
       "      <td>100.0</td>\n",
       "      <td>29.00</td>\n",
       "      <td>FINISHED</td>\n",
       "      <td>60268c7bb545931ac63683af</td>\n",
       "    </tr>\n",
       "    <tr>\n",
       "      <th>380</th>\n",
       "      <td>600788cd0a7214ad8900003a</td>\n",
       "      <td>21.0</td>\n",
       "      <td>COMPLETE_PARTNER_RECEIPT</td>\n",
       "      <td>2021-01-20 01:35:09</td>\n",
       "      <td>2021-01-20 01:35:09</td>\n",
       "      <td>2021-01-20 01:35:30</td>\n",
       "      <td>2021-01-20 01:35:32</td>\n",
       "      <td>2021-01-20 01:35:30</td>\n",
       "      <td>2021-01-19 00:00:00</td>\n",
       "      <td>50.9</td>\n",
       "      <td>2.99</td>\n",
       "      <td>FINISHED</td>\n",
       "      <td>5cd06f1f2acf0a2667da628b</td>\n",
       "    </tr>\n",
       "    <tr>\n",
       "      <th>1074</th>\n",
       "      <td>603bdbe10a7217c72c00033e</td>\n",
       "      <td>25.0</td>\n",
       "      <td>COMPLETE_NONPARTNER_RECEIPT</td>\n",
       "      <td>2021-02-28 18:07:29</td>\n",
       "      <td>2021-02-28 18:07:29</td>\n",
       "      <td>NaT</td>\n",
       "      <td>2021-02-28 18:07:30</td>\n",
       "      <td>NaT</td>\n",
       "      <td>2020-08-17 00:00:00</td>\n",
       "      <td>25.0</td>\n",
       "      <td>34.96</td>\n",
       "      <td>REJECTED</td>\n",
       "      <td>5fc961c3b8cfca11a077dd33</td>\n",
       "    </tr>\n",
       "  </tbody>\n",
       "</table>\n",
       "</div>"
      ],
      "text/plain": [
       "                    receipt_id  bonusPointsEarned  \\\n",
       "1099  603d40250a720fde10000459               25.0   \n",
       "32    5ff36c750a7214ada100058f                NaN   \n",
       "403   6009885a0a7214ad89000129               45.0   \n",
       "130   5ff74faf0a720f0523000613              750.0   \n",
       "718   601b14240a720f05f400021e                NaN   \n",
       "326   6005b60f0a720f05f3000096                NaN   \n",
       "476   600fb21a0a720f053500004f                5.0   \n",
       "985   60268c7e0a7214d8e9000309              100.0   \n",
       "380   600788cd0a7214ad8900003a               21.0   \n",
       "1074  603bdbe10a7217c72c00033e               25.0   \n",
       "\n",
       "                                bonusPointsEarnedReason        created_date  \\\n",
       "1099                        COMPLETE_NONPARTNER_RECEIPT 2021-03-01 19:27:33   \n",
       "32                                                 None 2021-01-04 19:28:53   \n",
       "403                            COMPLETE_PARTNER_RECEIPT 2021-01-21 13:57:46   \n",
       "130   Receipt number 1 completed, bonus point schedu... 2021-01-07 18:15:11   \n",
       "718                                                None 2021-02-03 21:22:44   \n",
       "326                                                None 2021-01-18 16:23:41   \n",
       "476                          All-receipts receipt bonus 2021-01-26 06:09:30   \n",
       "985   Receipt number 6 completed, bonus point schedu... 2021-02-12 14:11:10   \n",
       "380                            COMPLETE_PARTNER_RECEIPT 2021-01-20 01:35:09   \n",
       "1074                        COMPLETE_NONPARTNER_RECEIPT 2021-02-28 18:07:29   \n",
       "\n",
       "            scanned_date       finished_date         modify_date  \\\n",
       "1099 2021-03-01 19:27:33                 NaT 2021-03-01 19:27:34   \n",
       "32   2021-01-04 19:28:53 2021-01-04 19:28:54 2021-01-04 19:28:54   \n",
       "403  2021-01-21 13:57:46 2021-01-21 13:57:47 2021-01-21 13:57:47   \n",
       "130  2021-01-07 18:15:11 2021-01-07 18:15:13 2021-01-07 18:15:13   \n",
       "718  2021-02-03 21:22:44                 NaT 2021-02-03 21:22:44   \n",
       "326  2021-01-18 16:23:41                 NaT 2021-01-18 16:23:41   \n",
       "476  2021-01-26 06:09:30 2021-01-26 06:09:30 2021-01-26 06:09:30   \n",
       "985  2021-02-12 14:11:10 2021-02-12 14:11:11 2021-02-12 14:11:16   \n",
       "380  2021-01-20 01:35:09 2021-01-20 01:35:30 2021-01-20 01:35:32   \n",
       "1074 2021-02-28 18:07:29                 NaT 2021-02-28 18:07:30   \n",
       "\n",
       "     points_awarded_date       purchase_date  pointsEarned  totalSpent  \\\n",
       "1099                 NaT 2020-08-17 00:00:00          25.0       34.96   \n",
       "32   2021-01-04 19:28:54 2021-01-03 19:28:53         500.0       89.91   \n",
       "403  2021-01-21 13:57:47 2021-01-20 13:57:46          50.0        1.00   \n",
       "130  2021-01-07 18:15:13 2021-01-06 18:15:11         841.2       18.20   \n",
       "718                  NaT                 NaT           NaN         NaN   \n",
       "326                  NaT                 NaT           NaN         NaN   \n",
       "476  2021-01-26 06:09:30 2021-01-23 06:00:00           5.0       49.95   \n",
       "985  2021-02-12 14:11:11 2021-02-12 00:00:00         100.0       29.00   \n",
       "380  2021-01-20 01:35:30 2021-01-19 00:00:00          50.9        2.99   \n",
       "1074                 NaT 2020-08-17 00:00:00          25.0       34.96   \n",
       "\n",
       "     rewardsReceiptStatus                   user_id  \n",
       "1099             REJECTED  5fc961c3b8cfca11a077dd33  \n",
       "32               FINISHED  5ff36be7135e7011bcb856d3  \n",
       "403              FINISHED  54943462e4b07e684157a532  \n",
       "130              FINISHED  5ff74f3db3348b11c93361d1  \n",
       "718             SUBMITTED  5fc961c3b8cfca11a077dd33  \n",
       "326             SUBMITTED  5a43c08fe4b014fd6b6a0612  \n",
       "476              FINISHED  600fb1ac73c60b12049027bb  \n",
       "985              FINISHED  60268c7bb545931ac63683af  \n",
       "380              FINISHED  5cd06f1f2acf0a2667da628b  \n",
       "1074             REJECTED  5fc961c3b8cfca11a077dd33  "
      ]
     },
     "execution_count": 15,
     "metadata": {},
     "output_type": "execute_result"
    }
   ],
   "source": [
    "receipts.sample(10)"
   ]
  },
  {
   "cell_type": "code",
   "execution_count": 16,
   "id": "4e8cbc07",
   "metadata": {},
   "outputs": [
    {
     "data": {
      "text/plain": [
       "receipt_id                         object\n",
       "bonusPointsEarned                 float64\n",
       "bonusPointsEarnedReason            object\n",
       "created_date               datetime64[ns]\n",
       "scanned_date               datetime64[ns]\n",
       "finished_date              datetime64[ns]\n",
       "modify_date                datetime64[ns]\n",
       "points_awarded_date        datetime64[ns]\n",
       "purchase_date              datetime64[ns]\n",
       "pointsEarned                      float64\n",
       "totalSpent                        float64\n",
       "rewardsReceiptStatus               object\n",
       "user_id                            object\n",
       "dtype: object"
      ]
     },
     "execution_count": 16,
     "metadata": {},
     "output_type": "execute_result"
    }
   ],
   "source": [
    "receipts.dtypes"
   ]
  },
  {
   "cell_type": "code",
   "execution_count": 17,
   "id": "3ef013ef",
   "metadata": {},
   "outputs": [
    {
     "data": {
      "text/plain": [
       "receipt_id                   0\n",
       "bonusPointsEarned          575\n",
       "bonusPointsEarnedReason    575\n",
       "created_date                 0\n",
       "scanned_date                 0\n",
       "finished_date              551\n",
       "modify_date                  0\n",
       "points_awarded_date        582\n",
       "purchase_date              448\n",
       "pointsEarned               510\n",
       "totalSpent                 435\n",
       "rewardsReceiptStatus         0\n",
       "user_id                      0\n",
       "dtype: int64"
      ]
     },
     "execution_count": 17,
     "metadata": {},
     "output_type": "execute_result"
    }
   ],
   "source": [
    "receipts.isnull().sum()"
   ]
  },
  {
   "cell_type": "code",
   "execution_count": 18,
   "id": "bbd859f3",
   "metadata": {},
   "outputs": [
    {
     "data": {
      "text/plain": [
       "receipt_id                 0.000000\n",
       "bonusPointsEarned          0.513852\n",
       "bonusPointsEarnedReason    0.513852\n",
       "created_date               0.000000\n",
       "scanned_date               0.000000\n",
       "finished_date              0.492404\n",
       "modify_date                0.000000\n",
       "points_awarded_date        0.520107\n",
       "purchase_date              0.400357\n",
       "pointsEarned               0.455764\n",
       "totalSpent                 0.388740\n",
       "rewardsReceiptStatus       0.000000\n",
       "user_id                    0.000000\n",
       "dtype: float64"
      ]
     },
     "execution_count": 18,
     "metadata": {},
     "output_type": "execute_result"
    }
   ],
   "source": [
    "receipts.isnull().sum()/len(receipts)"
   ]
  },
  {
   "cell_type": "code",
   "execution_count": 19,
   "id": "51290a98",
   "metadata": {},
   "outputs": [
    {
     "data": {
      "text/plain": [
       "FINISHED     518\n",
       "SUBMITTED    434\n",
       "REJECTED      71\n",
       "PENDING       50\n",
       "FLAGGED       46\n",
       "Name: rewardsReceiptStatus, dtype: int64"
      ]
     },
     "execution_count": 19,
     "metadata": {},
     "output_type": "execute_result"
    }
   ],
   "source": [
    "receipts['rewardsReceiptStatus'].value_counts()"
   ]
  },
  {
   "cell_type": "code",
   "execution_count": 20,
   "id": "cea60a5c",
   "metadata": {},
   "outputs": [],
   "source": [
    "receipts['isPointsGiven'] = np.where(receipts['pointsEarned'].isnull(),0,1)"
   ]
  },
  {
   "cell_type": "code",
   "execution_count": 21,
   "id": "84562302",
   "metadata": {},
   "outputs": [
    {
     "data": {
      "text/html": [
       "<div>\n",
       "<style scoped>\n",
       "    .dataframe tbody tr th:only-of-type {\n",
       "        vertical-align: middle;\n",
       "    }\n",
       "\n",
       "    .dataframe tbody tr th {\n",
       "        vertical-align: top;\n",
       "    }\n",
       "\n",
       "    .dataframe thead th {\n",
       "        text-align: right;\n",
       "    }\n",
       "</style>\n",
       "<table border=\"1\" class=\"dataframe\">\n",
       "  <thead>\n",
       "    <tr style=\"text-align: right;\">\n",
       "      <th></th>\n",
       "      <th>count</th>\n",
       "      <th>sum</th>\n",
       "    </tr>\n",
       "    <tr>\n",
       "      <th>rewardsReceiptStatus</th>\n",
       "      <th></th>\n",
       "      <th></th>\n",
       "    </tr>\n",
       "  </thead>\n",
       "  <tbody>\n",
       "    <tr>\n",
       "      <th>FINISHED</th>\n",
       "      <td>518</td>\n",
       "      <td>518</td>\n",
       "    </tr>\n",
       "    <tr>\n",
       "      <th>FLAGGED</th>\n",
       "      <td>46</td>\n",
       "      <td>33</td>\n",
       "    </tr>\n",
       "    <tr>\n",
       "      <th>PENDING</th>\n",
       "      <td>50</td>\n",
       "      <td>0</td>\n",
       "    </tr>\n",
       "    <tr>\n",
       "      <th>REJECTED</th>\n",
       "      <td>71</td>\n",
       "      <td>58</td>\n",
       "    </tr>\n",
       "    <tr>\n",
       "      <th>SUBMITTED</th>\n",
       "      <td>434</td>\n",
       "      <td>0</td>\n",
       "    </tr>\n",
       "  </tbody>\n",
       "</table>\n",
       "</div>"
      ],
      "text/plain": [
       "                      count  sum\n",
       "rewardsReceiptStatus            \n",
       "FINISHED                518  518\n",
       "FLAGGED                  46   33\n",
       "PENDING                  50    0\n",
       "REJECTED                 71   58\n",
       "SUBMITTED               434    0"
      ]
     },
     "execution_count": 21,
     "metadata": {},
     "output_type": "execute_result"
    }
   ],
   "source": [
    "receipts.groupby(['rewardsReceiptStatus'])['isPointsGiven'].agg(['count', 'sum'])"
   ]
  },
  {
   "cell_type": "code",
   "execution_count": 22,
   "id": "861ccd40",
   "metadata": {},
   "outputs": [
    {
     "data": {
      "text/html": [
       "<div>\n",
       "<style scoped>\n",
       "    .dataframe tbody tr th:only-of-type {\n",
       "        vertical-align: middle;\n",
       "    }\n",
       "\n",
       "    .dataframe tbody tr th {\n",
       "        vertical-align: top;\n",
       "    }\n",
       "\n",
       "    .dataframe thead th {\n",
       "        text-align: right;\n",
       "    }\n",
       "</style>\n",
       "<table border=\"1\" class=\"dataframe\">\n",
       "  <thead>\n",
       "    <tr style=\"text-align: right;\">\n",
       "      <th></th>\n",
       "      <th>receipt_id</th>\n",
       "      <th>bonusPointsEarned</th>\n",
       "      <th>bonusPointsEarnedReason</th>\n",
       "      <th>created_date</th>\n",
       "      <th>scanned_date</th>\n",
       "      <th>finished_date</th>\n",
       "      <th>modify_date</th>\n",
       "      <th>points_awarded_date</th>\n",
       "      <th>purchase_date</th>\n",
       "      <th>pointsEarned</th>\n",
       "      <th>totalSpent</th>\n",
       "      <th>rewardsReceiptStatus</th>\n",
       "      <th>user_id</th>\n",
       "      <th>isPointsGiven</th>\n",
       "    </tr>\n",
       "  </thead>\n",
       "  <tbody>\n",
       "  </tbody>\n",
       "</table>\n",
       "</div>"
      ],
      "text/plain": [
       "Empty DataFrame\n",
       "Columns: [receipt_id, bonusPointsEarned, bonusPointsEarnedReason, created_date, scanned_date, finished_date, modify_date, points_awarded_date, purchase_date, pointsEarned, totalSpent, rewardsReceiptStatus, user_id, isPointsGiven]\n",
       "Index: []"
      ]
     },
     "execution_count": 22,
     "metadata": {},
     "output_type": "execute_result"
    }
   ],
   "source": [
    "#Checking if points awarded date is less than scanned_date\n",
    "receipts.loc[receipts['points_awarded_date']< receipts['scanned_date']]"
   ]
  },
  {
   "cell_type": "code",
   "execution_count": 23,
   "id": "09bfabc5",
   "metadata": {},
   "outputs": [
    {
     "name": "stdout",
     "output_type": "stream",
     "text": [
      "Earliest Scan Date:  2020-10-30 20:17:59 , Latest Scan Date:  2021-03-01 23:17:34\n"
     ]
    }
   ],
   "source": [
    "print(\"Earliest Scan Date: \", receipts['scanned_date'].min(), \n",
    "      \", Latest Scan Date: \", receipts['scanned_date'].max())"
   ]
  },
  {
   "cell_type": "code",
   "execution_count": 24,
   "id": "ed67e0bc",
   "metadata": {},
   "outputs": [
    {
     "data": {
      "text/plain": [
       "117"
      ]
     },
     "execution_count": 24,
     "metadata": {},
     "output_type": "execute_result"
    }
   ],
   "source": [
    "receipts.loc[~receipts['user_id'].isin(list(users['user_id'])), 'user_id'].nunique()"
   ]
  },
  {
   "cell_type": "markdown",
   "id": "6f6c59af",
   "metadata": {},
   "source": [
    "There are 117 users who are not present in the users table. Ideally, the userIds in receipts table should be a subset of all user ids present in the users table.\n",
    " "
   ]
  },
  {
   "cell_type": "markdown",
   "id": "22add63f",
   "metadata": {},
   "source": [
    "## Analyses"
   ]
  },
  {
   "cell_type": "markdown",
   "id": "c8213606",
   "metadata": {},
   "source": [
    "#### Analytical query for unnesting branads scanned"
   ]
  },
  {
   "cell_type": "code",
   "execution_count": 25,
   "id": "1d60301d",
   "metadata": {},
   "outputs": [],
   "source": [
    "brands_scan = pd.read_sql('''\n",
    "select rec.id, userId, coalesce(upper(b.name), upper(rec.description)) as brand_name, b.categoryCode, b.topBrand\n",
    ",description, scanned_date, created_date, finished_date, rewardsReceiptStatus, pointsEarned, totalSpent\n",
    ",purchasedItemCount\n",
    "from (\n",
    "select r.id, r.UserId \n",
    ",CAST(JSON_EXTRACT(j.value, '$.barcode') as VARCHAR) as barcode \n",
    ",CAST(JSON_EXTRACT(j.value, '$.rewardsProductPartnerId') as VARCHAR) as rewardsProductPartnerId \n",
    ",CAST(JSON_EXTRACT(j.value, '$.description') as VARCHAR) as description \n",
    ",DATETIME(ROUND(dateScanned / 1000), 'unixepoch') as scanned_date\n",
    ",DATETIME(ROUND(createDate / 1000), 'unixepoch') as created_date\n",
    ",DATETIME(ROUND(finishedDate / 1000), 'unixepoch') as finished_date\n",
    ",rewardsReceiptStatus\n",
    ",pointsEarned\n",
    ",totalSpent\n",
    ",purchasedItemCount\n",
    "from receipts r, json_each(rewardsReceiptItemList) j\n",
    "--where DATE(DATETIME(ROUND(dateScanned / 1000), 'unixepoch'), 'start of month') in (date('2021-01-01'),date('2021-02-01'))\n",
    ") rec \n",
    "left join brands b\n",
    "on rec.rewardsProductPartnerId = b.cpg_id''', conn, parse_dates=['reg_date', 'last_login_date'])"
   ]
  },
  {
   "cell_type": "code",
   "execution_count": 26,
   "id": "e57b481f",
   "metadata": {},
   "outputs": [
    {
     "name": "stdout",
     "output_type": "stream",
     "text": [
      "<class 'pandas.core.frame.DataFrame'>\n",
      "RangeIndex: 142700 entries, 0 to 142699\n",
      "Data columns (total 13 columns):\n",
      " #   Column                Non-Null Count   Dtype  \n",
      "---  ------                --------------   -----  \n",
      " 0   id                    142700 non-null  object \n",
      " 1   UserId                142700 non-null  object \n",
      " 2   brand_name            142047 non-null  object \n",
      " 3   categoryCode          2348 non-null    object \n",
      " 4   topBrand              137460 non-null  float64\n",
      " 5   description           139791 non-null  object \n",
      " 6   scanned_date          142700 non-null  object \n",
      " 7   created_date          142700 non-null  object \n",
      " 8   finished_date         136782 non-null  object \n",
      " 9   rewardsReceiptStatus  142700 non-null  object \n",
      " 10  pointsEarned          141572 non-null  float64\n",
      " 11  totalSpent            142265 non-null  float64\n",
      " 12  purchasedItemCount    142216 non-null  float64\n",
      "dtypes: float64(4), object(9)\n",
      "memory usage: 14.2+ MB\n"
     ]
    }
   ],
   "source": [
    "brands_scan.info()"
   ]
  },
  {
   "cell_type": "code",
   "execution_count": 27,
   "id": "fd6af504",
   "metadata": {},
   "outputs": [
    {
     "data": {
      "text/plain": [
       "id                           0\n",
       "UserId                       0\n",
       "brand_name                 653\n",
       "categoryCode            140352\n",
       "topBrand                  5240\n",
       "description               2909\n",
       "scanned_date                 0\n",
       "created_date                 0\n",
       "finished_date             5918\n",
       "rewardsReceiptStatus         0\n",
       "pointsEarned              1128\n",
       "totalSpent                 435\n",
       "purchasedItemCount         484\n",
       "dtype: int64"
      ]
     },
     "execution_count": 27,
     "metadata": {},
     "output_type": "execute_result"
    }
   ],
   "source": [
    "brands_scan.isnull().sum()"
   ]
  },
  {
   "cell_type": "code",
   "execution_count": 28,
   "id": "d9818c9a",
   "metadata": {},
   "outputs": [],
   "source": [
    "brands_scan['brand_name'].fillna('ITEM NOT FOUND', inplace=True)\n",
    "brands_scan['scanned_month'] = pd.to_datetime(brands_scan['scanned_date']).dt.to_period('M').astype(str)"
   ]
  },
  {
   "cell_type": "code",
   "execution_count": 29,
   "id": "a24881e8",
   "metadata": {},
   "outputs": [
    {
     "data": {
      "text/plain": [
       "scanned_month\n",
       "2020-10       284\n",
       "2020-11      1257\n",
       "2021-01    138999\n",
       "2021-02      2117\n",
       "2021-03        43\n",
       "Name: id, dtype: int64"
      ]
     },
     "execution_count": 29,
     "metadata": {},
     "output_type": "execute_result"
    }
   ],
   "source": [
    "brands_scan.groupby(['scanned_month'])['id'].count()"
   ]
  },
  {
   "cell_type": "markdown",
   "id": "ce98d09f",
   "metadata": {},
   "source": [
    "We see that most of the receipts have been scanned in the month of Jan-2021"
   ]
  },
  {
   "cell_type": "markdown",
   "id": "7ed0ca75",
   "metadata": {},
   "source": [
    "### 1. What are the top 5 brands by receipts scanned for most recent month?\n",
    "\n",
    "The receipts scan dates lie in thrange of October 30,2020 to March 1, 2021. Since the month of March has not been completed, we should assume the most recent month to be Feb-2021."
   ]
  },
  {
   "cell_type": "code",
   "execution_count": 30,
   "id": "d7c1952e",
   "metadata": {},
   "outputs": [
    {
     "data": {
      "text/plain": [
       "ITEM NOT FOUND                                                                                                                                                 388\n",
       "FLIPBELT LEVEL TERRAIN WAIST POUCH, NEON YELLOW, LARGE/32-35                                                                                                    28\n",
       "THINDUST SUMMER FACE MASK - SUN PROTECTION NECK GAITER FOR OUTDOORACTIVITIES                                                                                    27\n",
       "MUELLER AUSTRIA HYPERGRIND PRECISION ELECTRIC SPICE/COFFEE GRINDER MILLWITH LARGE GRINDING CAPACITY AND HD MOTOR ALSO FOR SPICES, HERBS, NUTS,GRAINS, WHITE     27\n",
       "DELIMEX                                                                                                                                                         11\n",
       "GOOD SEASONS                                                                                                                                                    11\n",
       "Name: brand_name, dtype: int64"
      ]
     },
     "execution_count": 30,
     "metadata": {},
     "output_type": "execute_result"
    }
   ],
   "source": [
    "brands_scan.loc[brands_scan['scanned_month']== '2021-02', 'brand_name'].value_counts().nlargest(6)"
   ]
  },
  {
   "cell_type": "markdown",
   "id": "a61e2190",
   "metadata": {},
   "source": [
    "### Answer 1\n",
    "Removing the \"ITEM NOT FOUND\" entries, the top 5 brands scanned for the month of Feb-2021 are\n",
    "\n",
    "1. FLIPBELT LEVEL TERRAIN WAIST POUCH, NEON YELLOW, LARGE/32-35\n",
    "2. THINDUST SUMMER FACE MASK - SUN PROTECTION NECK GAITER FOR OUTDOORACTIVITIES \n",
    "3. MUELLER AUSTRIA HYPERGRIND PRECISION ELECTRIC SPICE/COFFEE GRINDER MILLWITH LARGE GRINDING CAPACITY AND HD MOTOR ALSO FOR SPICES, HERBS, NUTS,GRAINS, WHITE\n",
    "4. DELIMEX           \n",
    "5. GOOD SEASONS"
   ]
  },
  {
   "cell_type": "markdown",
   "id": "961d557c",
   "metadata": {},
   "source": [
    "### 2. How does the ranking of the top 5 brands by receipts scanned for the recent month compare to the ranking for the previous month?\n",
    "\n",
    "Here we compare the same metrics but for scanned month of Jan-2021"
   ]
  },
  {
   "cell_type": "code",
   "execution_count": 31,
   "id": "9f2a224f",
   "metadata": {},
   "outputs": [
    {
     "data": {
      "text/plain": [
       "DIGIORNO CHEESE                      866\n",
       "COOL WHIP                            864\n",
       "GODIVA INSTANT PUDDING MIX           863\n",
       "DEVOUR                               863\n",
       "F. WHITLOCK & SONS BBQ SAUCE         863\n",
       "FOOD NETWORK KITCHEN INSPIRATIONS    863\n",
       "FAT RABBIT                           863\n",
       "FRUIT LOVE SPOONABLE SMOOTHIES       863\n",
       "A.1.                                 863\n",
       "GEVALIA                              863\n",
       "Name: brand_name, dtype: int64"
      ]
     },
     "execution_count": 31,
     "metadata": {},
     "output_type": "execute_result"
    }
   ],
   "source": [
    "brands_scan.loc[brands_scan['scanned_month']== '2021-01', 'brand_name'].value_counts().nlargest(10)"
   ]
  },
  {
   "cell_type": "markdown",
   "id": "087434f3",
   "metadata": {},
   "source": [
    "### Answer 2\n",
    "The top 5 brands scanned for the month of Jan-2021 are\n",
    "\n",
    "1. DIGIORNO CHEESE\n",
    "2. COOL WHIP\n",
    "3. GODIVA INSTANT PUDDING MIX\n",
    "4. DEVOUR           \n",
    "5. F. WHITLOCK & SONS BBQ SAUCE\n",
    "\n",
    "\n",
    "The more popular brands scanned in Jan-2021 lie in the Food and Dining brands, whereas Feb-2021 brands are mixed with retail and dining"
   ]
  },
  {
   "cell_type": "markdown",
   "id": "91bd65d4",
   "metadata": {},
   "source": [
    "### 3. When considering average spend from receipts with 'rewardsReceiptStatus’ of ‘Accepted’ or ‘Rejected’, which is greater?\n",
    "\n",
    "### 4. When considering total number of items purchased from receipts with 'rewardsReceiptStatus’ of ‘Accepted’ or ‘Rejected’, which is greater?\n",
    "\n",
    "Here we can use the receipts table directly, as we do not need to go on a brand level"
   ]
  },
  {
   "cell_type": "code",
   "execution_count": 32,
   "id": "694be3f9",
   "metadata": {},
   "outputs": [],
   "source": [
    "receipts = pd.read_sql('''select * from receipts''', \n",
    "                       conn, \n",
    "                       parse_dates=['reg_date', 'last_login_date'])"
   ]
  },
  {
   "cell_type": "code",
   "execution_count": 33,
   "id": "cf402a91",
   "metadata": {},
   "outputs": [
    {
     "data": {
      "text/html": [
       "<div>\n",
       "<style scoped>\n",
       "    .dataframe tbody tr th:only-of-type {\n",
       "        vertical-align: middle;\n",
       "    }\n",
       "\n",
       "    .dataframe tbody tr th {\n",
       "        vertical-align: top;\n",
       "    }\n",
       "\n",
       "    .dataframe thead th {\n",
       "        text-align: right;\n",
       "    }\n",
       "</style>\n",
       "<table border=\"1\" class=\"dataframe\">\n",
       "  <thead>\n",
       "    <tr style=\"text-align: right;\">\n",
       "      <th></th>\n",
       "      <th>id</th>\n",
       "      <th>bonusPointsEarned</th>\n",
       "      <th>bonusPointsEarnedReason</th>\n",
       "      <th>createDate</th>\n",
       "      <th>dateScanned</th>\n",
       "      <th>finishedDate</th>\n",
       "      <th>modifyDate</th>\n",
       "      <th>pointsAwardedDate</th>\n",
       "      <th>pointsEarned</th>\n",
       "      <th>purchaseDate</th>\n",
       "      <th>purchasedItemCount</th>\n",
       "      <th>rewardsReceiptItemList</th>\n",
       "      <th>rewardsReceiptStatus</th>\n",
       "      <th>totalSpent</th>\n",
       "      <th>userId</th>\n",
       "    </tr>\n",
       "  </thead>\n",
       "  <tbody>\n",
       "    <tr>\n",
       "      <th>0</th>\n",
       "      <td>5ff1e1eb0a720f0523000575</td>\n",
       "      <td>500.0</td>\n",
       "      <td>Receipt number 2 completed, bonus point schedu...</td>\n",
       "      <td>1609687531000</td>\n",
       "      <td>1609687531000</td>\n",
       "      <td>1.609688e+12</td>\n",
       "      <td>1609687536000</td>\n",
       "      <td>1.609688e+12</td>\n",
       "      <td>500.0</td>\n",
       "      <td>1.609632e+12</td>\n",
       "      <td>5.0</td>\n",
       "      <td>[{\"barcode\": \"4011\", \"description\": \"ITEM NOT ...</td>\n",
       "      <td>FINISHED</td>\n",
       "      <td>26.00</td>\n",
       "      <td>5ff1e1eacfcf6c399c274ae6</td>\n",
       "    </tr>\n",
       "    <tr>\n",
       "      <th>1</th>\n",
       "      <td>5ff1e1bb0a720f052300056b</td>\n",
       "      <td>150.0</td>\n",
       "      <td>Receipt number 5 completed, bonus point schedu...</td>\n",
       "      <td>1609687483000</td>\n",
       "      <td>1609687483000</td>\n",
       "      <td>1.609687e+12</td>\n",
       "      <td>1609687488000</td>\n",
       "      <td>1.609687e+12</td>\n",
       "      <td>150.0</td>\n",
       "      <td>1.609601e+12</td>\n",
       "      <td>2.0</td>\n",
       "      <td>[{\"barcode\": \"4011\", \"description\": \"ITEM NOT ...</td>\n",
       "      <td>FINISHED</td>\n",
       "      <td>11.00</td>\n",
       "      <td>5ff1e194b6a9d73a3a9f1052</td>\n",
       "    </tr>\n",
       "    <tr>\n",
       "      <th>2</th>\n",
       "      <td>5ff1e1f10a720f052300057a</td>\n",
       "      <td>5.0</td>\n",
       "      <td>All-receipts receipt bonus</td>\n",
       "      <td>1609687537000</td>\n",
       "      <td>1609687537000</td>\n",
       "      <td>NaN</td>\n",
       "      <td>1609687542000</td>\n",
       "      <td>NaN</td>\n",
       "      <td>5.0</td>\n",
       "      <td>1.609632e+12</td>\n",
       "      <td>1.0</td>\n",
       "      <td>[{\"needsFetchReview\": false, \"partnerItemId\": ...</td>\n",
       "      <td>REJECTED</td>\n",
       "      <td>10.00</td>\n",
       "      <td>5ff1e1f1cfcf6c399c274b0b</td>\n",
       "    </tr>\n",
       "    <tr>\n",
       "      <th>3</th>\n",
       "      <td>5ff1e1ee0a7214ada100056f</td>\n",
       "      <td>5.0</td>\n",
       "      <td>All-receipts receipt bonus</td>\n",
       "      <td>1609687534000</td>\n",
       "      <td>1609687534000</td>\n",
       "      <td>1.609688e+12</td>\n",
       "      <td>1609687539000</td>\n",
       "      <td>1.609688e+12</td>\n",
       "      <td>5.0</td>\n",
       "      <td>1.609632e+12</td>\n",
       "      <td>4.0</td>\n",
       "      <td>[{\"barcode\": \"4011\", \"description\": \"ITEM NOT ...</td>\n",
       "      <td>FINISHED</td>\n",
       "      <td>28.00</td>\n",
       "      <td>5ff1e1eacfcf6c399c274ae6</td>\n",
       "    </tr>\n",
       "    <tr>\n",
       "      <th>4</th>\n",
       "      <td>5ff1e1d20a7214ada1000561</td>\n",
       "      <td>5.0</td>\n",
       "      <td>All-receipts receipt bonus</td>\n",
       "      <td>1609687506000</td>\n",
       "      <td>1609687506000</td>\n",
       "      <td>1.609688e+12</td>\n",
       "      <td>1609687511000</td>\n",
       "      <td>1.609688e+12</td>\n",
       "      <td>5.0</td>\n",
       "      <td>1.609601e+12</td>\n",
       "      <td>2.0</td>\n",
       "      <td>[{\"barcode\": \"4011\", \"description\": \"ITEM NOT ...</td>\n",
       "      <td>FINISHED</td>\n",
       "      <td>1.00</td>\n",
       "      <td>5ff1e194b6a9d73a3a9f1052</td>\n",
       "    </tr>\n",
       "    <tr>\n",
       "      <th>...</th>\n",
       "      <td>...</td>\n",
       "      <td>...</td>\n",
       "      <td>...</td>\n",
       "      <td>...</td>\n",
       "      <td>...</td>\n",
       "      <td>...</td>\n",
       "      <td>...</td>\n",
       "      <td>...</td>\n",
       "      <td>...</td>\n",
       "      <td>...</td>\n",
       "      <td>...</td>\n",
       "      <td>...</td>\n",
       "      <td>...</td>\n",
       "      <td>...</td>\n",
       "      <td>...</td>\n",
       "    </tr>\n",
       "    <tr>\n",
       "      <th>1114</th>\n",
       "      <td>603cc0630a720fde100003e6</td>\n",
       "      <td>25.0</td>\n",
       "      <td>COMPLETE_NONPARTNER_RECEIPT</td>\n",
       "      <td>1614594147000</td>\n",
       "      <td>1614594147000</td>\n",
       "      <td>NaN</td>\n",
       "      <td>1614594148000</td>\n",
       "      <td>NaN</td>\n",
       "      <td>25.0</td>\n",
       "      <td>1.597622e+12</td>\n",
       "      <td>2.0</td>\n",
       "      <td>[{\"barcode\": \"B076FJ92M4\", \"description\": \"mue...</td>\n",
       "      <td>REJECTED</td>\n",
       "      <td>34.96</td>\n",
       "      <td>5fc961c3b8cfca11a077dd33</td>\n",
       "    </tr>\n",
       "    <tr>\n",
       "      <th>1115</th>\n",
       "      <td>603d0b710a720fde1000042a</td>\n",
       "      <td>NaN</td>\n",
       "      <td>None</td>\n",
       "      <td>1614613361873</td>\n",
       "      <td>1614613361873</td>\n",
       "      <td>NaN</td>\n",
       "      <td>1614613361873</td>\n",
       "      <td>NaN</td>\n",
       "      <td>NaN</td>\n",
       "      <td>NaN</td>\n",
       "      <td>NaN</td>\n",
       "      <td>null</td>\n",
       "      <td>SUBMITTED</td>\n",
       "      <td>NaN</td>\n",
       "      <td>5fc961c3b8cfca11a077dd33</td>\n",
       "    </tr>\n",
       "    <tr>\n",
       "      <th>1116</th>\n",
       "      <td>603cf5290a720fde10000413</td>\n",
       "      <td>NaN</td>\n",
       "      <td>None</td>\n",
       "      <td>1614607657664</td>\n",
       "      <td>1614607657664</td>\n",
       "      <td>NaN</td>\n",
       "      <td>1614607657664</td>\n",
       "      <td>NaN</td>\n",
       "      <td>NaN</td>\n",
       "      <td>NaN</td>\n",
       "      <td>NaN</td>\n",
       "      <td>null</td>\n",
       "      <td>SUBMITTED</td>\n",
       "      <td>NaN</td>\n",
       "      <td>5fc961c3b8cfca11a077dd33</td>\n",
       "    </tr>\n",
       "    <tr>\n",
       "      <th>1117</th>\n",
       "      <td>603ce7100a7217c72c000405</td>\n",
       "      <td>25.0</td>\n",
       "      <td>COMPLETE_NONPARTNER_RECEIPT</td>\n",
       "      <td>1614604048000</td>\n",
       "      <td>1614604048000</td>\n",
       "      <td>NaN</td>\n",
       "      <td>1614604049000</td>\n",
       "      <td>NaN</td>\n",
       "      <td>25.0</td>\n",
       "      <td>1.597622e+12</td>\n",
       "      <td>2.0</td>\n",
       "      <td>[{\"barcode\": \"B076FJ92M4\", \"description\": \"mue...</td>\n",
       "      <td>REJECTED</td>\n",
       "      <td>34.96</td>\n",
       "      <td>5fc961c3b8cfca11a077dd33</td>\n",
       "    </tr>\n",
       "    <tr>\n",
       "      <th>1118</th>\n",
       "      <td>603c4fea0a7217c72c000389</td>\n",
       "      <td>NaN</td>\n",
       "      <td>None</td>\n",
       "      <td>1614565354962</td>\n",
       "      <td>1614565354962</td>\n",
       "      <td>NaN</td>\n",
       "      <td>1614565354962</td>\n",
       "      <td>NaN</td>\n",
       "      <td>NaN</td>\n",
       "      <td>NaN</td>\n",
       "      <td>NaN</td>\n",
       "      <td>null</td>\n",
       "      <td>SUBMITTED</td>\n",
       "      <td>NaN</td>\n",
       "      <td>5fc961c3b8cfca11a077dd33</td>\n",
       "    </tr>\n",
       "  </tbody>\n",
       "</table>\n",
       "<p>1119 rows × 15 columns</p>\n",
       "</div>"
      ],
      "text/plain": [
       "                            id  bonusPointsEarned  \\\n",
       "0     5ff1e1eb0a720f0523000575              500.0   \n",
       "1     5ff1e1bb0a720f052300056b              150.0   \n",
       "2     5ff1e1f10a720f052300057a                5.0   \n",
       "3     5ff1e1ee0a7214ada100056f                5.0   \n",
       "4     5ff1e1d20a7214ada1000561                5.0   \n",
       "...                        ...                ...   \n",
       "1114  603cc0630a720fde100003e6               25.0   \n",
       "1115  603d0b710a720fde1000042a                NaN   \n",
       "1116  603cf5290a720fde10000413                NaN   \n",
       "1117  603ce7100a7217c72c000405               25.0   \n",
       "1118  603c4fea0a7217c72c000389                NaN   \n",
       "\n",
       "                                bonusPointsEarnedReason     createDate  \\\n",
       "0     Receipt number 2 completed, bonus point schedu...  1609687531000   \n",
       "1     Receipt number 5 completed, bonus point schedu...  1609687483000   \n",
       "2                            All-receipts receipt bonus  1609687537000   \n",
       "3                            All-receipts receipt bonus  1609687534000   \n",
       "4                            All-receipts receipt bonus  1609687506000   \n",
       "...                                                 ...            ...   \n",
       "1114                        COMPLETE_NONPARTNER_RECEIPT  1614594147000   \n",
       "1115                                               None  1614613361873   \n",
       "1116                                               None  1614607657664   \n",
       "1117                        COMPLETE_NONPARTNER_RECEIPT  1614604048000   \n",
       "1118                                               None  1614565354962   \n",
       "\n",
       "        dateScanned  finishedDate     modifyDate  pointsAwardedDate  \\\n",
       "0     1609687531000  1.609688e+12  1609687536000       1.609688e+12   \n",
       "1     1609687483000  1.609687e+12  1609687488000       1.609687e+12   \n",
       "2     1609687537000           NaN  1609687542000                NaN   \n",
       "3     1609687534000  1.609688e+12  1609687539000       1.609688e+12   \n",
       "4     1609687506000  1.609688e+12  1609687511000       1.609688e+12   \n",
       "...             ...           ...            ...                ...   \n",
       "1114  1614594147000           NaN  1614594148000                NaN   \n",
       "1115  1614613361873           NaN  1614613361873                NaN   \n",
       "1116  1614607657664           NaN  1614607657664                NaN   \n",
       "1117  1614604048000           NaN  1614604049000                NaN   \n",
       "1118  1614565354962           NaN  1614565354962                NaN   \n",
       "\n",
       "      pointsEarned  purchaseDate  purchasedItemCount  \\\n",
       "0            500.0  1.609632e+12                 5.0   \n",
       "1            150.0  1.609601e+12                 2.0   \n",
       "2              5.0  1.609632e+12                 1.0   \n",
       "3              5.0  1.609632e+12                 4.0   \n",
       "4              5.0  1.609601e+12                 2.0   \n",
       "...            ...           ...                 ...   \n",
       "1114          25.0  1.597622e+12                 2.0   \n",
       "1115           NaN           NaN                 NaN   \n",
       "1116           NaN           NaN                 NaN   \n",
       "1117          25.0  1.597622e+12                 2.0   \n",
       "1118           NaN           NaN                 NaN   \n",
       "\n",
       "                                 rewardsReceiptItemList rewardsReceiptStatus  \\\n",
       "0     [{\"barcode\": \"4011\", \"description\": \"ITEM NOT ...             FINISHED   \n",
       "1     [{\"barcode\": \"4011\", \"description\": \"ITEM NOT ...             FINISHED   \n",
       "2     [{\"needsFetchReview\": false, \"partnerItemId\": ...             REJECTED   \n",
       "3     [{\"barcode\": \"4011\", \"description\": \"ITEM NOT ...             FINISHED   \n",
       "4     [{\"barcode\": \"4011\", \"description\": \"ITEM NOT ...             FINISHED   \n",
       "...                                                 ...                  ...   \n",
       "1114  [{\"barcode\": \"B076FJ92M4\", \"description\": \"mue...             REJECTED   \n",
       "1115                                               null            SUBMITTED   \n",
       "1116                                               null            SUBMITTED   \n",
       "1117  [{\"barcode\": \"B076FJ92M4\", \"description\": \"mue...             REJECTED   \n",
       "1118                                               null            SUBMITTED   \n",
       "\n",
       "      totalSpent                    userId  \n",
       "0          26.00  5ff1e1eacfcf6c399c274ae6  \n",
       "1          11.00  5ff1e194b6a9d73a3a9f1052  \n",
       "2          10.00  5ff1e1f1cfcf6c399c274b0b  \n",
       "3          28.00  5ff1e1eacfcf6c399c274ae6  \n",
       "4           1.00  5ff1e194b6a9d73a3a9f1052  \n",
       "...          ...                       ...  \n",
       "1114       34.96  5fc961c3b8cfca11a077dd33  \n",
       "1115         NaN  5fc961c3b8cfca11a077dd33  \n",
       "1116         NaN  5fc961c3b8cfca11a077dd33  \n",
       "1117       34.96  5fc961c3b8cfca11a077dd33  \n",
       "1118         NaN  5fc961c3b8cfca11a077dd33  \n",
       "\n",
       "[1119 rows x 15 columns]"
      ]
     },
     "execution_count": 33,
     "metadata": {},
     "output_type": "execute_result"
    }
   ],
   "source": [
    "receipts"
   ]
  },
  {
   "cell_type": "code",
   "execution_count": 34,
   "id": "bd268426",
   "metadata": {},
   "outputs": [
    {
     "data": {
      "text/html": [
       "<div>\n",
       "<style scoped>\n",
       "    .dataframe tbody tr th:only-of-type {\n",
       "        vertical-align: middle;\n",
       "    }\n",
       "\n",
       "    .dataframe tbody tr th {\n",
       "        vertical-align: top;\n",
       "    }\n",
       "\n",
       "    .dataframe thead th {\n",
       "        text-align: right;\n",
       "    }\n",
       "</style>\n",
       "<table border=\"1\" class=\"dataframe\">\n",
       "  <thead>\n",
       "    <tr style=\"text-align: right;\">\n",
       "      <th></th>\n",
       "      <th>avg_spends</th>\n",
       "      <th>total_items_purchased</th>\n",
       "    </tr>\n",
       "    <tr>\n",
       "      <th>rewardsReceiptStatus</th>\n",
       "      <th></th>\n",
       "      <th></th>\n",
       "    </tr>\n",
       "  </thead>\n",
       "  <tbody>\n",
       "    <tr>\n",
       "      <th>FINISHED</th>\n",
       "      <td>80.854305</td>\n",
       "      <td>8184.0</td>\n",
       "    </tr>\n",
       "    <tr>\n",
       "      <th>FLAGGED</th>\n",
       "      <td>180.451739</td>\n",
       "      <td>1014.0</td>\n",
       "    </tr>\n",
       "    <tr>\n",
       "      <th>PENDING</th>\n",
       "      <td>28.032449</td>\n",
       "      <td>0.0</td>\n",
       "    </tr>\n",
       "    <tr>\n",
       "      <th>REJECTED</th>\n",
       "      <td>23.326056</td>\n",
       "      <td>173.0</td>\n",
       "    </tr>\n",
       "    <tr>\n",
       "      <th>SUBMITTED</th>\n",
       "      <td>NaN</td>\n",
       "      <td>0.0</td>\n",
       "    </tr>\n",
       "  </tbody>\n",
       "</table>\n",
       "</div>"
      ],
      "text/plain": [
       "                      avg_spends  total_items_purchased\n",
       "rewardsReceiptStatus                                   \n",
       "FINISHED               80.854305                 8184.0\n",
       "FLAGGED               180.451739                 1014.0\n",
       "PENDING                28.032449                    0.0\n",
       "REJECTED               23.326056                  173.0\n",
       "SUBMITTED                    NaN                    0.0"
      ]
     },
     "execution_count": 34,
     "metadata": {},
     "output_type": "execute_result"
    }
   ],
   "source": [
    "receipts.groupby(['rewardsReceiptStatus']).agg(avg_spends = ('totalSpent', np.mean),\n",
    "                                               total_items_purchased = ('purchasedItemCount', sum))"
   ]
  },
  {
   "cell_type": "markdown",
   "id": "201ffef8",
   "metadata": {},
   "source": [
    "### Answer 3 \n",
    "We can see that for rewardsReceiptStatus = 'FINISHED' (meaning ACCEPTED), the average spends (80.9) is higher\n",
    "than average spends of rewardsReceiptStatus = 'REJECTED' (23.3)\n",
    "\n",
    "\n",
    "### Answer 4\n",
    "We can see that for rewardsReceiptStatus = 'FINISHED' (meaning ACCEPTED), the total number of items purchased (8184) is higher than total number of items purchased of rewardsReceiptStatus = 'REJECTED' (173)\n",
    "\n",
    "\n"
   ]
  },
  {
   "cell_type": "markdown",
   "id": "2b283d69",
   "metadata": {},
   "source": [
    "### 5. Which brand has the most spend among users who were created within the past 6 months?\n",
    "### 6. Which brand has the most transactions among users who were created within the past 6 months?\n",
    "\n",
    "For this we use the brands scanned table to find item level transactions and pricing, but with a filter of users registered within the last 6 months (Assuming Mar 1, 2021 as the cutoff date)"
   ]
  },
  {
   "cell_type": "code",
   "execution_count": 35,
   "id": "2516be41",
   "metadata": {},
   "outputs": [],
   "source": [
    "brands_scan_users = pd.read_sql('''\n",
    "select rec.id, userId, u.reg_date, coalesce(upper(b.name), upper(rec.description)) as brand_name\n",
    ",b.categoryCode, b.topBrand, description, scanned_date, created_date, finished_date\n",
    ",coalesce(finalPrice, userFlaggedPrice) as price\n",
    "from (\n",
    "select r.id, r.UserId \n",
    ",CAST(JSON_EXTRACT(j.value, '$.barcode') as VARCHAR) as barcode \n",
    ",CAST(JSON_EXTRACT(j.value, '$.rewardsProductPartnerId') as VARCHAR) as rewardsProductPartnerId \n",
    ",CAST(JSON_EXTRACT(j.value, '$.description') as VARCHAR) as description \n",
    ",CAST(JSON_EXTRACT(j.value, '$.finalPrice') as REAL) as finalPrice \n",
    ",CAST(JSON_EXTRACT(j.value, '$.userFlaggedPrice') as REAL) as userFlaggedPrice \n",
    ",DATETIME(ROUND(dateScanned / 1000), 'unixepoch') as scanned_date\n",
    ",DATETIME(ROUND(createDate / 1000), 'unixepoch') as created_date\n",
    ",DATETIME(ROUND(finishedDate / 1000), 'unixepoch') as finished_date\n",
    ",rewardsReceiptStatus\n",
    ",pointsEarned\n",
    ",totalSpent\n",
    ",purchasedItemCount\n",
    "from receipts r, json_each(rewardsReceiptItemList) j\n",
    ") rec \n",
    "left join brands b\n",
    "on rec.rewardsProductPartnerId = b.cpg_id\n",
    "left join (select distinct id, date(DATETIME(ROUND(createdDate / 1000), 'unixepoch')) as reg_date \n",
    "from users) u\n",
    "on rec.userId = u.id\n",
    "where u.reg_date between date('2020-09-01') and date('2021-03-01')\n",
    "''', conn)"
   ]
  },
  {
   "cell_type": "code",
   "execution_count": 36,
   "id": "b11767f1",
   "metadata": {},
   "outputs": [
    {
     "name": "stdout",
     "output_type": "stream",
     "text": [
      "<class 'pandas.core.frame.DataFrame'>\n",
      "RangeIndex: 101479 entries, 0 to 101478\n",
      "Data columns (total 11 columns):\n",
      " #   Column         Non-Null Count   Dtype  \n",
      "---  ------         --------------   -----  \n",
      " 0   id             101479 non-null  object \n",
      " 1   UserId         101479 non-null  object \n",
      " 2   reg_date       101479 non-null  object \n",
      " 3   brand_name     100989 non-null  object \n",
      " 4   categoryCode   1632 non-null    object \n",
      " 5   topBrand       98386 non-null   float64\n",
      " 6   description    99208 non-null   object \n",
      " 7   scanned_date   101479 non-null  object \n",
      " 8   created_date   101479 non-null  object \n",
      " 9   finished_date  97160 non-null   object \n",
      " 10  price          101044 non-null  float64\n",
      "dtypes: float64(2), object(9)\n",
      "memory usage: 8.5+ MB\n"
     ]
    }
   ],
   "source": [
    "brands_scan_users.info()"
   ]
  },
  {
   "cell_type": "code",
   "execution_count": 37,
   "id": "8ed73a99",
   "metadata": {},
   "outputs": [
    {
     "data": {
      "text/plain": [
       "Series([], Name: brand_name, dtype: int64)"
      ]
     },
     "execution_count": 37,
     "metadata": {},
     "output_type": "execute_result"
    }
   ],
   "source": [
    "brands_scan_users.loc[brands_scan_users['price'].isnull(), 'brand_name'].value_counts()"
   ]
  },
  {
   "cell_type": "code",
   "execution_count": 38,
   "id": "18164d58",
   "metadata": {},
   "outputs": [
    {
     "data": {
      "text/plain": [
       "'2020-11-04'"
      ]
     },
     "execution_count": 38,
     "metadata": {},
     "output_type": "execute_result"
    }
   ],
   "source": [
    "brands_scan_users['reg_date'].min()"
   ]
  },
  {
   "cell_type": "code",
   "execution_count": 39,
   "id": "ce5ca57a",
   "metadata": {},
   "outputs": [
    {
     "data": {
      "text/plain": [
       "'2021-02-12'"
      ]
     },
     "execution_count": 39,
     "metadata": {},
     "output_type": "execute_result"
    }
   ],
   "source": [
    "brands_scan_users['reg_date'].max()"
   ]
  },
  {
   "cell_type": "code",
   "execution_count": 40,
   "id": "0cfe070d",
   "metadata": {},
   "outputs": [],
   "source": [
    "brands = brands_scan_users.groupby(['brand_name']).agg(spends = ('price', sum),\n",
    "                                              transactions = ('id', 'count')\n",
    "                                             ).reset_index()"
   ]
  },
  {
   "cell_type": "code",
   "execution_count": 41,
   "id": "2f112a07",
   "metadata": {},
   "outputs": [
    {
     "data": {
      "text/html": [
       "<div>\n",
       "<style scoped>\n",
       "    .dataframe tbody tr th:only-of-type {\n",
       "        vertical-align: middle;\n",
       "    }\n",
       "\n",
       "    .dataframe tbody tr th {\n",
       "        vertical-align: top;\n",
       "    }\n",
       "\n",
       "    .dataframe thead th {\n",
       "        text-align: right;\n",
       "    }\n",
       "</style>\n",
       "<table border=\"1\" class=\"dataframe\">\n",
       "  <thead>\n",
       "    <tr style=\"text-align: right;\">\n",
       "      <th></th>\n",
       "      <th>brand_name</th>\n",
       "      <th>spends</th>\n",
       "      <th>transactions</th>\n",
       "    </tr>\n",
       "  </thead>\n",
       "  <tbody>\n",
       "    <tr>\n",
       "      <th>914</th>\n",
       "      <td>PULL-UPS</td>\n",
       "      <td>4647.66</td>\n",
       "      <td>350</td>\n",
       "    </tr>\n",
       "  </tbody>\n",
       "</table>\n",
       "</div>"
      ],
      "text/plain": [
       "    brand_name   spends  transactions\n",
       "914   PULL-UPS  4647.66           350"
      ]
     },
     "execution_count": 41,
     "metadata": {},
     "output_type": "execute_result"
    }
   ],
   "source": [
    "#Brand with most spends\n",
    "brands.sort_values(by=['spends'],ascending=False).head(1)"
   ]
  },
  {
   "cell_type": "code",
   "execution_count": 42,
   "id": "46859b8f",
   "metadata": {},
   "outputs": [
    {
     "data": {
      "text/html": [
       "<div>\n",
       "<style scoped>\n",
       "    .dataframe tbody tr th:only-of-type {\n",
       "        vertical-align: middle;\n",
       "    }\n",
       "\n",
       "    .dataframe tbody tr th {\n",
       "        vertical-align: top;\n",
       "    }\n",
       "\n",
       "    .dataframe thead th {\n",
       "        text-align: right;\n",
       "    }\n",
       "</style>\n",
       "<table border=\"1\" class=\"dataframe\">\n",
       "  <thead>\n",
       "    <tr style=\"text-align: right;\">\n",
       "      <th></th>\n",
       "      <th>brand_name</th>\n",
       "      <th>spends</th>\n",
       "      <th>transactions</th>\n",
       "    </tr>\n",
       "  </thead>\n",
       "  <tbody>\n",
       "    <tr>\n",
       "      <th>286</th>\n",
       "      <td>DIGIORNO CHEESE</td>\n",
       "      <td>4634.17</td>\n",
       "      <td>642</td>\n",
       "    </tr>\n",
       "  </tbody>\n",
       "</table>\n",
       "</div>"
      ],
      "text/plain": [
       "          brand_name   spends  transactions\n",
       "286  DIGIORNO CHEESE  4634.17           642"
      ]
     },
     "execution_count": 42,
     "metadata": {},
     "output_type": "execute_result"
    }
   ],
   "source": [
    "#Brand with most transactions\n",
    "brands.sort_values(by=['transactions'],ascending=False).head(1)"
   ]
  },
  {
   "cell_type": "markdown",
   "id": "5cc814f7",
   "metadata": {},
   "source": [
    "### Answer 5\n",
    "Brand with most spends: PULL-UPS (4647)\n",
    "\n",
    "### Answer 6\n",
    "Brand with most transactions: DIGIORNO CHEESE (642)\n"
   ]
  },
  {
   "cell_type": "code",
   "execution_count": null,
   "id": "f2c06561",
   "metadata": {},
   "outputs": [],
   "source": []
  }
 ],
 "metadata": {
  "kernelspec": {
   "display_name": "Python 3 (ipykernel)",
   "language": "python",
   "name": "python3"
  },
  "language_info": {
   "codemirror_mode": {
    "name": "ipython",
    "version": 3
   },
   "file_extension": ".py",
   "mimetype": "text/x-python",
   "name": "python",
   "nbconvert_exporter": "python",
   "pygments_lexer": "ipython3",
   "version": "3.9.7"
  }
 },
 "nbformat": 4,
 "nbformat_minor": 5
}
